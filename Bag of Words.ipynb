{
 "cells": [
  {
   "cell_type": "markdown",
   "metadata": {},
   "source": [
    "# Κώδικας\n",
    "Αρχικά κάνουμε εισαγωγή των βιβλιοθηκών που θα χρησιμοποιήσουμε"
   ]
  },
  {
   "cell_type": "code",
   "execution_count": 7,
   "metadata": {},
   "outputs": [],
   "source": [
    "from sklearn.tree import DecisionTreeClassifier\n",
    "from sklearn.model_selection import train_test_split\n",
    "import matplotlib.pyplot as plt\n",
    "import numpy as np\n",
    "from sklearn.feature_selection import SelectKBest\n",
    "from sklearn.feature_selection import chi2\n",
    "from sklearn.feature_selection import mutual_info_classif\n",
    "from sklearn.feature_selection import f_classif\n",
    "from sklearn.linear_model import Lasso\n",
    "from sklearn.linear_model import Ridge\n",
    "from sklearn.feature_selection import SelectFromModel\n",
    "from sklearn.naive_bayes import GaussianNB\n",
    "import pandas as pd"
   ]
  },
  {
   "cell_type": "markdown",
   "metadata": {},
   "source": [
    "Στη συνέχεια εισάγουμε το dataset που θα χρησιμοποιήσουμε ως ένα Pandas DataFrame και το ελέγχουμε συνοπτικά."
   ]
  },
  {
   "cell_type": "code",
   "execution_count": 9,
   "metadata": {},
   "outputs": [
    {
     "name": "stdout",
     "output_type": "stream",
     "text": [
      "<class 'pandas.core.frame.DataFrame'>\n",
      "RangeIndex: 569 entries, 0 to 568\n",
      "Data columns (total 33 columns):\n",
      " #   Column                   Non-Null Count  Dtype  \n",
      "---  ------                   --------------  -----  \n",
      " 0   id                       569 non-null    int64  \n",
      " 1   diagnosis                569 non-null    object \n",
      " 2   radius_mean              569 non-null    float64\n",
      " 3   texture_mean             569 non-null    float64\n",
      " 4   perimeter_mean           569 non-null    float64\n",
      " 5   area_mean                569 non-null    float64\n",
      " 6   smoothness_mean          569 non-null    float64\n",
      " 7   compactness_mean         569 non-null    float64\n",
      " 8   concavity_mean           569 non-null    float64\n",
      " 9   concave points_mean      569 non-null    float64\n",
      " 10  symmetry_mean            569 non-null    float64\n",
      " 11  fractal_dimension_mean   569 non-null    float64\n",
      " 12  radius_se                569 non-null    float64\n",
      " 13  texture_se               569 non-null    float64\n",
      " 14  perimeter_se             569 non-null    float64\n",
      " 15  area_se                  569 non-null    float64\n",
      " 16  smoothness_se            569 non-null    float64\n",
      " 17  compactness_se           569 non-null    float64\n",
      " 18  concavity_se             569 non-null    float64\n",
      " 19  concave points_se        569 non-null    float64\n",
      " 20  symmetry_se              569 non-null    float64\n",
      " 21  fractal_dimension_se     569 non-null    float64\n",
      " 22  radius_worst             569 non-null    float64\n",
      " 23  texture_worst            569 non-null    float64\n",
      " 24  perimeter_worst          569 non-null    float64\n",
      " 25  area_worst               569 non-null    float64\n",
      " 26  smoothness_worst         569 non-null    float64\n",
      " 27  compactness_worst        569 non-null    float64\n",
      " 28  concavity_worst          569 non-null    float64\n",
      " 29  concave points_worst     569 non-null    float64\n",
      " 30  symmetry_worst           569 non-null    float64\n",
      " 31  fractal_dimension_worst  569 non-null    float64\n",
      " 32  Unnamed: 32              0 non-null      float64\n",
      "dtypes: float64(31), int64(1), object(1)\n",
      "memory usage: 144.5+ KB\n"
     ]
    }
   ],
   "source": [
    "data = pd.read_csv(r'C:\\Users\\user\\Desktop\\datasets\\dokimastika\\data.csv')\n",
    "data.info()"
   ]
  },
  {
   "cell_type": "markdown",
   "metadata": {},
   "source": [
    "Θα κρατήσουμε ως labels των κατηγοριών μας το χαρακτηριστικό 'diagnosis' και τα features 2-31 θα χρησιμοποιηθούν ως δεδομένα ανάλυσης."
   ]
  },
  {
   "cell_type": "markdown",
   "metadata": {},
   "source": [
    "Αρχικά για να έχουμε μια πρώτη εικόνα του δείγματός μας, θα φτιάξουμε ένα pie chart που θα μας δείχνει την κατανωμή των κατηγοριών."
   ]
  },
  {
   "cell_type": "code",
   "execution_count": 25,
   "metadata": {},
   "outputs": [
    {
     "data": {
      "image/png": "[encoded data removed]",
      "text/plain": [
       "<Figure size 432x288 with 1 Axes>"
      ]
     },
     "metadata": {},
     "output_type": "display_data"
    }
   ],
   "source": [
    "def label_function(val):\n",
    "    return f'{val / 100 * len(df):.0f}\\n{val:.0f}%'\n",
    "\n",
    "data.groupby('diagnosis').size().plot(kind='pie', autopct=label_function, textprops={'fontsize': 20},\n",
    "                                  colors=['tomato', 'gold', 'skyblue'])\n",
    "plt.title('Διαχωρισμός δείγματος')\n",
    "plt.ylabel('Μ = κακοήθης όγκος\\nΒ = καλοήθης όγκος')\n",
    "plt.show()"
   ]
  },
  {
   "cell_type": "markdown",
   "metadata": {},
   "source": [
    "Παρατηρούμε λοιπόν ότι στο δείγμα μας έχου 37% κακοήθεις όγκους (M = Maligant) και 63% καλοήθεις (B = Benign)."
   ]
  },
  {
   "cell_type": "markdown",
   "metadata": {},
   "source": [
    "Έπειτα διαχωρίζουμε τα δεδομένα που θα χρησιμοποιήσουμε X (τροποποιώντας τα σε numpy arrays) σε σχέση με τους κατηγοριοποιητές Y και μετασχηματίζουμε τα labels των κατηγοριών τοποθετώντας 1 στα labels των κακοήθων όγκων και 0 στα labels των καλοήθων όγκων."
   ]
  },
  {
   "cell_type": "code",
   "execution_count": 29,
   "metadata": {},
   "outputs": [],
   "source": [
    "new_data = data.to_numpy()\n",
    "X = new_data[:, 3:31]\n",
    "Y = new_data[:,1]\n",
    "for i in range(len(Y)):\n",
    "    if Y[i] == 'M':\n",
    "        Y[i]=1\n",
    "    else:\n",
    "        Y[i] = 0\n",
    "\n",
    "Y = list(Y)"
   ]
  },
  {
   "cell_type": "markdown",
   "metadata": {},
   "source": [
    "Στη μελέτη μας η οποία αποσκοπεί στη σύγκριση των διαφόρων μεθόδων επιλογής χαρακτηριστικών, θα χρησιμοποιήσουμε ως classifiers δέντρα αποφάσεων και Naive Bayes. Όσον αφορά τα δέντρα αποφάσεων, για να υπάρχει ποικιλία, θα χρησιμοποιηθεί ο CRASP αλγόριθμος για τη δημιουργία τους, ενώ θα έχουμε "
   ]
  }
 ],
 "metadata": {
  "kernelspec": {
   "display_name": "Python 3",
   "language": "python",
   "name": "python3"
  },
  "language_info": {
   "codemirror_mode": {
    "name": "ipython",
    "version": 3
   },
   "file_extension": ".py",
   "mimetype": "text/x-python",
   "name": "python",
   "nbconvert_exporter": "python",
   "pygments_lexer": "ipython3",
   "version": "3.7.6"
  }
 },
 "nbformat": 4,
 "nbformat_minor": 4
}
