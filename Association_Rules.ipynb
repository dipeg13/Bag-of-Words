{
 "cells": [
  {
   "cell_type": "code",
   "execution_count": 6,
   "id": "1697a1e8",
   "metadata": {},
   "outputs": [],
   "source": [
    "from mlxtend.preprocessing import TransactionEncoder\n",
    "from mlxtend.frequent_patterns import apriori, fpmax, fpgrowth\n",
    "from sklearn.feature_extraction.text import TfidfVectorizer, CountVectorizer\n",
    "import re\n",
    "import numpy as np\n",
    "from nltk.corpus import stopwords\n",
    "from nltk.stem.porter import PorterStemmer"
   ]
  },
  {
   "cell_type": "code",
   "execution_count": 7,
   "id": "e41fa9ad",
   "metadata": {},
   "outputs": [],
   "source": [
    "def stemming(content):\n",
    "    port_stem = PorterStemmer()\n",
    "    stop_words = stopwords.words('english')\n",
    "\n",
    "    stemmed_content = re.sub('[^a-zA-Z]',' ',content)\n",
    "    stemmed_content = stemmed_content.lower()\n",
    "    stemmed_content = stemmed_content.split()\n",
    "    stemmed_content = [port_stem.stem(word) for word in stemmed_content if not word in stop_words]\n",
    "    stemmed_content = ' '.join(stemmed_content)\n",
    "    return stemmed_content"
   ]
  },
  {
   "cell_type": "code",
   "execution_count": 8,
   "id": "6d7096c5",
   "metadata": {},
   "outputs": [
    {
     "name": "stdout",
     "output_type": "stream",
     "text": [
      "Wall time: 1.58 s\n"
     ]
    }
   ],
   "source": [
    "%%time\n",
    "train = pd.read_csv(r'C:\\Users\\user\\Desktop\\Μεταπτυχιακό\\Εργασίες\\Data Mining\\Χαλκίδη\\data\\train.csv')\n",
    "test = pd.read_csv(r'C:\\Users\\user\\Desktop\\Μεταπτυχιακό\\Εργασίες\\Data Mining\\Χαλκίδη\\data\\test.csv')\n",
    "submit = pd.read_csv(r'C:\\Users\\user\\Desktop\\Μεταπτυχιακό\\Εργασίες\\Data Mining\\Χαλκίδη\\data\\submit.csv')\n",
    "\n",
    "test = pd.merge(test,submit,on='id')\n",
    "total = pd.concat([train,test])\n",
    "\n",
    "total = total.fillna('')\n",
    "total = total.loc[total['text'] != '']"
   ]
  },
  {
   "cell_type": "code",
   "execution_count": 9,
   "id": "4fb2f365",
   "metadata": {},
   "outputs": [
    {
     "name": "stdout",
     "output_type": "stream",
     "text": [
      "Wall time: 5min 25s\n"
     ]
    }
   ],
   "source": [
    "%%time\n",
    "total['text'] = total['text'].apply(stemming)"
   ]
  },
  {
   "cell_type": "code",
   "execution_count": 20,
   "id": "394177c1",
   "metadata": {},
   "outputs": [
    {
     "data": {
      "text/html": [
       "<div>\n",
       "<style scoped>\n",
       "    .dataframe tbody tr th:only-of-type {\n",
       "        vertical-align: middle;\n",
       "    }\n",
       "\n",
       "    .dataframe tbody tr th {\n",
       "        vertical-align: top;\n",
       "    }\n",
       "\n",
       "    .dataframe thead th {\n",
       "        text-align: right;\n",
       "    }\n",
       "</style>\n",
       "<table border=\"1\" class=\"dataframe\">\n",
       "  <thead>\n",
       "    <tr style=\"text-align: right;\">\n",
       "      <th></th>\n",
       "      <th>id</th>\n",
       "      <th>title</th>\n",
       "      <th>author</th>\n",
       "      <th>text</th>\n",
       "      <th>label</th>\n",
       "    </tr>\n",
       "  </thead>\n",
       "  <tbody>\n",
       "    <tr>\n",
       "      <th>0</th>\n",
       "      <td>0</td>\n",
       "      <td>House Dem Aide: We Didn’t Even See Comey’s Let...</td>\n",
       "      <td>Darrell Lucus</td>\n",
       "      <td>hous dem aid even see comey letter jason chaff...</td>\n",
       "      <td>1</td>\n",
       "    </tr>\n",
       "    <tr>\n",
       "      <th>1</th>\n",
       "      <td>1</td>\n",
       "      <td>FLYNN: Hillary Clinton, Big Woman on Campus - ...</td>\n",
       "      <td>Daniel J. Flynn</td>\n",
       "      <td>ever get feel life circl roundabout rather hea...</td>\n",
       "      <td>0</td>\n",
       "    </tr>\n",
       "    <tr>\n",
       "      <th>2</th>\n",
       "      <td>2</td>\n",
       "      <td>Why the Truth Might Get You Fired</td>\n",
       "      <td>Consortiumnews.com</td>\n",
       "      <td>truth might get fire octob tension intellig an...</td>\n",
       "      <td>1</td>\n",
       "    </tr>\n",
       "    <tr>\n",
       "      <th>3</th>\n",
       "      <td>3</td>\n",
       "      <td>15 Civilians Killed In Single US Airstrike Hav...</td>\n",
       "      <td>Jessica Purkiss</td>\n",
       "      <td>video civilian kill singl us airstrik identifi...</td>\n",
       "      <td>1</td>\n",
       "    </tr>\n",
       "    <tr>\n",
       "      <th>4</th>\n",
       "      <td>4</td>\n",
       "      <td>Iranian woman jailed for fictional unpublished...</td>\n",
       "      <td>Howard Portnoy</td>\n",
       "      <td>print iranian woman sentenc six year prison ir...</td>\n",
       "      <td>1</td>\n",
       "    </tr>\n",
       "    <tr>\n",
       "      <th>...</th>\n",
       "      <td>...</td>\n",
       "      <td>...</td>\n",
       "      <td>...</td>\n",
       "      <td>...</td>\n",
       "      <td>...</td>\n",
       "    </tr>\n",
       "    <tr>\n",
       "      <th>5195</th>\n",
       "      <td>25995</td>\n",
       "      <td>The Bangladeshi Traffic Jam That Never Ends - ...</td>\n",
       "      <td>Jody Rosen</td>\n",
       "      <td>dysfunct plagu world megac none may pernici ba...</td>\n",
       "      <td>0</td>\n",
       "    </tr>\n",
       "    <tr>\n",
       "      <th>5196</th>\n",
       "      <td>25996</td>\n",
       "      <td>John Kasich Signs One Abortion Bill in Ohio bu...</td>\n",
       "      <td>Sheryl Gay Stolberg</td>\n",
       "      <td>washington gov john kasich ohio tuesday sign l...</td>\n",
       "      <td>1</td>\n",
       "    </tr>\n",
       "    <tr>\n",
       "      <th>5197</th>\n",
       "      <td>25997</td>\n",
       "      <td>California Today: What, Exactly, Is in Your Su...</td>\n",
       "      <td>Mike McPhate</td>\n",
       "      <td>good morn want get california today email joan...</td>\n",
       "      <td>0</td>\n",
       "    </tr>\n",
       "    <tr>\n",
       "      <th>5198</th>\n",
       "      <td>25998</td>\n",
       "      <td>300 US Marines To Be Deployed To Russian Borde...</td>\n",
       "      <td></td>\n",
       "      <td>previou next us marin deploy russian border no...</td>\n",
       "      <td>1</td>\n",
       "    </tr>\n",
       "    <tr>\n",
       "      <th>5199</th>\n",
       "      <td>25999</td>\n",
       "      <td>Awkward Sex, Onscreen and Off - The New York T...</td>\n",
       "      <td>Teddy Wayne</td>\n",
       "      <td>perhap seen new tv seri whose pilot episod beg...</td>\n",
       "      <td>0</td>\n",
       "    </tr>\n",
       "  </tbody>\n",
       "</table>\n",
       "<p>25954 rows × 5 columns</p>\n",
       "</div>"
      ],
      "text/plain": [
       "         id                                              title  \\\n",
       "0         0  House Dem Aide: We Didn’t Even See Comey’s Let...   \n",
       "1         1  FLYNN: Hillary Clinton, Big Woman on Campus - ...   \n",
       "2         2                  Why the Truth Might Get You Fired   \n",
       "3         3  15 Civilians Killed In Single US Airstrike Hav...   \n",
       "4         4  Iranian woman jailed for fictional unpublished...   \n",
       "...     ...                                                ...   \n",
       "5195  25995  The Bangladeshi Traffic Jam That Never Ends - ...   \n",
       "5196  25996  John Kasich Signs One Abortion Bill in Ohio bu...   \n",
       "5197  25997  California Today: What, Exactly, Is in Your Su...   \n",
       "5198  25998  300 US Marines To Be Deployed To Russian Borde...   \n",
       "5199  25999  Awkward Sex, Onscreen and Off - The New York T...   \n",
       "\n",
       "                   author                                               text  \\\n",
       "0           Darrell Lucus  hous dem aid even see comey letter jason chaff...   \n",
       "1         Daniel J. Flynn  ever get feel life circl roundabout rather hea...   \n",
       "2      Consortiumnews.com  truth might get fire octob tension intellig an...   \n",
       "3         Jessica Purkiss  video civilian kill singl us airstrik identifi...   \n",
       "4          Howard Portnoy  print iranian woman sentenc six year prison ir...   \n",
       "...                   ...                                                ...   \n",
       "5195           Jody Rosen  dysfunct plagu world megac none may pernici ba...   \n",
       "5196  Sheryl Gay Stolberg  washington gov john kasich ohio tuesday sign l...   \n",
       "5197         Mike McPhate  good morn want get california today email joan...   \n",
       "5198                       previou next us marin deploy russian border no...   \n",
       "5199          Teddy Wayne  perhap seen new tv seri whose pilot episod beg...   \n",
       "\n",
       "      label  \n",
       "0         1  \n",
       "1         0  \n",
       "2         1  \n",
       "3         1  \n",
       "4         1  \n",
       "...     ...  \n",
       "5195      0  \n",
       "5196      1  \n",
       "5197      0  \n",
       "5198      1  \n",
       "5199      0  \n",
       "\n",
       "[25954 rows x 5 columns]"
      ]
     },
     "execution_count": 20,
     "metadata": {},
     "output_type": "execute_result"
    }
   ],
   "source": [
    "total"
   ]
  },
  {
   "cell_type": "code",
   "execution_count": 19,
   "id": "813d262d",
   "metadata": {},
   "outputs": [],
   "source": [
    "texts = np.asarray(total['text'])"
   ]
  },
  {
   "cell_type": "code",
   "execution_count": 21,
   "id": "00482d54",
   "metadata": {},
   "outputs": [],
   "source": [
    "labels = np.asarray(total['label'])"
   ]
  },
  {
   "cell_type": "code",
   "execution_count": 27,
   "id": "a86b26b9",
   "metadata": {},
   "outputs": [
    {
     "name": "stdout",
     "output_type": "stream",
     "text": [
      "Wall time: 7.96 s\n"
     ]
    }
   ],
   "source": [
    "%%time\n",
    "vect = CountVectorizer().fit(texts)"
   ]
  },
  {
   "cell_type": "code",
   "execution_count": 33,
   "id": "61ccc4b7",
   "metadata": {},
   "outputs": [
    {
     "name": "stdout",
     "output_type": "stream",
     "text": [
      "Wall time: 7.47 s\n"
     ]
    }
   ],
   "source": [
    "%%time\n",
    "X = vect.transform(texts)"
   ]
  },
  {
   "cell_type": "code",
   "execution_count": 105,
   "id": "6adb223a",
   "metadata": {},
   "outputs": [],
   "source": [
    "col = np.asarray(vect.get_feature_names_out())"
   ]
  },
  {
   "cell_type": "code",
   "execution_count": 136,
   "id": "23e3ee66",
   "metadata": {},
   "outputs": [
    {
     "name": "stdout",
     "output_type": "stream",
     "text": [
      "Wall time: 2min 57s\n"
     ]
    }
   ],
   "source": [
    "%%time\n",
    "data = []\n",
    "for doc in range(X.shape[0]):\n",
    "    row = []\n",
    "    indices = X[doc,:].nonzero()\n",
    "    for ind in indices[1]:\n",
    "        for times in range(X[doc,ind]):\n",
    "            row.append(col[ind])\n",
    "    data.append(row)"
   ]
  },
  {
   "cell_type": "code",
   "execution_count": 142,
   "id": "43353156",
   "metadata": {},
   "outputs": [
    {
     "name": "stdout",
     "output_type": "stream",
     "text": [
      "Wall time: 10.6 s\n"
     ]
    }
   ],
   "source": [
    "%%time\n",
    "te = TransactionEncoder()\n",
    "te_ary = te.fit(data).transform(data)\n",
    "df = pd.DataFrame(te_ary, columns=te.columns_)\n",
    "\n",
    "frequent_itemsets = fpgrowth(df, use_colnames=True)"
   ]
  },
  {
   "cell_type": "code",
   "execution_count": 143,
   "id": "2c8632ec",
   "metadata": {},
   "outputs": [
    {
     "data": {
      "text/html": [
       "<div>\n",
       "<style scoped>\n",
       "    .dataframe tbody tr th:only-of-type {\n",
       "        vertical-align: middle;\n",
       "    }\n",
       "\n",
       "    .dataframe tbody tr th {\n",
       "        vertical-align: top;\n",
       "    }\n",
       "\n",
       "    .dataframe thead th {\n",
       "        text-align: right;\n",
       "    }\n",
       "</style>\n",
       "<table border=\"1\" class=\"dataframe\">\n",
       "  <thead>\n",
       "    <tr style=\"text-align: right;\">\n",
       "      <th></th>\n",
       "      <th>support</th>\n",
       "      <th>itemsets</th>\n",
       "    </tr>\n",
       "  </thead>\n",
       "  <tbody>\n",
       "    <tr>\n",
       "      <th>0</th>\n",
       "      <td>0.614664</td>\n",
       "      <td>(one)</td>\n",
       "    </tr>\n",
       "    <tr>\n",
       "      <th>1</th>\n",
       "      <td>0.557756</td>\n",
       "      <td>(time)</td>\n",
       "    </tr>\n",
       "    <tr>\n",
       "      <th>2</th>\n",
       "      <td>0.540687</td>\n",
       "      <td>(also)</td>\n",
       "    </tr>\n",
       "    <tr>\n",
       "      <th>3</th>\n",
       "      <td>0.536719</td>\n",
       "      <td>(year)</td>\n",
       "    </tr>\n",
       "    <tr>\n",
       "      <th>4</th>\n",
       "      <td>0.535717</td>\n",
       "      <td>(like)</td>\n",
       "    </tr>\n",
       "    <tr>\n",
       "      <th>5</th>\n",
       "      <td>0.622255</td>\n",
       "      <td>(said)</td>\n",
       "    </tr>\n",
       "    <tr>\n",
       "      <th>6</th>\n",
       "      <td>0.537220</td>\n",
       "      <td>(peopl)</td>\n",
       "    </tr>\n",
       "    <tr>\n",
       "      <th>7</th>\n",
       "      <td>0.508168</td>\n",
       "      <td>(new)</td>\n",
       "    </tr>\n",
       "    <tr>\n",
       "      <th>8</th>\n",
       "      <td>0.544579</td>\n",
       "      <td>(would)</td>\n",
       "    </tr>\n",
       "    <tr>\n",
       "      <th>9</th>\n",
       "      <td>0.509324</td>\n",
       "      <td>(state)</td>\n",
       "    </tr>\n",
       "  </tbody>\n",
       "</table>\n",
       "</div>"
      ],
      "text/plain": [
       "    support itemsets\n",
       "0  0.614664    (one)\n",
       "1  0.557756   (time)\n",
       "2  0.540687   (also)\n",
       "3  0.536719   (year)\n",
       "4  0.535717   (like)\n",
       "5  0.622255   (said)\n",
       "6  0.537220  (peopl)\n",
       "7  0.508168    (new)\n",
       "8  0.544579  (would)\n",
       "9  0.509324  (state)"
      ]
     },
     "execution_count": 143,
     "metadata": {},
     "output_type": "execute_result"
    }
   ],
   "source": [
    "frequent_itemsets"
   ]
  },
  {
   "cell_type": "code",
   "execution_count": 151,
   "id": "5f972ada",
   "metadata": {},
   "outputs": [
    {
     "data": {
      "text/plain": [
       "(0, 9)"
      ]
     },
     "execution_count": 151,
     "metadata": {},
     "output_type": "execute_result"
    }
   ],
   "source": [
    "from mlxtend.frequent_patterns import association_rules\n",
    "\n",
    "ar = association_rules(frequent_itemsets, metric='lift')\n",
    "ar.shape"
   ]
  },
  {
   "cell_type": "code",
   "execution_count": 300,
   "id": "e3082536",
   "metadata": {},
   "outputs": [
    {
     "name": "stdout",
     "output_type": "stream",
     "text": [
      "Wall time: 31.3 ms\n"
     ]
    }
   ],
   "source": [
    "%%time\n",
    "reliable = []\n",
    "unreliable = []\n",
    "for i in range(labels.shape[0]):\n",
    "    if labels[i] == 1:\n",
    "        unreliable.append(data[i])\n",
    "    elif labels[i] == 0:\n",
    "        reliable.append(data[i])"
   ]
  },
  {
   "cell_type": "code",
   "execution_count": 303,
   "id": "c9165dc5",
   "metadata": {},
   "outputs": [
    {
     "name": "stdout",
     "output_type": "stream",
     "text": [
      "Wall time: 20.9 s\n"
     ]
    }
   ],
   "source": [
    "%%time\n",
    "te = TransactionEncoder()\n",
    "te_ary = te.fit(reliable).transform(reliable)\n",
    "df = pd.DataFrame(te_ary, columns=te.columns_)\n",
    "\n",
    "frequence_reliable = fpgrowth(df, min_support=.3, use_colnames=True)"
   ]
  },
  {
   "cell_type": "code",
   "execution_count": 301,
   "id": "c8e43707",
   "metadata": {},
   "outputs": [
    {
     "name": "stdout",
     "output_type": "stream",
     "text": [
      "Wall time: 5.75 s\n"
     ]
    }
   ],
   "source": [
    "%%time\n",
    "te = TransactionEncoder()\n",
    "te_ary = te.fit(unreliable).transform(unreliable)\n",
    "df = pd.DataFrame(te_ary, columns=te.columns_)\n",
    "\n",
    "frequence_unreliable = fpgrowth(df, min_support=.3, use_colnames=True)"
   ]
  },
  {
   "cell_type": "code",
   "execution_count": 185,
   "id": "c6d8dc91",
   "metadata": {},
   "outputs": [],
   "source": [
    "import matplotlib.pyplot as plt"
   ]
  },
  {
   "cell_type": "code",
   "execution_count": 304,
   "id": "6c01412f",
   "metadata": {},
   "outputs": [
    {
     "name": "stdout",
     "output_type": "stream",
     "text": [
      "Support of Words in Unreliable News\n"
     ]
    },
    {
     "data": {
      "text/html": [
       "<div>\n",
       "<style scoped>\n",
       "    .dataframe tbody tr th:only-of-type {\n",
       "        vertical-align: middle;\n",
       "    }\n",
       "\n",
       "    .dataframe tbody tr th {\n",
       "        vertical-align: top;\n",
       "    }\n",
       "\n",
       "    .dataframe thead th {\n",
       "        text-align: right;\n",
       "    }\n",
       "</style>\n",
       "<table border=\"1\" class=\"dataframe\">\n",
       "  <thead>\n",
       "    <tr style=\"text-align: right;\">\n",
       "      <th></th>\n",
       "      <th>support</th>\n",
       "      <th>itemsets</th>\n",
       "    </tr>\n",
       "  </thead>\n",
       "  <tbody>\n",
       "    <tr>\n",
       "      <th>0</th>\n",
       "      <td>0.828697</td>\n",
       "      <td>(said)</td>\n",
       "    </tr>\n",
       "    <tr>\n",
       "      <th>1</th>\n",
       "      <td>0.745875</td>\n",
       "      <td>(one)</td>\n",
       "    </tr>\n",
       "    <tr>\n",
       "      <th>46</th>\n",
       "      <td>0.687647</td>\n",
       "      <td>(also)</td>\n",
       "    </tr>\n",
       "    <tr>\n",
       "      <th>60</th>\n",
       "      <td>0.683404</td>\n",
       "      <td>(would)</td>\n",
       "    </tr>\n",
       "    <tr>\n",
       "      <th>2</th>\n",
       "      <td>0.672167</td>\n",
       "      <td>(year)</td>\n",
       "    </tr>\n",
       "    <tr>\n",
       "      <th>3</th>\n",
       "      <td>0.671696</td>\n",
       "      <td>(time)</td>\n",
       "    </tr>\n",
       "    <tr>\n",
       "      <th>4</th>\n",
       "      <td>0.649143</td>\n",
       "      <td>(like)</td>\n",
       "    </tr>\n",
       "    <tr>\n",
       "      <th>5</th>\n",
       "      <td>0.647886</td>\n",
       "      <td>(peopl)</td>\n",
       "    </tr>\n",
       "    <tr>\n",
       "      <th>6</th>\n",
       "      <td>0.644272</td>\n",
       "      <td>(new)</td>\n",
       "    </tr>\n",
       "    <tr>\n",
       "      <th>100</th>\n",
       "      <td>0.638300</td>\n",
       "      <td>(one, said)</td>\n",
       "    </tr>\n",
       "  </tbody>\n",
       "</table>\n",
       "</div>"
      ],
      "text/plain": [
       "      support     itemsets\n",
       "0    0.828697       (said)\n",
       "1    0.745875        (one)\n",
       "46   0.687647       (also)\n",
       "60   0.683404      (would)\n",
       "2    0.672167       (year)\n",
       "3    0.671696       (time)\n",
       "4    0.649143       (like)\n",
       "5    0.647886      (peopl)\n",
       "6    0.644272        (new)\n",
       "100  0.638300  (one, said)"
      ]
     },
     "execution_count": 304,
     "metadata": {},
     "output_type": "execute_result"
    }
   ],
   "source": [
    "print('Support of Words in Unreliable News')\n",
    "frequence_reliable.sort_values('support', ascending=False).head(10)"
   ]
  },
  {
   "cell_type": "code",
   "execution_count": 302,
   "id": "a2e8ca71",
   "metadata": {},
   "outputs": [
    {
     "name": "stdout",
     "output_type": "stream",
     "text": [
      "Support of Words in Unreliable News\n"
     ]
    },
    {
     "data": {
      "text/html": [
       "<div>\n",
       "<style scoped>\n",
       "    .dataframe tbody tr th:only-of-type {\n",
       "        vertical-align: middle;\n",
       "    }\n",
       "\n",
       "    .dataframe tbody tr th {\n",
       "        vertical-align: top;\n",
       "    }\n",
       "\n",
       "    .dataframe thead th {\n",
       "        text-align: right;\n",
       "    }\n",
       "</style>\n",
       "<table border=\"1\" class=\"dataframe\">\n",
       "  <thead>\n",
       "    <tr style=\"text-align: right;\">\n",
       "      <th></th>\n",
       "      <th>support</th>\n",
       "      <th>itemsets</th>\n",
       "    </tr>\n",
       "  </thead>\n",
       "  <tbody>\n",
       "    <tr>\n",
       "      <th>0</th>\n",
       "      <td>0.488434</td>\n",
       "      <td>(one)</td>\n",
       "    </tr>\n",
       "    <tr>\n",
       "      <th>1</th>\n",
       "      <td>0.448140</td>\n",
       "      <td>(time)</td>\n",
       "    </tr>\n",
       "    <tr>\n",
       "      <th>8</th>\n",
       "      <td>0.430753</td>\n",
       "      <td>(peopl)</td>\n",
       "    </tr>\n",
       "    <tr>\n",
       "      <th>2</th>\n",
       "      <td>0.426595</td>\n",
       "      <td>(like)</td>\n",
       "    </tr>\n",
       "    <tr>\n",
       "      <th>19</th>\n",
       "      <td>0.423647</td>\n",
       "      <td>(said)</td>\n",
       "    </tr>\n",
       "    <tr>\n",
       "      <th>9</th>\n",
       "      <td>0.411022</td>\n",
       "      <td>(would)</td>\n",
       "    </tr>\n",
       "    <tr>\n",
       "      <th>10</th>\n",
       "      <td>0.409737</td>\n",
       "      <td>(state)</td>\n",
       "    </tr>\n",
       "    <tr>\n",
       "      <th>3</th>\n",
       "      <td>0.406411</td>\n",
       "      <td>(year)</td>\n",
       "    </tr>\n",
       "    <tr>\n",
       "      <th>4</th>\n",
       "      <td>0.399305</td>\n",
       "      <td>(also)</td>\n",
       "    </tr>\n",
       "    <tr>\n",
       "      <th>24</th>\n",
       "      <td>0.377230</td>\n",
       "      <td>(new)</td>\n",
       "    </tr>\n",
       "  </tbody>\n",
       "</table>\n",
       "</div>"
      ],
      "text/plain": [
       "     support itemsets\n",
       "0   0.488434    (one)\n",
       "1   0.448140   (time)\n",
       "8   0.430753  (peopl)\n",
       "2   0.426595   (like)\n",
       "19  0.423647   (said)\n",
       "9   0.411022  (would)\n",
       "10  0.409737  (state)\n",
       "3   0.406411   (year)\n",
       "4   0.399305   (also)\n",
       "24  0.377230    (new)"
      ]
     },
     "execution_count": 302,
     "metadata": {},
     "output_type": "execute_result"
    }
   ],
   "source": [
    "print('Support of Words in Unreliable News')\n",
    "frequence_unreliable.sort_values('support', ascending=False).head(10)"
   ]
  },
  {
   "cell_type": "code",
   "execution_count": 200,
   "id": "7ff717bb",
   "metadata": {},
   "outputs": [
    {
     "data": {
      "text/plain": [
       "(27, 2)"
      ]
     },
     "execution_count": 200,
     "metadata": {},
     "output_type": "execute_result"
    }
   ],
   "source": [
    "frequence_unreliable.shape"
   ]
  },
  {
   "cell_type": "code",
   "execution_count": 201,
   "id": "2410f7dd",
   "metadata": {},
   "outputs": [
    {
     "data": {
      "text/plain": [
       "(1949, 2)"
      ]
     },
     "execution_count": 201,
     "metadata": {},
     "output_type": "execute_result"
    }
   ],
   "source": [
    "frequence_reliable.shape"
   ]
  },
  {
   "cell_type": "code",
   "execution_count": 225,
   "id": "30307681",
   "metadata": {},
   "outputs": [
    {
     "data": {
      "image/png": "[encoded data removed]",
      "text/plain": [
       "<Figure size 432x288 with 1 Axes>"
      ]
     },
     "metadata": {
      "needs_background": "light"
     },
     "output_type": "display_data"
    }
   ],
   "source": [
    "frequence_unreliable['support'].hist(label='Unreliable', color='orange')\n",
    "plt.legend()\n",
    "plt.show()"
   ]
  },
  {
   "cell_type": "code",
   "execution_count": 226,
   "id": "afb0c2f4",
   "metadata": {},
   "outputs": [
    {
     "data": {
      "image/png": "[encoded data removed]",
      "text/plain": [
       "<Figure size 432x288 with 1 Axes>"
      ]
     },
     "metadata": {
      "needs_background": "light"
     },
     "output_type": "display_data"
    }
   ],
   "source": [
    "frequence_reliable['support'].hist(label='Reliable', color='blue')\n",
    "plt.legend()\n",
    "plt.show()"
   ]
  },
  {
   "cell_type": "code",
   "execution_count": 234,
   "id": "ab80f4e0",
   "metadata": {},
   "outputs": [],
   "source": [
    "from mlxtend.frequent_patterns import association_rules"
   ]
  },
  {
   "cell_type": "code",
   "execution_count": 289,
   "id": "c59b28d4",
   "metadata": {},
   "outputs": [
    {
     "data": {
      "text/html": [
       "<div>\n",
       "<style scoped>\n",
       "    .dataframe tbody tr th:only-of-type {\n",
       "        vertical-align: middle;\n",
       "    }\n",
       "\n",
       "    .dataframe tbody tr th {\n",
       "        vertical-align: top;\n",
       "    }\n",
       "\n",
       "    .dataframe thead th {\n",
       "        text-align: right;\n",
       "    }\n",
       "</style>\n",
       "<table border=\"1\" class=\"dataframe\">\n",
       "  <thead>\n",
       "    <tr style=\"text-align: right;\">\n",
       "      <th></th>\n",
       "      <th>antecedents</th>\n",
       "      <th>consequents</th>\n",
       "      <th>antecedent support</th>\n",
       "      <th>consequent support</th>\n",
       "      <th>support</th>\n",
       "      <th>confidence</th>\n",
       "      <th>lift</th>\n",
       "      <th>leverage</th>\n",
       "      <th>conviction</th>\n",
       "    </tr>\n",
       "  </thead>\n",
       "  <tbody>\n",
       "    <tr>\n",
       "      <th>0</th>\n",
       "      <td>(time)</td>\n",
       "      <td>(one)</td>\n",
       "      <td>0.448140</td>\n",
       "      <td>0.488434</td>\n",
       "      <td>0.309268</td>\n",
       "      <td>0.690115</td>\n",
       "      <td>1.412914</td>\n",
       "      <td>0.090381</td>\n",
       "      <td>1.650825</td>\n",
       "    </tr>\n",
       "    <tr>\n",
       "      <th>1</th>\n",
       "      <td>(one)</td>\n",
       "      <td>(time)</td>\n",
       "      <td>0.488434</td>\n",
       "      <td>0.448140</td>\n",
       "      <td>0.309268</td>\n",
       "      <td>0.633184</td>\n",
       "      <td>1.412914</td>\n",
       "      <td>0.090381</td>\n",
       "      <td>1.504458</td>\n",
       "    </tr>\n",
       "  </tbody>\n",
       "</table>\n",
       "</div>"
      ],
      "text/plain": [
       "  antecedents consequents  antecedent support  consequent support   support  \\\n",
       "0      (time)       (one)            0.448140            0.488434  0.309268   \n",
       "1       (one)      (time)            0.488434            0.448140  0.309268   \n",
       "\n",
       "   confidence      lift  leverage  conviction  \n",
       "0    0.690115  1.412914  0.090381    1.650825  \n",
       "1    0.633184  1.412914  0.090381    1.504458  "
      ]
     },
     "execution_count": 289,
     "metadata": {},
     "output_type": "execute_result"
    }
   ],
   "source": [
    "association_rules(frequence_unreliable, min_threshold=.0)"
   ]
  },
  {
   "cell_type": "code",
   "execution_count": 305,
   "id": "9f0addbc",
   "metadata": {},
   "outputs": [
    {
     "data": {
      "text/html": [
       "<div>\n",
       "<style scoped>\n",
       "    .dataframe tbody tr th:only-of-type {\n",
       "        vertical-align: middle;\n",
       "    }\n",
       "\n",
       "    .dataframe tbody tr th {\n",
       "        vertical-align: top;\n",
       "    }\n",
       "\n",
       "    .dataframe thead th {\n",
       "        text-align: right;\n",
       "    }\n",
       "</style>\n",
       "<table border=\"1\" class=\"dataframe\">\n",
       "  <thead>\n",
       "    <tr style=\"text-align: right;\">\n",
       "      <th></th>\n",
       "      <th>antecedents</th>\n",
       "      <th>consequents</th>\n",
       "      <th>antecedent support</th>\n",
       "      <th>consequent support</th>\n",
       "      <th>support</th>\n",
       "      <th>confidence</th>\n",
       "      <th>lift</th>\n",
       "      <th>leverage</th>\n",
       "      <th>conviction</th>\n",
       "    </tr>\n",
       "  </thead>\n",
       "  <tbody>\n",
       "    <tr>\n",
       "      <th>6</th>\n",
       "      <td>(donald)</td>\n",
       "      <td>(trump)</td>\n",
       "      <td>0.325947</td>\n",
       "      <td>0.446409</td>\n",
       "      <td>0.319582</td>\n",
       "      <td>0.980473</td>\n",
       "      <td>2.196355</td>\n",
       "      <td>0.174076</td>\n",
       "      <td>28.349331</td>\n",
       "    </tr>\n",
       "    <tr>\n",
       "      <th>7</th>\n",
       "      <td>(trump)</td>\n",
       "      <td>(donald)</td>\n",
       "      <td>0.446409</td>\n",
       "      <td>0.325947</td>\n",
       "      <td>0.319582</td>\n",
       "      <td>0.715895</td>\n",
       "      <td>2.196355</td>\n",
       "      <td>0.174076</td>\n",
       "      <td>2.372550</td>\n",
       "    </tr>\n",
       "    <tr>\n",
       "      <th>21</th>\n",
       "      <td>(unit)</td>\n",
       "      <td>(would, state)</td>\n",
       "      <td>0.410262</td>\n",
       "      <td>0.464875</td>\n",
       "      <td>0.300016</td>\n",
       "      <td>0.731278</td>\n",
       "      <td>1.573063</td>\n",
       "      <td>0.109295</td>\n",
       "      <td>1.991367</td>\n",
       "    </tr>\n",
       "    <tr>\n",
       "      <th>18</th>\n",
       "      <td>(would, state)</td>\n",
       "      <td>(unit)</td>\n",
       "      <td>0.464875</td>\n",
       "      <td>0.410262</td>\n",
       "      <td>0.300016</td>\n",
       "      <td>0.645368</td>\n",
       "      <td>1.573063</td>\n",
       "      <td>0.109295</td>\n",
       "      <td>1.662959</td>\n",
       "    </tr>\n",
       "    <tr>\n",
       "      <th>3</th>\n",
       "      <td>(trump, said)</td>\n",
       "      <td>(presid)</td>\n",
       "      <td>0.379066</td>\n",
       "      <td>0.547933</td>\n",
       "      <td>0.325240</td>\n",
       "      <td>0.858002</td>\n",
       "      <td>1.565887</td>\n",
       "      <td>0.117536</td>\n",
       "      <td>3.183605</td>\n",
       "    </tr>\n",
       "    <tr>\n",
       "      <th>4</th>\n",
       "      <td>(presid)</td>\n",
       "      <td>(trump, said)</td>\n",
       "      <td>0.547933</td>\n",
       "      <td>0.379066</td>\n",
       "      <td>0.325240</td>\n",
       "      <td>0.593575</td>\n",
       "      <td>1.565887</td>\n",
       "      <td>0.117536</td>\n",
       "      <td>1.527794</td>\n",
       "    </tr>\n",
       "    <tr>\n",
       "      <th>9</th>\n",
       "      <td>(new)</td>\n",
       "      <td>(york)</td>\n",
       "      <td>0.644272</td>\n",
       "      <td>0.304495</td>\n",
       "      <td>0.304180</td>\n",
       "      <td>0.472131</td>\n",
       "      <td>1.550538</td>\n",
       "      <td>0.108003</td>\n",
       "      <td>1.317571</td>\n",
       "    </tr>\n",
       "    <tr>\n",
       "      <th>8</th>\n",
       "      <td>(york)</td>\n",
       "      <td>(new)</td>\n",
       "      <td>0.304495</td>\n",
       "      <td>0.644272</td>\n",
       "      <td>0.304180</td>\n",
       "      <td>0.998968</td>\n",
       "      <td>1.550538</td>\n",
       "      <td>0.108003</td>\n",
       "      <td>344.611917</td>\n",
       "    </tr>\n",
       "    <tr>\n",
       "      <th>1</th>\n",
       "      <td>(trump)</td>\n",
       "      <td>(presid)</td>\n",
       "      <td>0.446409</td>\n",
       "      <td>0.547933</td>\n",
       "      <td>0.378595</td>\n",
       "      <td>0.848090</td>\n",
       "      <td>1.547798</td>\n",
       "      <td>0.133993</td>\n",
       "      <td>2.975887</td>\n",
       "    </tr>\n",
       "    <tr>\n",
       "      <th>0</th>\n",
       "      <td>(presid)</td>\n",
       "      <td>(trump)</td>\n",
       "      <td>0.547933</td>\n",
       "      <td>0.446409</td>\n",
       "      <td>0.378595</td>\n",
       "      <td>0.690951</td>\n",
       "      <td>1.547798</td>\n",
       "      <td>0.133993</td>\n",
       "      <td>1.791272</td>\n",
       "    </tr>\n",
       "    <tr>\n",
       "      <th>13</th>\n",
       "      <td>(unit)</td>\n",
       "      <td>(state, said)</td>\n",
       "      <td>0.410262</td>\n",
       "      <td>0.531432</td>\n",
       "      <td>0.336477</td>\n",
       "      <td>0.820149</td>\n",
       "      <td>1.543283</td>\n",
       "      <td>0.118450</td>\n",
       "      <td>2.605320</td>\n",
       "    </tr>\n",
       "    <tr>\n",
       "      <th>10</th>\n",
       "      <td>(state, said)</td>\n",
       "      <td>(unit)</td>\n",
       "      <td>0.531432</td>\n",
       "      <td>0.410262</td>\n",
       "      <td>0.336477</td>\n",
       "      <td>0.633151</td>\n",
       "      <td>1.543283</td>\n",
       "      <td>0.118450</td>\n",
       "      <td>1.607576</td>\n",
       "    </tr>\n",
       "    <tr>\n",
       "      <th>14</th>\n",
       "      <td>(state, one)</td>\n",
       "      <td>(unit)</td>\n",
       "      <td>0.487977</td>\n",
       "      <td>0.410262</td>\n",
       "      <td>0.308424</td>\n",
       "      <td>0.632045</td>\n",
       "      <td>1.540587</td>\n",
       "      <td>0.108225</td>\n",
       "      <td>1.602744</td>\n",
       "    </tr>\n",
       "    <tr>\n",
       "      <th>17</th>\n",
       "      <td>(unit)</td>\n",
       "      <td>(state, one)</td>\n",
       "      <td>0.410262</td>\n",
       "      <td>0.487977</td>\n",
       "      <td>0.308424</td>\n",
       "      <td>0.751772</td>\n",
       "      <td>1.540587</td>\n",
       "      <td>0.108225</td>\n",
       "      <td>2.062708</td>\n",
       "    </tr>\n",
       "    <tr>\n",
       "      <th>2</th>\n",
       "      <td>(presid, said)</td>\n",
       "      <td>(trump)</td>\n",
       "      <td>0.478234</td>\n",
       "      <td>0.446409</td>\n",
       "      <td>0.325240</td>\n",
       "      <td>0.680085</td>\n",
       "      <td>1.523458</td>\n",
       "      <td>0.111752</td>\n",
       "      <td>1.730434</td>\n",
       "    </tr>\n",
       "    <tr>\n",
       "      <th>5</th>\n",
       "      <td>(trump)</td>\n",
       "      <td>(presid, said)</td>\n",
       "      <td>0.446409</td>\n",
       "      <td>0.478234</td>\n",
       "      <td>0.325240</td>\n",
       "      <td>0.728569</td>\n",
       "      <td>1.523458</td>\n",
       "      <td>0.111752</td>\n",
       "      <td>1.922280</td>\n",
       "    </tr>\n",
       "    <tr>\n",
       "      <th>19</th>\n",
       "      <td>(would, unit)</td>\n",
       "      <td>(state)</td>\n",
       "      <td>0.322175</td>\n",
       "      <td>0.612840</td>\n",
       "      <td>0.300016</td>\n",
       "      <td>0.931220</td>\n",
       "      <td>1.519515</td>\n",
       "      <td>0.102574</td>\n",
       "      <td>5.628924</td>\n",
       "    </tr>\n",
       "    <tr>\n",
       "      <th>20</th>\n",
       "      <td>(state)</td>\n",
       "      <td>(would, unit)</td>\n",
       "      <td>0.612840</td>\n",
       "      <td>0.322175</td>\n",
       "      <td>0.300016</td>\n",
       "      <td>0.489550</td>\n",
       "      <td>1.519515</td>\n",
       "      <td>0.102574</td>\n",
       "      <td>1.327897</td>\n",
       "    </tr>\n",
       "    <tr>\n",
       "      <th>15</th>\n",
       "      <td>(unit, one)</td>\n",
       "      <td>(state)</td>\n",
       "      <td>0.334669</td>\n",
       "      <td>0.612840</td>\n",
       "      <td>0.308424</td>\n",
       "      <td>0.921578</td>\n",
       "      <td>1.503782</td>\n",
       "      <td>0.103325</td>\n",
       "      <td>4.936871</td>\n",
       "    </tr>\n",
       "    <tr>\n",
       "      <th>16</th>\n",
       "      <td>(state)</td>\n",
       "      <td>(unit, one)</td>\n",
       "      <td>0.612840</td>\n",
       "      <td>0.334669</td>\n",
       "      <td>0.308424</td>\n",
       "      <td>0.503270</td>\n",
       "      <td>1.503782</td>\n",
       "      <td>0.103325</td>\n",
       "      <td>1.339421</td>\n",
       "    </tr>\n",
       "  </tbody>\n",
       "</table>\n",
       "</div>"
      ],
      "text/plain": [
       "       antecedents     consequents  antecedent support  consequent support  \\\n",
       "6         (donald)         (trump)            0.325947            0.446409   \n",
       "7          (trump)        (donald)            0.446409            0.325947   \n",
       "21          (unit)  (would, state)            0.410262            0.464875   \n",
       "18  (would, state)          (unit)            0.464875            0.410262   \n",
       "3    (trump, said)        (presid)            0.379066            0.547933   \n",
       "4         (presid)   (trump, said)            0.547933            0.379066   \n",
       "9            (new)          (york)            0.644272            0.304495   \n",
       "8           (york)           (new)            0.304495            0.644272   \n",
       "1          (trump)        (presid)            0.446409            0.547933   \n",
       "0         (presid)         (trump)            0.547933            0.446409   \n",
       "13          (unit)   (state, said)            0.410262            0.531432   \n",
       "10   (state, said)          (unit)            0.531432            0.410262   \n",
       "14    (state, one)          (unit)            0.487977            0.410262   \n",
       "17          (unit)    (state, one)            0.410262            0.487977   \n",
       "2   (presid, said)         (trump)            0.478234            0.446409   \n",
       "5          (trump)  (presid, said)            0.446409            0.478234   \n",
       "19   (would, unit)         (state)            0.322175            0.612840   \n",
       "20         (state)   (would, unit)            0.612840            0.322175   \n",
       "15     (unit, one)         (state)            0.334669            0.612840   \n",
       "16         (state)     (unit, one)            0.612840            0.334669   \n",
       "\n",
       "     support  confidence      lift  leverage  conviction  \n",
       "6   0.319582    0.980473  2.196355  0.174076   28.349331  \n",
       "7   0.319582    0.715895  2.196355  0.174076    2.372550  \n",
       "21  0.300016    0.731278  1.573063  0.109295    1.991367  \n",
       "18  0.300016    0.645368  1.573063  0.109295    1.662959  \n",
       "3   0.325240    0.858002  1.565887  0.117536    3.183605  \n",
       "4   0.325240    0.593575  1.565887  0.117536    1.527794  \n",
       "9   0.304180    0.472131  1.550538  0.108003    1.317571  \n",
       "8   0.304180    0.998968  1.550538  0.108003  344.611917  \n",
       "1   0.378595    0.848090  1.547798  0.133993    2.975887  \n",
       "0   0.378595    0.690951  1.547798  0.133993    1.791272  \n",
       "13  0.336477    0.820149  1.543283  0.118450    2.605320  \n",
       "10  0.336477    0.633151  1.543283  0.118450    1.607576  \n",
       "14  0.308424    0.632045  1.540587  0.108225    1.602744  \n",
       "17  0.308424    0.751772  1.540587  0.108225    2.062708  \n",
       "2   0.325240    0.680085  1.523458  0.111752    1.730434  \n",
       "5   0.325240    0.728569  1.523458  0.111752    1.922280  \n",
       "19  0.300016    0.931220  1.519515  0.102574    5.628924  \n",
       "20  0.300016    0.489550  1.519515  0.102574    1.327897  \n",
       "15  0.308424    0.921578  1.503782  0.103325    4.936871  \n",
       "16  0.308424    0.503270  1.503782  0.103325    1.339421  "
      ]
     },
     "execution_count": 305,
     "metadata": {},
     "output_type": "execute_result"
    }
   ],
   "source": [
    "association_rules(frequence_reliable, metric='lift', min_threshold=1.5).sort_values('lift', ascending=False).head(20)"
   ]
  },
  {
   "cell_type": "markdown",
   "id": "661a964b",
   "metadata": {},
   "source": [
    "A priori approximation"
   ]
  },
  {
   "cell_type": "code",
   "execution_count": 262,
   "id": "2daea910",
   "metadata": {},
   "outputs": [],
   "source": [
    "from mlxtend.frequent_patterns import apriori\n",
    "\n",
    "te = TransactionEncoder()\n",
    "te_ary = te.fit(reliable).transform(reliable)\n",
    "reliableDF = pd.DataFrame(te_ary, columns=te.columns_)\n",
    "\n",
    "te = TransactionEncoder()\n",
    "te_ary = te.fit(unreliable).transform(unreliable)\n",
    "unreliableDF = pd.DataFrame(te_ary, columns=te.columns_)\n",
    "\n",
    "reliableApriori = apriori(reliableDF, min_support=0.6, use_colnames=True)\n",
    "unreliableApriori = apriori(unreliableDF, min_support=0.3, use_colnames=True)"
   ]
  },
  {
   "cell_type": "code",
   "execution_count": 306,
   "id": "843a2cb7",
   "metadata": {},
   "outputs": [],
   "source": [
    "reliableApriori['length'] = reliableApriori['itemsets'].apply(lambda x: len(x))\n",
    "unreliableApriori['length'] = unreliableApriori['itemsets'].apply(lambda x: len(x))"
   ]
  },
  {
   "cell_type": "code",
   "execution_count": 268,
   "id": "88748918",
   "metadata": {},
   "outputs": [
    {
     "data": {
      "text/html": [
       "<div>\n",
       "<style scoped>\n",
       "    .dataframe tbody tr th:only-of-type {\n",
       "        vertical-align: middle;\n",
       "    }\n",
       "\n",
       "    .dataframe tbody tr th {\n",
       "        vertical-align: top;\n",
       "    }\n",
       "\n",
       "    .dataframe thead th {\n",
       "        text-align: right;\n",
       "    }\n",
       "</style>\n",
       "<table border=\"1\" class=\"dataframe\">\n",
       "  <thead>\n",
       "    <tr style=\"text-align: right;\">\n",
       "      <th></th>\n",
       "      <th>support</th>\n",
       "      <th>itemsets</th>\n",
       "      <th>length</th>\n",
       "    </tr>\n",
       "  </thead>\n",
       "  <tbody>\n",
       "    <tr>\n",
       "      <th>10</th>\n",
       "      <td>0.638300</td>\n",
       "      <td>(one, said)</td>\n",
       "      <td>2</td>\n",
       "    </tr>\n",
       "    <tr>\n",
       "      <th>11</th>\n",
       "      <td>0.601053</td>\n",
       "      <td>(would, said)</td>\n",
       "      <td>2</td>\n",
       "    </tr>\n",
       "    <tr>\n",
       "      <th>0</th>\n",
       "      <td>0.687647</td>\n",
       "      <td>(also)</td>\n",
       "      <td>1</td>\n",
       "    </tr>\n",
       "    <tr>\n",
       "      <th>1</th>\n",
       "      <td>0.649143</td>\n",
       "      <td>(like)</td>\n",
       "      <td>1</td>\n",
       "    </tr>\n",
       "    <tr>\n",
       "      <th>2</th>\n",
       "      <td>0.644272</td>\n",
       "      <td>(new)</td>\n",
       "      <td>1</td>\n",
       "    </tr>\n",
       "  </tbody>\n",
       "</table>\n",
       "</div>"
      ],
      "text/plain": [
       "     support       itemsets  length\n",
       "10  0.638300    (one, said)       2\n",
       "11  0.601053  (would, said)       2\n",
       "0   0.687647         (also)       1\n",
       "1   0.649143         (like)       1\n",
       "2   0.644272          (new)       1"
      ]
     },
     "execution_count": 268,
     "metadata": {},
     "output_type": "execute_result"
    }
   ],
   "source": [
    "reliableApriori.sort_values('length', ascending=False).head()"
   ]
  },
  {
   "cell_type": "code",
   "execution_count": 307,
   "id": "17be698b",
   "metadata": {},
   "outputs": [
    {
     "data": {
      "text/html": [
       "<div>\n",
       "<style scoped>\n",
       "    .dataframe tbody tr th:only-of-type {\n",
       "        vertical-align: middle;\n",
       "    }\n",
       "\n",
       "    .dataframe tbody tr th {\n",
       "        vertical-align: top;\n",
       "    }\n",
       "\n",
       "    .dataframe thead th {\n",
       "        text-align: right;\n",
       "    }\n",
       "</style>\n",
       "<table border=\"1\" class=\"dataframe\">\n",
       "  <thead>\n",
       "    <tr style=\"text-align: right;\">\n",
       "      <th></th>\n",
       "      <th>support</th>\n",
       "      <th>itemsets</th>\n",
       "      <th>length</th>\n",
       "    </tr>\n",
       "  </thead>\n",
       "  <tbody>\n",
       "    <tr>\n",
       "      <th>12</th>\n",
       "      <td>0.488434</td>\n",
       "      <td>(one)</td>\n",
       "      <td>1</td>\n",
       "    </tr>\n",
       "    <tr>\n",
       "      <th>20</th>\n",
       "      <td>0.448140</td>\n",
       "      <td>(time)</td>\n",
       "      <td>1</td>\n",
       "    </tr>\n",
       "    <tr>\n",
       "      <th>13</th>\n",
       "      <td>0.430753</td>\n",
       "      <td>(peopl)</td>\n",
       "      <td>1</td>\n",
       "    </tr>\n",
       "    <tr>\n",
       "      <th>8</th>\n",
       "      <td>0.426595</td>\n",
       "      <td>(like)</td>\n",
       "      <td>1</td>\n",
       "    </tr>\n",
       "    <tr>\n",
       "      <th>16</th>\n",
       "      <td>0.423647</td>\n",
       "      <td>(said)</td>\n",
       "      <td>1</td>\n",
       "    </tr>\n",
       "  </tbody>\n",
       "</table>\n",
       "</div>"
      ],
      "text/plain": [
       "     support itemsets  length\n",
       "12  0.488434    (one)       1\n",
       "20  0.448140   (time)       1\n",
       "13  0.430753  (peopl)       1\n",
       "8   0.426595   (like)       1\n",
       "16  0.423647   (said)       1"
      ]
     },
     "execution_count": 307,
     "metadata": {},
     "output_type": "execute_result"
    }
   ],
   "source": [
    "unreliableApriori.sort_values('support', ascending=False).head()"
   ]
  },
  {
   "cell_type": "code",
   "execution_count": null,
   "id": "8c94d76d",
   "metadata": {},
   "outputs": [],
   "source": []
  }
 ],
 "metadata": {
  "kernelspec": {
   "display_name": "Python 3 (ipykernel)",
   "language": "python",
   "name": "python3"
  },
  "language_info": {
   "codemirror_mode": {
    "name": "ipython",
    "version": 3
   },
   "file_extension": ".py",
   "mimetype": "text/x-python",
   "name": "python",
   "nbconvert_exporter": "python",
   "pygments_lexer": "ipython3",
   "version": "3.9.7"
  }
 },
 "nbformat": 4,
 "nbformat_minor": 5
}
