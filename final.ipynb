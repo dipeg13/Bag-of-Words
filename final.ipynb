{
 "cells": [
  {
   "cell_type": "markdown",
   "id": "2e900a5f",
   "metadata": {},
   "source": [
    "# NAIVE BAYES"
   ]
  },
  {
   "cell_type": "code",
   "execution_count": 1,
   "id": "8a240268",
   "metadata": {},
   "outputs": [
    {
     "name": "stderr",
     "output_type": "stream",
     "text": [
      "[nltk_data] Downloading package stopwords to /home/tybrob/nltk_data...\n",
      "[nltk_data]   Package stopwords is already up-to-date!\n"
     ]
    },
    {
     "data": {
      "text/plain": [
       "True"
      ]
     },
     "execution_count": 1,
     "metadata": {},
     "output_type": "execute_result"
    }
   ],
   "source": [
    "import nltk\n",
    "nltk.download('stopwords')"
   ]
  },
  {
   "cell_type": "code",
   "execution_count": 2,
   "id": "0584d214",
   "metadata": {},
   "outputs": [],
   "source": [
    "import re\n",
    "import numpy as np\n",
    "import pandas as pd\n",
    "from nltk.corpus import stopwords\n",
    "from nltk.stem.porter import PorterStemmer"
   ]
  },
  {
   "cell_type": "code",
   "execution_count": 3,
   "id": "51e96d01",
   "metadata": {},
   "outputs": [],
   "source": [
    "def stemming(content):\n",
    "    port_stem = PorterStemmer()\n",
    "    stop_words = stopwords.words('english')\n",
    "\n",
    "    stemmed_content = re.sub('[^a-zA-Z]',' ',content)\n",
    "    stemmed_content = stemmed_content.lower()\n",
    "    stemmed_content = stemmed_content.split()\n",
    "    stemmed_content = [port_stem.stem(word) for word in stemmed_content if not word in stop_words]\n",
    "    stemmed_content = ' '.join(stemmed_content)\n",
    "    return stemmed_content"
   ]
  },
  {
   "cell_type": "code",
   "execution_count": 4,
   "id": "b268f767",
   "metadata": {},
   "outputs": [],
   "source": [
    "train = pd.read_csv('data/train.csv')\n",
    "test = pd.read_csv('data/test.csv')\n",
    "submit = pd.read_csv('data/submit.csv')\n",
    "\n",
    "test = pd.merge(test,submit,on='id')\n",
    "total = pd.concat([train,test])\n",
    "\n",
    "total = total.fillna('')\n",
    "total = total.loc[total['text'] != '']"
   ]
  },
  {
   "cell_type": "code",
   "execution_count": 5,
   "id": "ff65eb5f",
   "metadata": {},
   "outputs": [],
   "source": [
    "total['text'] = total['text'].apply(stemming)"
   ]
  },
  {
   "cell_type": "code",
   "execution_count": 6,
   "id": "fec684b8",
   "metadata": {},
   "outputs": [],
   "source": [
    "from sklearn.feature_extraction.text import TfidfVectorizer\n",
    "from sklearn.model_selection import train_test_split\n",
    "\n",
    "vectorizer = TfidfVectorizer()\n",
    "\n",
    "X = total['text'].values\n",
    "Y = total['label'].values\n",
    "X = vectorizer.fit_transform(X)\n",
    "X_train, X_test, Y_train, Y_test = train_test_split(X, Y, test_size=0.30, stratify=Y, random_state=42)"
   ]
  },
  {
   "cell_type": "code",
   "execution_count": 7,
   "id": "b7de2dfc",
   "metadata": {},
   "outputs": [],
   "source": [
    "from sklearn.model_selection import StratifiedKFold\n",
    "\n",
    "skf = StratifiedKFold(n_splits = 5, shuffle = True, random_state=42)"
   ]
  },
  {
   "cell_type": "code",
   "execution_count": 36,
   "id": "84879e57",
   "metadata": {},
   "outputs": [
    {
     "name": "stdout",
     "output_type": "stream",
     "text": [
      "Fitting 5 folds for each of 24 candidates, totalling 120 fits\n",
      "{'alpha': 0.1, 'fit_prior': True}\n",
      "CPU times: user 142 ms, sys: 44.2 ms, total: 186 ms\n",
      "Wall time: 3.39 s\n"
     ]
    }
   ],
   "source": [
    "%%time\n",
    "from sklearn.naive_bayes import MultinomialNB\n",
    "from sklearn.model_selection import GridSearchCV\n",
    "\n",
    "param_grid = {\n",
    "  'alpha': np.arange(0.1, 1.3, 0.1),\n",
    "  'fit_prior': [True, False],\n",
    "}\n",
    "\n",
    "model_nb = GridSearchCV(estimator=MultinomialNB(), param_grid = param_grid, cv = skf, n_jobs=-1, verbose=1)\n",
    "model_nb.fit(X_train, Y_train)\n",
    "\n",
    "print(model_nb.best_params_)"
   ]
  },
  {
   "cell_type": "code",
   "execution_count": 24,
   "id": "034b54a3",
   "metadata": {},
   "outputs": [
    {
     "name": "stdout",
     "output_type": "stream",
     "text": [
      "Accuracy score on training set: 0.9104420102383443\n",
      "CPU times: user 68.7 ms, sys: 14 µs, total: 68.8 ms\n",
      "Wall time: 77.8 ms\n"
     ]
    }
   ],
   "source": [
    "%%time\n",
    "from sklearn.metrics import accuracy_score,classification_report\n",
    "\n",
    "nb = MultinomialNB(alpha=0.1,fit_prior=True)\n",
    "\n",
    "nb.fit(X_train,Y_train)\n",
    "\n",
    "X_train_prediction = nb.predict(X_train)\n",
    "\n",
    "print('Accuracy score on training set:',accuracy_score(X_train_prediction, Y_train))"
   ]
  },
  {
   "cell_type": "code",
   "execution_count": 11,
   "id": "0f16a65b",
   "metadata": {},
   "outputs": [
    {
     "name": "stdout",
     "output_type": "stream",
     "text": [
      "              precision    recall  f1-score   support\n",
      "\n",
      "           0       0.90      0.80      0.85      4324\n",
      "           1       0.78      0.89      0.83      3463\n",
      "\n",
      "    accuracy                           0.84      7787\n",
      "   macro avg       0.84      0.85      0.84      7787\n",
      "weighted avg       0.85      0.84      0.84      7787\n",
      "\n",
      "CPU times: user 24.1 ms, sys: 3.95 ms, total: 28.1 ms\n",
      "Wall time: 31.9 ms\n"
     ]
    }
   ],
   "source": [
    "%%time\n",
    "from sklearn.metrics import classification_report\n",
    "\n",
    "X_test_prediction = nb.predict(X_test)\n",
    "\n",
    "print(classification_report(X_test_prediction, Y_test))"
   ]
  },
  {
   "cell_type": "code",
   "execution_count": 37,
   "id": "b3e110ce",
   "metadata": {},
   "outputs": [
    {
     "data": {
      "text/plain": [
       "<AxesSubplot:title={'center':'Grid search results'}, xlabel='alpha', ylabel='Mean score'>"
      ]
     },
     "execution_count": 37,
     "metadata": {},
     "output_type": "execute_result"
    },
    {
     "data": {
      "image/png": "[encoded data removed]",
      "text/plain": [
       "<Figure size 1080x720 with 1 Axes>"
      ]
     },
     "metadata": {
      "needs_background": "light"
     },
     "output_type": "display_data"
    }
   ],
   "source": [
    "from sklearn_evaluation import plot\n",
    "import matplotlib.pyplot as plt\n",
    "\n",
    "plt.figure(figsize = (15,10))\n",
    "plot.grid_search(model_nb.cv_results_, change='alpha', kind='bar',)"
   ]
  },
  {
   "cell_type": "markdown",
   "id": "0b4093bf",
   "metadata": {},
   "source": [
    "# SVM"
   ]
  },
  {
   "cell_type": "code",
   "execution_count": 1,
   "id": "2fe93e6f",
   "metadata": {},
   "outputs": [],
   "source": [
    "from sklearn.feature_extraction.text import TfidfVectorizer, CountVectorizer\n",
    "\n",
    "from sklearn.metrics import confusion_matrix\n",
    "from sklearn.metrics import classification_report\n",
    "\n",
    "from sklearn.model_selection import cross_val_score\n",
    "from sklearn.model_selection import cross_val_predict\n",
    "from sklearn.model_selection import train_test_split\n",
    "\n",
    "from sklearn.svm import SVC\n",
    "\n",
    "import pandas as pd\n",
    "import numpy as np\n",
    "import matplotlib.pyplot as plt"
   ]
  },
  {
   "cell_type": "code",
   "execution_count": 8,
   "id": "64f464a9",
   "metadata": {},
   "outputs": [],
   "source": [
    "train = pd.read_csv(r'C:\\Users\\user\\Desktop\\Μεταπτυχιακό\\Εργασίες\\Data Mining\\Χαλκίδη\\data\\train.csv')\n",
    "test = pd.read_csv(r'C:\\Users\\user\\Desktop\\Μεταπτυχιακό\\Εργασίες\\Data Mining\\Χαλκίδη\\data\\test.csv')\n",
    "submit = pd.read_csv(r'C:\\Users\\user\\Desktop\\Μεταπτυχιακό\\Εργασίες\\Data Mining\\Χαλκίδη\\data\\submit.csv')\n",
    "test = pd.merge(test,submit,on='id')\n",
    "total = pd.concat([train,test])\n",
    "total = total.dropna(subset=['text', 'label'])"
   ]
  },
  {
   "cell_type": "code",
   "execution_count": 9,
   "id": "75dd8a8c",
   "metadata": {},
   "outputs": [
    {
     "data": {
      "text/html": [
       "<div>\n",
       "<style scoped>\n",
       "    .dataframe tbody tr th:only-of-type {\n",
       "        vertical-align: middle;\n",
       "    }\n",
       "\n",
       "    .dataframe tbody tr th {\n",
       "        vertical-align: top;\n",
       "    }\n",
       "\n",
       "    .dataframe thead th {\n",
       "        text-align: right;\n",
       "    }\n",
       "</style>\n",
       "<table border=\"1\" class=\"dataframe\">\n",
       "  <thead>\n",
       "    <tr style=\"text-align: right;\">\n",
       "      <th></th>\n",
       "      <th>id</th>\n",
       "      <th>title</th>\n",
       "      <th>author</th>\n",
       "      <th>text</th>\n",
       "      <th>label</th>\n",
       "    </tr>\n",
       "  </thead>\n",
       "  <tbody>\n",
       "    <tr>\n",
       "      <th>0</th>\n",
       "      <td>0</td>\n",
       "      <td>House Dem Aide: We Didn’t Even See Comey’s Let...</td>\n",
       "      <td>Darrell Lucus</td>\n",
       "      <td>House Dem Aide: We Didn’t Even See Comey’s Let...</td>\n",
       "      <td>1</td>\n",
       "    </tr>\n",
       "    <tr>\n",
       "      <th>1</th>\n",
       "      <td>1</td>\n",
       "      <td>FLYNN: Hillary Clinton, Big Woman on Campus - ...</td>\n",
       "      <td>Daniel J. Flynn</td>\n",
       "      <td>Ever get the feeling your life circles the rou...</td>\n",
       "      <td>0</td>\n",
       "    </tr>\n",
       "    <tr>\n",
       "      <th>2</th>\n",
       "      <td>2</td>\n",
       "      <td>Why the Truth Might Get You Fired</td>\n",
       "      <td>Consortiumnews.com</td>\n",
       "      <td>Why the Truth Might Get You Fired October 29, ...</td>\n",
       "      <td>1</td>\n",
       "    </tr>\n",
       "    <tr>\n",
       "      <th>3</th>\n",
       "      <td>3</td>\n",
       "      <td>15 Civilians Killed In Single US Airstrike Hav...</td>\n",
       "      <td>Jessica Purkiss</td>\n",
       "      <td>Videos 15 Civilians Killed In Single US Airstr...</td>\n",
       "      <td>1</td>\n",
       "    </tr>\n",
       "    <tr>\n",
       "      <th>4</th>\n",
       "      <td>4</td>\n",
       "      <td>Iranian woman jailed for fictional unpublished...</td>\n",
       "      <td>Howard Portnoy</td>\n",
       "      <td>Print \\nAn Iranian woman has been sentenced to...</td>\n",
       "      <td>1</td>\n",
       "    </tr>\n",
       "  </tbody>\n",
       "</table>\n",
       "</div>"
      ],
      "text/plain": [
       "   id                                              title              author  \\\n",
       "0   0  House Dem Aide: We Didn’t Even See Comey’s Let...       Darrell Lucus   \n",
       "1   1  FLYNN: Hillary Clinton, Big Woman on Campus - ...     Daniel J. Flynn   \n",
       "2   2                  Why the Truth Might Get You Fired  Consortiumnews.com   \n",
       "3   3  15 Civilians Killed In Single US Airstrike Hav...     Jessica Purkiss   \n",
       "4   4  Iranian woman jailed for fictional unpublished...      Howard Portnoy   \n",
       "\n",
       "                                                text  label  \n",
       "0  House Dem Aide: We Didn’t Even See Comey’s Let...      1  \n",
       "1  Ever get the feeling your life circles the rou...      0  \n",
       "2  Why the Truth Might Get You Fired October 29, ...      1  \n",
       "3  Videos 15 Civilians Killed In Single US Airstr...      1  \n",
       "4  Print \\nAn Iranian woman has been sentenced to...      1  "
      ]
     },
     "execution_count": 9,
     "metadata": {},
     "output_type": "execute_result"
    }
   ],
   "source": [
    "total.head()"
   ]
  },
  {
   "cell_type": "code",
   "execution_count": 10,
   "id": "3a84b862",
   "metadata": {},
   "outputs": [
    {
     "name": "stdout",
     "output_type": "stream",
     "text": [
      "<class 'pandas.core.frame.DataFrame'>\n",
      "Int64Index: 25954 entries, 0 to 5199\n",
      "Data columns (total 5 columns):\n",
      " #   Column  Non-Null Count  Dtype \n",
      "---  ------  --------------  ----- \n",
      " 0   id      25954 non-null  int64 \n",
      " 1   title   25274 non-null  object\n",
      " 2   author  23540 non-null  object\n",
      " 3   text    25954 non-null  object\n",
      " 4   label   25954 non-null  int64 \n",
      "dtypes: int64(2), object(3)\n",
      "memory usage: 1.2+ MB\n"
     ]
    }
   ],
   "source": [
    "total.info()"
   ]
  },
  {
   "cell_type": "code",
   "execution_count": 11,
   "id": "1f21111d",
   "metadata": {},
   "outputs": [],
   "source": [
    "texts = np.asarray(total['text'])\n",
    "labels = np.asarray(total['label'])"
   ]
  },
  {
   "cell_type": "code",
   "execution_count": 12,
   "id": "e5252d75",
   "metadata": {},
   "outputs": [],
   "source": [
    "X_train, X_test, y_train, y_test = train_test_split(texts, labels, test_size=0.25, random_state=43)"
   ]
  },
  {
   "cell_type": "code",
   "execution_count": 14,
   "id": "1b098c76",
   "metadata": {},
   "outputs": [
    {
     "name": "stdout",
     "output_type": "stream",
     "text": [
      "Wall time: 18.9 s\n"
     ]
    }
   ],
   "source": [
    "%%time\n",
    "vectorizer = TfidfVectorizer(strip_accents='unicode', stop_words='english').fit(X_train)"
   ]
  },
  {
   "cell_type": "code",
   "execution_count": 15,
   "id": "62c2674a",
   "metadata": {},
   "outputs": [
    {
     "name": "stdout",
     "output_type": "stream",
     "text": [
      "Wall time: 25.1 s\n"
     ]
    }
   ],
   "source": [
    "%%time\n",
    "X_train_tr = vectorizer.transform(X_train)\n",
    "X_test_tr = vectorizer.transform(X_test)"
   ]
  },
  {
   "cell_type": "code",
   "execution_count": 16,
   "id": "6096543d",
   "metadata": {},
   "outputs": [
    {
     "name": "stdout",
     "output_type": "stream",
     "text": [
      "Wall time: 26.4 s\n"
     ]
    }
   ],
   "source": [
    "%%time\n",
    "vec_all = TfidfVectorizer(strip_accents='unicode', stop_words='english').fit(texts)"
   ]
  },
  {
   "cell_type": "code",
   "execution_count": 17,
   "id": "d0266265",
   "metadata": {},
   "outputs": [],
   "source": [
    "from nltk.stem import PorterStemmer\n",
    "import re"
   ]
  },
  {
   "cell_type": "code",
   "execution_count": 18,
   "id": "c32f6586",
   "metadata": {},
   "outputs": [
    {
     "name": "stdout",
     "output_type": "stream",
     "text": [
      "Wall time: 0 ns\n"
     ]
    }
   ],
   "source": [
    "%%time\n",
    "from nltk import word_tokenize          \n",
    "from nltk.stem import WordNetLemmatizer \n",
    "\n",
    "port_stem = PorterStemmer()\n",
    "\n",
    "def WordTokenizer(content):\n",
    "    stemmed_content = re.sub('[^a-zA-Z]',' ',content).lower().split()\n",
    "    #stemmed_content = [port_stem.stem(word) for word in stemmed_content if not word in stopwords]\n",
    "    stemmed_content = [port_stem.stem(word) for word in stemmed_content]\n",
    "    return stemmed_content\n",
    "\n",
    "vect = TfidfVectorizer(tokenizer=WordTokenizer, strip_accents='unicode', stop_words='english')"
   ]
  },
  {
   "cell_type": "code",
   "execution_count": 19,
   "id": "9333b9d8",
   "metadata": {},
   "outputs": [
    {
     "name": "stderr",
     "output_type": "stream",
     "text": [
      "C:\\Users\\user\\anaconda3\\lib\\site-packages\\sklearn\\feature_extraction\\text.py:516: UserWarning: The parameter 'token_pattern' will not be used since 'tokenizer' is not None'\n",
      "  warnings.warn(\n",
      "C:\\Users\\user\\anaconda3\\lib\\site-packages\\sklearn\\feature_extraction\\text.py:396: UserWarning: Your stop_words may be inconsistent with your preprocessing. Tokenizing the stop words generated tokens ['abov', 'afterward', 'alon', 'alreadi', 'alway', 'ani', 'anoth', 'anyon', 'anyth', 'anywher', 'becam', 'becaus', 'becom', 'befor', 'besid', 'cri', 'describ', 'dure', 'els', 'elsewher', 'empti', 'everi', 'everyon', 'everyth', 'everywher', 'fifti', 'formerli', 'forti', 'ha', 'henc', 'hereaft', 'herebi', 'hi', 'howev', 'hundr', 'inde', 'latterli', 'mani', 'meanwhil', 'moreov', 'mostli', 'nobodi', 'noon', 'noth', 'nowher', 'onc', 'onli', 'otherwis', 'ourselv', 'perhap', 'pleas', 'seriou', 'sever', 'sinc', 'sincer', 'sixti', 'someon', 'someth', 'sometim', 'somewher', 'themselv', 'thenc', 'thereaft', 'therebi', 'therefor', 'thi', 'thu', 'togeth', 'twelv', 'twenti', 'veri', 'wa', 'whatev', 'whenc', 'whenev', 'wherea', 'whereaft', 'wherebi', 'wherev', 'whi', 'yourselv'] not in stop_words.\n",
      "  warnings.warn(\n"
     ]
    },
    {
     "name": "stdout",
     "output_type": "stream",
     "text": [
      "Wall time: 5min 35s\n"
     ]
    },
    {
     "data": {
      "text/plain": [
       "TfidfVectorizer(stop_words='english', strip_accents='unicode',\n",
       "                tokenizer=<function WordTokenizer at 0x00000247980669D0>)"
      ]
     },
     "execution_count": 19,
     "metadata": {},
     "output_type": "execute_result"
    }
   ],
   "source": [
    "%%time\n",
    "vect.fit(X_train)"
   ]
  },
  {
   "cell_type": "code",
   "execution_count": 20,
   "id": "4e074847",
   "metadata": {},
   "outputs": [
    {
     "name": "stdout",
     "output_type": "stream",
     "text": [
      "Wall time: 5min 38s\n"
     ]
    }
   ],
   "source": [
    "%%time\n",
    "X_train_trans = vect.transform(X_train)"
   ]
  },
  {
   "cell_type": "code",
   "execution_count": 21,
   "id": "3a0c9322",
   "metadata": {},
   "outputs": [
    {
     "name": "stdout",
     "output_type": "stream",
     "text": [
      "Wall time: 1min 49s\n"
     ]
    }
   ],
   "source": [
    "%%time\n",
    "X_test_trans = vect.transform(X_test)"
   ]
  },
  {
   "cell_type": "markdown",
   "id": "f947e2a1",
   "metadata": {},
   "source": [
    "Αποθηκεύουμε τον vectorizer που θα χρησιμοποιήσουμε ως pkl αρχείο για να μην τον ξαναδημιουργούμε κάθε φορά που θέλουμε να τον χρησιμοποιήσουμε."
   ]
  },
  {
   "cell_type": "code",
   "execution_count": 2,
   "id": "a74a05f5",
   "metadata": {},
   "outputs": [],
   "source": [
    "import joblib"
   ]
  },
  {
   "cell_type": "code",
   "execution_count": 23,
   "id": "ddaa3a7f",
   "metadata": {},
   "outputs": [
    {
     "data": {
      "text/plain": [
       "['C:\\\\Users\\\\user\\\\Desktop\\\\Μεταπτυχιακό\\\\Εργασίες\\\\Data Mining\\\\Χαλκίδη\\\\notebook\\\\vectorizer.pkl']"
      ]
     },
     "execution_count": 23,
     "metadata": {},
     "output_type": "execute_result"
    }
   ],
   "source": [
    "joblib.dump(vect, r'C:\\Users\\user\\Desktop\\Μεταπτυχιακό\\Εργασίες\\Data Mining\\Χαλκίδη\\notebook\\vectorizer.pkl')"
   ]
  },
  {
   "cell_type": "markdown",
   "id": "902adbbc",
   "metadata": {},
   "source": [
    "Για να τον ξαναχρησιμοποιήσουμε γράφουμε vectorizer = joblib.load(path_to_pkl)"
   ]
  },
  {
   "cell_type": "markdown",
   "id": "2a58fd74",
   "metadata": {},
   "source": [
    "Ομοίως μπορούμε να αποθηκεύσουμε και τα X_train_trans και X_test_trans για τους ίδιους λόγους."
   ]
  },
  {
   "cell_type": "code",
   "execution_count": 24,
   "id": "60e8eac7",
   "metadata": {},
   "outputs": [
    {
     "data": {
      "text/plain": [
       "['C:\\\\Users\\\\user\\\\Desktop\\\\Μεταπτυχιακό\\\\Εργασίες\\\\Data Mining\\\\Χαλκίδη\\\\notebook\\\\X_test_trans.pkl']"
      ]
     },
     "execution_count": 24,
     "metadata": {},
     "output_type": "execute_result"
    }
   ],
   "source": [
    "joblib.dump(X_train_trans, r'C:\\Users\\user\\Desktop\\Μεταπτυχιακό\\Εργασίες\\Data Mining\\Χαλκίδη\\notebook\\X_train_trans.pkl')\n",
    "joblib.dump(X_test_trans, r'C:\\Users\\user\\Desktop\\Μεταπτυχιακό\\Εργασίες\\Data Mining\\Χαλκίδη\\notebook\\X_test_trans.pkl')"
   ]
  },
  {
   "cell_type": "code",
   "execution_count": 25,
   "id": "3313a078",
   "metadata": {},
   "outputs": [
    {
     "data": {
      "text/plain": [
       "['C:\\\\Users\\\\user\\\\Desktop\\\\Μεταπτυχιακό\\\\Εργασίες\\\\Data Mining\\\\Χαλκίδη\\\\notebook\\\\y_test.pkl']"
      ]
     },
     "execution_count": 25,
     "metadata": {},
     "output_type": "execute_result"
    }
   ],
   "source": [
    "joblib.dump(y_train, r'C:\\Users\\user\\Desktop\\Μεταπτυχιακό\\Εργασίες\\Data Mining\\Χαλκίδη\\notebook\\y_train.pkl')\n",
    "joblib.dump(y_test, r'C:\\Users\\user\\Desktop\\Μεταπτυχιακό\\Εργασίες\\Data Mining\\Χαλκίδη\\notebook\\y_test.pkl')"
   ]
  },
  {
   "cell_type": "code",
   "execution_count": 3,
   "id": "ba65ebad",
   "metadata": {},
   "outputs": [],
   "source": [
    "X_train_trans = joblib.load(r'C:\\Users\\user\\Desktop\\Μεταπτυχιακό\\Εργασίες\\Data Mining\\Χαλκίδη\\notebook\\X_train_trans.pkl')\n",
    "X_test_trans = joblib.load(r'C:\\Users\\user\\Desktop\\Μεταπτυχιακό\\Εργασίες\\Data Mining\\Χαλκίδη\\notebook\\X_test_trans.pkl')"
   ]
  },
  {
   "cell_type": "code",
   "execution_count": 4,
   "id": "2a28a5f7",
   "metadata": {},
   "outputs": [],
   "source": [
    "y_train = joblib.load(r'C:\\Users\\user\\Desktop\\Μεταπτυχιακό\\Εργασίες\\Data Mining\\Χαλκίδη\\notebook\\y_train.pkl')\n",
    "y_test = joblib.load(r'C:\\Users\\user\\Desktop\\Μεταπτυχιακό\\Εργασίες\\Data Mining\\Χαλκίδη\\notebook\\y_test.pkl')"
   ]
  },
  {
   "cell_type": "code",
   "execution_count": 5,
   "id": "1fde3910",
   "metadata": {},
   "outputs": [],
   "source": [
    "from sklearn.metrics import precision_score as precision\n",
    "from sklearn.metrics import recall_score as recall\n",
    "from sklearn.metrics import f1_score as f1"
   ]
  },
  {
   "cell_type": "code",
   "execution_count": 99,
   "id": "59f474ac",
   "metadata": {},
   "outputs": [
    {
     "name": "stdout",
     "output_type": "stream",
     "text": [
      "0.75\n",
      "1\n",
      "1.25\n",
      "Wall time: 2h 14min 34s\n"
     ]
    }
   ],
   "source": [
    "%%time\n",
    "C = [.75, 1, 1.25]\n",
    "times_ = []\n",
    "train_acc = []\n",
    "test_acc = []\n",
    "pre = []\n",
    "rec = []\n",
    "f1_sc = []\n",
    "for c in C:\n",
    "    print(c)\n",
    "    svm_cl = SVC(kernel='rbf', C=c)\n",
    "    tic = time()\n",
    "    svm_cl.fit(X_train_trans, y_train)\n",
    "    toc = time()\n",
    "    times_.append(float(toc-tic))\n",
    "    train_acc.append(svm_cl.score(X_train_trans, y_train))\n",
    "    test_acc.append(svm_cl.score(X_test_trans, y_test))\n",
    "    pre.append(precision(y_test, svm_cl.predict(X_test_trans)))\n",
    "    rec.append(recall(y_test, svm_cl.predict(X_test_trans)))\n",
    "    f1_sc.append(f1(y_test, svm_cl.predict(X_test_trans)))"
   ]
  },
  {
   "cell_type": "markdown",
   "id": "29b3d13d",
   "metadata": {},
   "source": [
    "Βλέπουμε ότι η εκπαίδευση του κατηγοριοποιητή χρησιμοποιώντας ως πυρήνα τον RBF και σταθερά γ την default τιμή η οποία ισούται με 1 / (n_features * X.var()) (απ' το documentation της βιβλιοθήκης scikit-learn), είναι εξαιρετικά αργή. Παρακάτω θα δοκιμάσουμε με διαφορετικές τιμές υπερπαραμέτρων για τον RBF."
   ]
  },
  {
   "cell_type": "code",
   "execution_count": 102,
   "id": "6ac05e36",
   "metadata": {},
   "outputs": [
    {
     "data": {
      "image/png": "[encoded data removed]",
      "text/plain": [
       "<Figure size 432x288 with 1 Axes>"
      ]
     },
     "metadata": {
      "needs_background": "light"
     },
     "output_type": "display_data"
    }
   ],
   "source": [
    "plt.plot(C, pre)\n",
    "plt.plot(C, rec)\n",
    "plt.plot(C, f1_sc)\n",
    "plt.legend(['Precision', 'Recall', 'F1-Score'])\n",
    "plt.xlabel('C parameter')\n",
    "plt.ylabel('Metrics\\' Value')\n",
    "plt.show()"
   ]
  },
  {
   "cell_type": "markdown",
   "id": "9b27e91b",
   "metadata": {},
   "source": [
    "Βλέπουμε το F1-Score είναι σχετικά υψηλό και οι τιμές των precision και recall είναι αρκετά κοντά (γεγονός που αποτελεί επιθυμητό μέτρο)."
   ]
  },
  {
   "cell_type": "markdown",
   "id": "fc5febc0",
   "metadata": {},
   "source": [
    "Σύμφωνα με το documentation της sklearn.svm.SVC, ο παραπάνω τρόπος υλοποίησης κατηγοριοποίησης με SVM είναι κάκιστος ('The fit time scales at least quadratically with the number of samples and may be impractical beyond tens of thousands of samples.'). Ως εκ τούτου, στηριζόμενοι πάλι στο documentation θα χρησιμοποιήσουμε τις κλάσεις sklearn.svm.LinearSVC και sklearn.linear_model.SGDClassifier για να υλοποιήσουμε γραμμική SVM και Stochastic Gradient Descent αντίστοιχα."
   ]
  },
  {
   "cell_type": "code",
   "execution_count": 37,
   "id": "60060411",
   "metadata": {},
   "outputs": [],
   "source": [
    "from sklearn.svm import LinearSVC"
   ]
  },
  {
   "cell_type": "code",
   "execution_count": 34,
   "id": "1c1fed99",
   "metadata": {},
   "outputs": [
    {
     "data": {
      "text/plain": [
       "LinearSVC(C=2)"
      ]
     },
     "execution_count": 34,
     "metadata": {},
     "output_type": "execute_result"
    }
   ],
   "source": [
    "lsvc = LinearSVC(C=2)\n",
    "lsvc.fit(X_train_trans, y_train)"
   ]
  },
  {
   "cell_type": "code",
   "execution_count": 35,
   "id": "2060475e",
   "metadata": {},
   "outputs": [
    {
     "data": {
      "text/plain": [
       "0.8631530282015719"
      ]
     },
     "execution_count": 35,
     "metadata": {},
     "output_type": "execute_result"
    }
   ],
   "source": [
    "lsvc.score(X_test_trans, y_test)"
   ]
  },
  {
   "cell_type": "code",
   "execution_count": 109,
   "id": "9e374347",
   "metadata": {},
   "outputs": [
    {
     "name": "stdout",
     "output_type": "stream",
     "text": [
      "Wall time: 5min 12s\n"
     ]
    }
   ],
   "source": [
    "%%time\n",
    "C = np.linspace(.1, 10, 100)\n",
    "scores_lvc = []\n",
    "times_lvc = []\n",
    "for c in C:\n",
    "    lsvc = LinearSVC(C=c)\n",
    "    tic = time()\n",
    "    lsvc.fit(X_train_trans, y_train)\n",
    "    toc = time()\n",
    "    times_lvc.append(float(toc-tic))\n",
    "    scores_lvc.append(lsvc.score(X_test_trans, y_test))"
   ]
  },
  {
   "cell_type": "markdown",
   "id": "f88da29c",
   "metadata": {},
   "source": [
    "Βλέπουμε ότι χρησιμοποιώντας την LinearSVC χρειάστηκαν περίπου 5 λεπτά για να εκπαιδεύσουμε και να δοκιμάσουμε 100 μοντέλα."
   ]
  },
  {
   "cell_type": "code",
   "execution_count": 110,
   "id": "983faf78",
   "metadata": {},
   "outputs": [
    {
     "data": {
      "image/png": "[encoded data removed]",
      "text/plain": [
       "<Figure size 432x288 with 1 Axes>"
      ]
     },
     "metadata": {
      "needs_background": "light"
     },
     "output_type": "display_data"
    }
   ],
   "source": [
    "plt.plot(C, scores_lvc)\n",
    "plt.xlabel('C parameter')\n",
    "plt.ylabel('Models\\' Accuracy')\n",
    "plt.title('Linear SVM')\n",
    "plt.show()"
   ]
  },
  {
   "cell_type": "code",
   "execution_count": 111,
   "id": "5d8321e2",
   "metadata": {},
   "outputs": [
    {
     "data": {
      "image/png": "[encoded data removed]",
      "text/plain": [
       "<Figure size 432x288 with 1 Axes>"
      ]
     },
     "metadata": {
      "needs_background": "light"
     },
     "output_type": "display_data"
    }
   ],
   "source": [
    "plt.plot(C, times_lvc)\n",
    "plt.xlabel('C parameter')\n",
    "plt.ylabel('Fitting time (sec)')\n",
    "plt.title('Linear SVM')\n",
    "plt.show()          "
   ]
  },
  {
   "cell_type": "code",
   "execution_count": 116,
   "id": "e47ea338",
   "metadata": {},
   "outputs": [
    {
     "name": "stdout",
     "output_type": "stream",
     "text": [
      "Mean Fiatting Time: 3.114066531658173 \n",
      "Fitting Time StD:   2.1703409899140294\n"
     ]
    }
   ],
   "source": [
    "print('Mean Fiatting Time:', np.mean(np.asarray(times_)), '\\nFitting Time StD:  ', np.std(np.asarray(times_)))"
   ]
  },
  {
   "cell_type": "markdown",
   "id": "028e99d4",
   "metadata": {},
   "source": [
    "Βλέπουμε ότι καθώς αυξάνει το C, ταυτόχρονα αυξάνει κι ο χρόνος εκπαίδευσης. Αυτό ενδεχομένως να οφείλεται και στην κατανάλωση της RAM."
   ]
  },
  {
   "cell_type": "markdown",
   "id": "d9c1eee6",
   "metadata": {},
   "source": [
    "Τώρα θα δούμε πως συμπεριφέρεται η Linear SVM για C στο (0.1, 1.1)."
   ]
  },
  {
   "cell_type": "code",
   "execution_count": 70,
   "id": "0d583886",
   "metadata": {},
   "outputs": [
    {
     "name": "stdout",
     "output_type": "stream",
     "text": [
      "Wall time: 6.26 s\n"
     ]
    }
   ],
   "source": [
    "%%time\n",
    "C = np.linspace(.1, 1.1, 10)\n",
    "scores_ = []\n",
    "train_ = []\n",
    "times_ = []\n",
    "for c in C:\n",
    "    lsvc = LinearSVC(C=c)\n",
    "    tic = time()\n",
    "    lsvc.fit(X_train_trans, y_train)\n",
    "    toc = time()\n",
    "    times_.append(float(toc-tic))\n",
    "    scores_.append(lsvc.score(X_test_trans, y_test))\n",
    "    train_.append(lsvc.score(X_train_trans, y_train))"
   ]
  },
  {
   "cell_type": "code",
   "execution_count": 71,
   "id": "8e5f87fe",
   "metadata": {},
   "outputs": [
    {
     "data": {
      "text/plain": [
       "([0.8762521189705655,\n",
       "  0.8779472954230236,\n",
       "  0.8773308676221298,\n",
       "  0.8757897981198952,\n",
       "  0.8736323008167668,\n",
       "  0.8727076591154261,\n",
       "  0.8722453382647557,\n",
       "  0.8703960548620743,\n",
       "  0.8693173062105101,\n",
       "  0.867930343658499],\n",
       " [0.9120986385820704,\n",
       "  0.9308502440277421,\n",
       "  0.9407654764962754,\n",
       "  0.9479064988440791,\n",
       "  0.9536604161315181,\n",
       "  0.9582327254045723,\n",
       "  0.9620344207552016,\n",
       "  0.965630619059851,\n",
       "  0.9687130747495505,\n",
       "  0.971435910608785])"
      ]
     },
     "execution_count": 71,
     "metadata": {},
     "output_type": "execute_result"
    }
   ],
   "source": [
    "scores_, train_"
   ]
  },
  {
   "cell_type": "code",
   "execution_count": 72,
   "id": "4a88fae4",
   "metadata": {},
   "outputs": [
    {
     "data": {
      "image/png": "[encoded data removed]",
      "text/plain": [
       "<Figure size 432x288 with 1 Axes>"
      ]
     },
     "metadata": {
      "needs_background": "light"
     },
     "output_type": "display_data"
    }
   ],
   "source": [
    "plt.plot(C, scores_, label='Test')\n",
    "plt.plot(C, train_, label='Train')\n",
    "plt.legend()\n",
    "plt.xlabel('C')\n",
    "plt.ylabel('Accuracy')\n",
    "plt.show()"
   ]
  },
  {
   "cell_type": "code",
   "execution_count": 78,
   "id": "99dcda2b",
   "metadata": {},
   "outputs": [
    {
     "data": {
      "image/png": "[encoded data removed]",
      "text/plain": [
       "<Figure size 432x288 with 1 Axes>"
      ]
     },
     "metadata": {
      "needs_background": "light"
     },
     "output_type": "display_data"
    }
   ],
   "source": [
    "plt.plot(C, scores_)\n",
    "plt.xlabel('C parameter')\n",
    "plt.ylabel('Models\\' Accuracy')\n",
    "plt.title('Linear SVM')\n",
    "plt.show()"
   ]
  },
  {
   "cell_type": "markdown",
   "id": "f2adbf88",
   "metadata": {},
   "source": [
    "Βλέπουμε μεγιστοποίηση της ακρίβειας για C=0.3."
   ]
  },
  {
   "cell_type": "code",
   "execution_count": 76,
   "id": "a1ed1929",
   "metadata": {},
   "outputs": [
    {
     "data": {
      "text/plain": [
       "0.8779472954230236"
      ]
     },
     "execution_count": 76,
     "metadata": {},
     "output_type": "execute_result"
    }
   ],
   "source": [
    "from sklearn.svm import LinearSVC\n",
    "lv = LinearSVC(C=.3).fit(X_train_trans, y_train)\n",
    "lv.score(X_test_trans, y_test)"
   ]
  },
  {
   "cell_type": "code",
   "execution_count": 79,
   "id": "e979f101",
   "metadata": {},
   "outputs": [
    {
     "name": "stdout",
     "output_type": "stream",
     "text": [
      "Wall time: 411 ms\n"
     ]
    }
   ],
   "source": [
    "%%time\n",
    "lv = LinearSVC(C=.3).fit(X_train_trans, y_train)"
   ]
  },
  {
   "cell_type": "code",
   "execution_count": 80,
   "id": "f4f45fd6",
   "metadata": {},
   "outputs": [],
   "source": [
    "from sklearn.metrics import precision_score as precision\n",
    "from sklearn.metrics import recall_score as recall\n",
    "from sklearn.metrics import f1_score as f1"
   ]
  },
  {
   "cell_type": "code",
   "execution_count": 82,
   "id": "5af659ba",
   "metadata": {},
   "outputs": [
    {
     "name": "stdout",
     "output_type": "stream",
     "text": [
      "Precision: 0.8712189278227014 \n",
      "Recall: 0.8893304799755426 \n",
      "F1-Score: 0.8801815431164901\n"
     ]
    }
   ],
   "source": [
    "print('Precision:', precision(y_test, lv.predict(X_test_trans)), '\\nRecall:', recall(y_test, lv.predict(X_test_trans)), '\\nF1-Score:', f1(y_test, lv.predict(X_test_trans)))"
   ]
  },
  {
   "cell_type": "code",
   "execution_count": 125,
   "id": "ea0741dc",
   "metadata": {},
   "outputs": [],
   "source": [
    "from sklearn.model_selection import cross_val_score"
   ]
  },
  {
   "cell_type": "markdown",
   "id": "5f7c907c",
   "metadata": {},
   "source": [
    "Τώρα θα προσπαθήσουμε να εφαρμόσουμε kernel SVM σε ανεκτούς χρόνους. Για να το κάνουμε αυτό θα επιχειρήσουμε SVD για να επιτύχουμε dimensionality reduction."
   ]
  },
  {
   "cell_type": "code",
   "execution_count": 6,
   "id": "49eb37bb",
   "metadata": {},
   "outputs": [],
   "source": [
    "from sklearn.decomposition import TruncatedSVD as SVD"
   ]
  },
  {
   "cell_type": "code",
   "execution_count": 10,
   "id": "139f0020",
   "metadata": {},
   "outputs": [
    {
     "name": "stdout",
     "output_type": "stream",
     "text": [
      "Wall time: 11.1 s\n"
     ]
    },
    {
     "data": {
      "text/plain": [
       "TruncatedSVD(n_components=100)"
      ]
     },
     "execution_count": 10,
     "metadata": {},
     "output_type": "execute_result"
    }
   ],
   "source": [
    "%%time\n",
    "svd_tr = SVD(n_components=100)\n",
    "svd_tr.fit(X_train_trans)"
   ]
  },
  {
   "cell_type": "code",
   "execution_count": 12,
   "id": "3a0c44e4",
   "metadata": {},
   "outputs": [
    {
     "name": "stdout",
     "output_type": "stream",
     "text": [
      "Wall time: 694 ms\n"
     ]
    }
   ],
   "source": [
    "%%time\n",
    "X_train_svd = svd_tr.transform(X_train_trans)\n",
    "X_test_svd = svd_tr.transform(X_test_trans)"
   ]
  },
  {
   "cell_type": "code",
   "execution_count": 14,
   "id": "a6b937c2",
   "metadata": {},
   "outputs": [
    {
     "name": "stdout",
     "output_type": "stream",
     "text": [
      "Wall time: 24.9 s\n"
     ]
    }
   ],
   "source": [
    "%%time\n",
    "svc = SVC(kernel='rbf').fit(X_train_svd, y_train)"
   ]
  },
  {
   "cell_type": "markdown",
   "id": "b38e63a5",
   "metadata": {},
   "source": [
    "Βλέπουμε ότι το μοντέλο εκπαιδεύτηκε εξαιρετικά γρήγορα χρησιμοποιώντας τα 100 κυριώτερα components."
   ]
  },
  {
   "cell_type": "code",
   "execution_count": 15,
   "id": "9bf2f5fd",
   "metadata": {},
   "outputs": [
    {
     "name": "stdout",
     "output_type": "stream",
     "text": [
      "Wall time: 7.81 s\n"
     ]
    },
    {
     "data": {
      "text/plain": [
       "0.8690090923100632"
      ]
     },
     "execution_count": 15,
     "metadata": {},
     "output_type": "execute_result"
    }
   ],
   "source": [
    "%%time\n",
    "svc.score(X_test_svd, y_test)"
   ]
  },
  {
   "cell_type": "markdown",
   "id": "8a8f6168",
   "metadata": {},
   "source": [
    "Βλέπουμε επίσης ότι παίρνουμε και σχετικά καλή ακρίβεια για τις default τιμές των υπερπαραμέτρων στην υλοποίηση. Παρακάτω θα δοκιμάσουμε να κάνουμε tuning για τη υπερπαράμετρο γ όταν χρησιμοποιούμε τον RBF πυρήνα."
   ]
  },
  {
   "cell_type": "code",
   "execution_count": 18,
   "id": "7b18956c",
   "metadata": {},
   "outputs": [
    {
     "name": "stdout",
     "output_type": "stream",
     "text": [
      "Wall time: 1h 2min 48s\n"
     ]
    }
   ],
   "source": [
    "%%time\n",
    "from time import time\n",
    "gamma = np.linspace(.1, 2.1, 100)\n",
    "times_ = []\n",
    "acc_scores_ = []\n",
    "for g in gamma:\n",
    "    tic = time()\n",
    "    svc = SVC(kernel='rbf', gamma=g).fit(X_train_svd, y_train)\n",
    "    toc = time()\n",
    "    times_.append(toc-tic)\n",
    "    acc_scores_.append(svc.score(X_test_svd, y_test))"
   ]
  },
  {
   "cell_type": "code",
   "execution_count": 19,
   "id": "9c452e12",
   "metadata": {},
   "outputs": [
    {
     "data": {
      "image/png": "[encoded data removed]",
      "text/plain": [
       "<Figure size 432x288 with 1 Axes>"
      ]
     },
     "metadata": {
      "needs_background": "light"
     },
     "output_type": "display_data"
    }
   ],
   "source": [
    "plt.plot(gamma, acc_scores_)\n",
    "plt.xlabel('Gamma')\n",
    "plt.ylabel('Accuracy')\n",
    "plt.show()"
   ]
  },
  {
   "cell_type": "code",
   "execution_count": 22,
   "id": "a5ccda85",
   "metadata": {},
   "outputs": [
    {
     "data": {
      "image/png": "[encoded data removed]",
      "text/plain": [
       "<Figure size 432x288 with 1 Axes>"
      ]
     },
     "metadata": {
      "needs_background": "light"
     },
     "output_type": "display_data"
    }
   ],
   "source": [
    "plt.plot(gamma, times_)\n",
    "plt.xlabel('Gamma')\n",
    "plt.ylabel('Fitting Time (sec)')\n",
    "plt.show()"
   ]
  },
  {
   "cell_type": "markdown",
   "id": "acb1b17d",
   "metadata": {},
   "source": [
    "Παρατηρούμε ότι η ακρίβεια φαλινεται να αυξάνεται λογαριθμικά σε σχέση με την τιμή της υπερπαραμέτρου γ."
   ]
  },
  {
   "cell_type": "code",
   "execution_count": 24,
   "id": "39c08c51",
   "metadata": {},
   "outputs": [],
   "source": [
    "acc_scores_ = np.asarray(acc_scores_)"
   ]
  },
  {
   "cell_type": "code",
   "execution_count": 26,
   "id": "62afae7d",
   "metadata": {},
   "outputs": [
    {
     "data": {
      "text/plain": [
       "2.1"
      ]
     },
     "execution_count": 26,
     "metadata": {},
     "output_type": "execute_result"
    }
   ],
   "source": [
    "gamma[acc_scores_.argmax()]"
   ]
  },
  {
   "cell_type": "code",
   "execution_count": 27,
   "id": "e2202ab0",
   "metadata": {},
   "outputs": [
    {
     "data": {
      "text/plain": [
       "0.8654646324549237"
      ]
     },
     "execution_count": 27,
     "metadata": {},
     "output_type": "execute_result"
    }
   ],
   "source": [
    "acc_scores_[acc_scores_.argmax()]"
   ]
  },
  {
   "cell_type": "code",
   "execution_count": 29,
   "id": "4a62dc2e",
   "metadata": {},
   "outputs": [
    {
     "name": "stdout",
     "output_type": "stream",
     "text": [
      "Wall time: 8min 12s\n"
     ]
    }
   ],
   "source": [
    "%%time\n",
    "from time import time\n",
    "gamma = np.linspace(2, 10, 9)\n",
    "times_sparse = []\n",
    "acc_scores_sparse = []\n",
    "for g in gamma:\n",
    "    tic = time()\n",
    "    svc = SVC(kernel='rbf', gamma=g).fit(X_train_svd, y_train)\n",
    "    toc = time()\n",
    "    times_sparse.append(toc-tic)\n",
    "    acc_scores_sparse.append(svc.score(X_test_svd, y_test))"
   ]
  },
  {
   "cell_type": "code",
   "execution_count": 30,
   "id": "966cecfa",
   "metadata": {},
   "outputs": [
    {
     "data": {
      "image/png": "[encoded data removed]",
      "text/plain": [
       "<Figure size 432x288 with 1 Axes>"
      ]
     },
     "metadata": {
      "needs_background": "light"
     },
     "output_type": "display_data"
    }
   ],
   "source": [
    "plt.plot(gamma, acc_scores_sparse)\n",
    "plt.xlabel('Gamma')\n",
    "plt.ylabel('Accuracy')\n",
    "plt.show()"
   ]
  },
  {
   "cell_type": "code",
   "execution_count": 40,
   "id": "eb0d4420",
   "metadata": {},
   "outputs": [
    {
     "data": {
      "text/plain": [
       "[0.8643858838033596,\n",
       " 0.8670057019571583,\n",
       " 0.8688549853598397,\n",
       " 0.8690090923100632,\n",
       " 0.8700878409616274,\n",
       " 0.8708583757127446,\n",
       " 0.8723994452149791,\n",
       " 0.873015873015873,\n",
       " 0.8725535521652027]"
      ]
     },
     "execution_count": 40,
     "metadata": {},
     "output_type": "execute_result"
    }
   ],
   "source": [
    "acc_scores_sparse"
   ]
  },
  {
   "cell_type": "code",
   "execution_count": 43,
   "id": "bdde555d",
   "metadata": {},
   "outputs": [
    {
     "data": {
      "text/plain": [
       "[27.272191524505615,\n",
       " 27.889263153076172,\n",
       " 28.737401247024536,\n",
       " 34.66989231109619,\n",
       " 36.12515687942505,\n",
       " 41.849050521850586,\n",
       " 52.31587266921997,\n",
       " 60.83110809326172,\n",
       " 72.41778683662415]"
      ]
     },
     "execution_count": 43,
     "metadata": {},
     "output_type": "execute_result"
    }
   ],
   "source": [
    "times_sparse"
   ]
  },
  {
   "cell_type": "code",
   "execution_count": 31,
   "id": "a3f10e37",
   "metadata": {},
   "outputs": [
    {
     "data": {
      "image/png": "[encoded data removed]",
      "text/plain": [
       "<Figure size 432x288 with 1 Axes>"
      ]
     },
     "metadata": {
      "needs_background": "light"
     },
     "output_type": "display_data"
    }
   ],
   "source": [
    "plt.plot(gamma, times_sparse)\n",
    "plt.xlabel('Gamma')\n",
    "plt.ylabel('Fitting Time (sec)')\n",
    "plt.show()"
   ]
  },
  {
   "cell_type": "markdown",
   "id": "76017846",
   "metadata": {},
   "source": [
    "Βλέπουμε ότι επιλέγοντας γ>2 συνεχίζεται η αύξηση στην ακρίβεια η οποία πιάνει μέγιστη τιμή για γ=9. Ταυτόχρονα βλέπουμε ότι έχουμε κι ανάλογη αύξηση στο χρόνο εκπαίδευσης."
   ]
  },
  {
   "cell_type": "code",
   "execution_count": 33,
   "id": "fb0c6312",
   "metadata": {},
   "outputs": [],
   "source": [
    "acc_scores_100 = np.asarray(acc_scores_sparse)"
   ]
  },
  {
   "cell_type": "code",
   "execution_count": 34,
   "id": "ae0076b1",
   "metadata": {},
   "outputs": [
    {
     "data": {
      "text/plain": [
       "0.873015873015873"
      ]
     },
     "execution_count": 34,
     "metadata": {},
     "output_type": "execute_result"
    }
   ],
   "source": [
    "acc_scores_100[acc_scores_100.argmax()]"
   ]
  },
  {
   "cell_type": "markdown",
   "id": "a9a7942e",
   "metadata": {},
   "source": [
    "Επιλέγοντας τώρα να εφαρμόσουμε την SVD κρατώντας τα 1000 σημαντικότερα χαρακτηριστικά, για τις διάφορες τιμές της υπερπαραμέτρου γ παίρνουμε:"
   ]
  },
  {
   "cell_type": "code",
   "execution_count": 48,
   "id": "3080d1f9",
   "metadata": {},
   "outputs": [
    {
     "data": {
      "text/plain": [
       "TruncatedSVD(n_components=1000)"
      ]
     },
     "execution_count": 48,
     "metadata": {},
     "output_type": "execute_result"
    }
   ],
   "source": [
    "svd_tr1000 = SVD(n_components=1000)\n",
    "svd_tr1000.fit(X_train_trans)"
   ]
  },
  {
   "cell_type": "code",
   "execution_count": 49,
   "id": "509cca10",
   "metadata": {},
   "outputs": [],
   "source": [
    "X_train_1000 = svd_tr1000.transform(X_train_trans)\n",
    "X_test_1000 = svd_tr1000.transform(X_test_trans)"
   ]
  },
  {
   "cell_type": "code",
   "execution_count": 51,
   "id": "12b54bbe",
   "metadata": {},
   "outputs": [
    {
     "name": "stdout",
     "output_type": "stream",
     "text": [
      "Wall time: 44min 28s\n"
     ]
    }
   ],
   "source": [
    "%%time\n",
    "from time import time\n",
    "gamma = np.linspace(.1, 2.1, 10)\n",
    "times_1000 = []\n",
    "acc_scores_1000 = []\n",
    "for g in gamma:\n",
    "    tic = time()\n",
    "    svc = SVC(kernel='rbf', gamma=g).fit(X_train_1000, y_train)\n",
    "    toc = time()\n",
    "    times_1000.append(toc-tic)\n",
    "    acc_scores_1000.append(svc.score(X_test_1000, y_test))"
   ]
  },
  {
   "cell_type": "code",
   "execution_count": 52,
   "id": "4f03f486",
   "metadata": {},
   "outputs": [
    {
     "data": {
      "image/png": "[encoded data removed]",
      "text/plain": [
       "<Figure size 432x288 with 1 Axes>"
      ]
     },
     "metadata": {
      "needs_background": "light"
     },
     "output_type": "display_data"
    }
   ],
   "source": [
    "plt.plot(gamma, acc_scores_1000)\n",
    "plt.xlabel('Gamma')\n",
    "plt.ylabel('Accuracy')\n",
    "plt.show()"
   ]
  },
  {
   "cell_type": "code",
   "execution_count": 63,
   "id": "33336c50",
   "metadata": {},
   "outputs": [
    {
     "data": {
      "text/plain": [
       "[0.8702419479118508,\n",
       " 0.8788719371243643,\n",
       " 0.8830328247803976,\n",
       " 0.8841115734319618,\n",
       " 0.8845738942826321,\n",
       " 0.8853444290337494,\n",
       " 0.8861149637848666,\n",
       " 0.8870396054862074,\n",
       " 0.8870396054862074,\n",
       " 0.8875019263368777]"
      ]
     },
     "execution_count": 63,
     "metadata": {},
     "output_type": "execute_result"
    }
   ],
   "source": [
    "acc_scores_1000"
   ]
  },
  {
   "cell_type": "code",
   "execution_count": 53,
   "id": "8bb85512",
   "metadata": {},
   "outputs": [
    {
     "data": {
      "image/png": "[encoded data removed]",
      "text/plain": [
       "<Figure size 432x288 with 1 Axes>"
      ]
     },
     "metadata": {
      "needs_background": "light"
     },
     "output_type": "display_data"
    }
   ],
   "source": [
    "plt.plot(gamma, times_1000)\n",
    "plt.xlabel('Gamma')\n",
    "plt.ylabel('Fitting Time (sec)')\n",
    "plt.show()"
   ]
  },
  {
   "cell_type": "code",
   "execution_count": 62,
   "id": "38bdea61",
   "metadata": {},
   "outputs": [
    {
     "data": {
      "text/plain": [
       "[140.47962093353271,\n",
       " 121.70309734344482,\n",
       " 115.63862705230713,\n",
       " 113.90063714981079,\n",
       " 138.91966080665588,\n",
       " 194.41938424110413,\n",
       " 240.61607718467712,\n",
       " 278.625061750412,\n",
       " 315.07259368896484,\n",
       " 346.2211081981659]"
      ]
     },
     "execution_count": 62,
     "metadata": {},
     "output_type": "execute_result"
    }
   ],
   "source": [
    "times_1000"
   ]
  },
  {
   "cell_type": "code",
   "execution_count": 54,
   "id": "f1e804f0",
   "metadata": {},
   "outputs": [
    {
     "name": "stdout",
     "output_type": "stream",
     "text": [
      "Wall time: 1h 45min 2s\n"
     ]
    }
   ],
   "source": [
    "%%time\n",
    "from time import time\n",
    "gamma = np.linspace(2, 10, 9)\n",
    "times_1000_sparse = []\n",
    "acc_scores_1000_sparse = []\n",
    "for g in gamma:\n",
    "    tic = time()\n",
    "    svc = SVC(kernel='rbf', gamma=g).fit(X_train_1000, y_train)\n",
    "    toc = time()\n",
    "    times_1000_sparse.append(toc-tic)\n",
    "    acc_scores_1000_sparse.append(svc.score(X_test_1000, y_test))"
   ]
  },
  {
   "cell_type": "code",
   "execution_count": 60,
   "id": "c0ed26ba",
   "metadata": {},
   "outputs": [
    {
     "data": {
      "image/png": "[encoded data removed]",
      "text/plain": [
       "<Figure size 432x288 with 1 Axes>"
      ]
     },
     "metadata": {
      "needs_background": "light"
     },
     "output_type": "display_data"
    }
   ],
   "source": [
    "plt.plot(gamma, acc_scores_1000_sparse)\n",
    "plt.xlabel('Gamma')\n",
    "plt.ylabel('Accuracy')\n",
    "plt.show()"
   ]
  },
  {
   "cell_type": "code",
   "execution_count": 61,
   "id": "76e3f32c",
   "metadata": {},
   "outputs": [
    {
     "data": {
      "text/plain": [
       "[0.8867313915857605,\n",
       " 0.8871937124364309,\n",
       " 0.8850362151333026,\n",
       " 0.8811835413777162,\n",
       " 0.8781014023732471,\n",
       " 0.8737864077669902,\n",
       " 0.8714748035136385,\n",
       " 0.8680844506087224,\n",
       " 0.8656187394051472]"
      ]
     },
     "execution_count": 61,
     "metadata": {},
     "output_type": "execute_result"
    }
   ],
   "source": [
    "acc_scores_1000_sparse"
   ]
  },
  {
   "cell_type": "code",
   "execution_count": 58,
   "id": "293e8726",
   "metadata": {},
   "outputs": [
    {
     "data": {
      "image/png": "[encoded data removed]",
      "text/plain": [
       "<Figure size 432x288 with 1 Axes>"
      ]
     },
     "metadata": {
      "needs_background": "light"
     },
     "output_type": "display_data"
    }
   ],
   "source": [
    "plt.plot(gamma, times_1000_sparse)\n",
    "plt.xlabel('Gamma')\n",
    "plt.ylabel('Fitting Time (sec)')\n",
    "plt.show()"
   ]
  },
  {
   "cell_type": "code",
   "execution_count": 59,
   "id": "e159c9e5",
   "metadata": {},
   "outputs": [
    {
     "data": {
      "text/plain": [
       "[262.7839901447296,\n",
       " 464.15295028686523,\n",
       " 629.8963875770569,\n",
       " 504.26948857307434,\n",
       " 605.3360419273376,\n",
       " 631.8490562438965,\n",
       " 535.4635112285614,\n",
       " 830.054206609726,\n",
       " 885.2075378894806]"
      ]
     },
     "execution_count": 59,
     "metadata": {},
     "output_type": "execute_result"
    }
   ],
   "source": [
    "times_1000_sparse"
   ]
  },
  {
   "cell_type": "markdown",
   "id": "7cdeea18",
   "metadata": {},
   "source": [
    "# Logistic Regression"
   ]
  },
  {
   "cell_type": "code",
   "execution_count": 1,
   "id": "53c09142",
   "metadata": {},
   "outputs": [],
   "source": [
    "from sklearn.feature_extraction.text import TfidfVectorizer, CountVectorizer\n",
    "\n",
    "from sklearn.metrics import confusion_matrix\n",
    "from sklearn.metrics import classification_report\n",
    "\n",
    "from sklearn.model_selection import cross_val_score\n",
    "from sklearn.model_selection import cross_val_predict\n",
    "from sklearn.model_selection import train_test_split\n",
    "\n",
    "from sklearn.svm import SVC\n",
    "\n",
    "import pandas as pd\n",
    "import numpy as np\n",
    "import matplotlib.pyplot as plt\n",
    "\n",
    "from sklearn.linear_model import LogisticRegression\n",
    "from sklearn.metrics import roc_auc_score\n",
    "from sklearn.metrics import confusion_matrix\n",
    "import seaborn as sns\n",
    "from time import time\n",
    "from sklearn.model_selection import GridSearchCV\n",
    "from sklearn.model_selection import RepeatedStratifiedKFold"
   ]
  },
  {
   "cell_type": "code",
   "execution_count": 2,
   "id": "0e7f4091",
   "metadata": {},
   "outputs": [],
   "source": [
    "train = pd.read_csv(r'C:/Users/billg/JNfolder/train.csv')\n",
    "test = pd.read_csv(r'C:/Users/billg/JNfolder/test.csv')\n",
    "submit = pd.read_csv(r'C:/Users/billg/JNfolder/submit.csv')\n",
    "test = pd.merge(test,submit,on='id')\n",
    "total = pd.concat([train,test])\n",
    "total = total.dropna(subset=['text', 'label'])"
   ]
  },
  {
   "cell_type": "code",
   "execution_count": 3,
   "id": "1d290d16",
   "metadata": {},
   "outputs": [
    {
     "data": {
      "text/html": [
       "<div>\n",
       "<style scoped>\n",
       "    .dataframe tbody tr th:only-of-type {\n",
       "        vertical-align: middle;\n",
       "    }\n",
       "\n",
       "    .dataframe tbody tr th {\n",
       "        vertical-align: top;\n",
       "    }\n",
       "\n",
       "    .dataframe thead th {\n",
       "        text-align: right;\n",
       "    }\n",
       "</style>\n",
       "<table border=\"1\" class=\"dataframe\">\n",
       "  <thead>\n",
       "    <tr style=\"text-align: right;\">\n",
       "      <th></th>\n",
       "      <th>id</th>\n",
       "      <th>title</th>\n",
       "      <th>author</th>\n",
       "      <th>text</th>\n",
       "      <th>label</th>\n",
       "    </tr>\n",
       "  </thead>\n",
       "  <tbody>\n",
       "    <tr>\n",
       "      <th>0</th>\n",
       "      <td>0</td>\n",
       "      <td>House Dem Aide: We Didn’t Even See Comey’s Let...</td>\n",
       "      <td>Darrell Lucus</td>\n",
       "      <td>House Dem Aide: We Didn’t Even See Comey’s Let...</td>\n",
       "      <td>1</td>\n",
       "    </tr>\n",
       "    <tr>\n",
       "      <th>1</th>\n",
       "      <td>1</td>\n",
       "      <td>FLYNN: Hillary Clinton, Big Woman on Campus - ...</td>\n",
       "      <td>Daniel J. Flynn</td>\n",
       "      <td>Ever get the feeling your life circles the rou...</td>\n",
       "      <td>0</td>\n",
       "    </tr>\n",
       "    <tr>\n",
       "      <th>2</th>\n",
       "      <td>2</td>\n",
       "      <td>Why the Truth Might Get You Fired</td>\n",
       "      <td>Consortiumnews.com</td>\n",
       "      <td>Why the Truth Might Get You Fired October 29, ...</td>\n",
       "      <td>1</td>\n",
       "    </tr>\n",
       "    <tr>\n",
       "      <th>3</th>\n",
       "      <td>3</td>\n",
       "      <td>15 Civilians Killed In Single US Airstrike Hav...</td>\n",
       "      <td>Jessica Purkiss</td>\n",
       "      <td>Videos 15 Civilians Killed In Single US Airstr...</td>\n",
       "      <td>1</td>\n",
       "    </tr>\n",
       "    <tr>\n",
       "      <th>4</th>\n",
       "      <td>4</td>\n",
       "      <td>Iranian woman jailed for fictional unpublished...</td>\n",
       "      <td>Howard Portnoy</td>\n",
       "      <td>Print \\nAn Iranian woman has been sentenced to...</td>\n",
       "      <td>1</td>\n",
       "    </tr>\n",
       "  </tbody>\n",
       "</table>\n",
       "</div>"
      ],
      "text/plain": [
       "   id                                              title              author  \\\n",
       "0   0  House Dem Aide: We Didn’t Even See Comey’s Let...       Darrell Lucus   \n",
       "1   1  FLYNN: Hillary Clinton, Big Woman on Campus - ...     Daniel J. Flynn   \n",
       "2   2                  Why the Truth Might Get You Fired  Consortiumnews.com   \n",
       "3   3  15 Civilians Killed In Single US Airstrike Hav...     Jessica Purkiss   \n",
       "4   4  Iranian woman jailed for fictional unpublished...      Howard Portnoy   \n",
       "\n",
       "                                                text  label  \n",
       "0  House Dem Aide: We Didn’t Even See Comey’s Let...      1  \n",
       "1  Ever get the feeling your life circles the rou...      0  \n",
       "2  Why the Truth Might Get You Fired October 29, ...      1  \n",
       "3  Videos 15 Civilians Killed In Single US Airstr...      1  \n",
       "4  Print \\nAn Iranian woman has been sentenced to...      1  "
      ]
     },
     "execution_count": 3,
     "metadata": {},
     "output_type": "execute_result"
    }
   ],
   "source": [
    "total.head()"
   ]
  },
  {
   "cell_type": "code",
   "execution_count": 4,
   "id": "af64dd26",
   "metadata": {},
   "outputs": [
    {
     "name": "stdout",
     "output_type": "stream",
     "text": [
      "<class 'pandas.core.frame.DataFrame'>\n",
      "Int64Index: 25954 entries, 0 to 5199\n",
      "Data columns (total 5 columns):\n",
      " #   Column  Non-Null Count  Dtype \n",
      "---  ------  --------------  ----- \n",
      " 0   id      25954 non-null  int64 \n",
      " 1   title   25274 non-null  object\n",
      " 2   author  23540 non-null  object\n",
      " 3   text    25954 non-null  object\n",
      " 4   label   25954 non-null  int64 \n",
      "dtypes: int64(2), object(3)\n",
      "memory usage: 1.2+ MB\n"
     ]
    }
   ],
   "source": [
    "total.info()\n"
   ]
  },
  {
   "cell_type": "code",
   "execution_count": 5,
   "id": "597d7fc1",
   "metadata": {},
   "outputs": [],
   "source": [
    "texts = np.asarray(total['text'])\n",
    "labels = np.asarray(total['label'])"
   ]
  },
  {
   "cell_type": "code",
   "execution_count": 6,
   "id": "e0e78bf7",
   "metadata": {},
   "outputs": [],
   "source": [
    "X_train, X_test, y_train, y_test = train_test_split(texts, labels, test_size=0.25, random_state=43)"
   ]
  },
  {
   "cell_type": "code",
   "execution_count": 7,
   "id": "f1166788",
   "metadata": {},
   "outputs": [
    {
     "name": "stdout",
     "output_type": "stream",
     "text": [
      "Wall time: 19.1 s\n"
     ]
    }
   ],
   "source": [
    "%%time\n",
    "vectorizer = TfidfVectorizer(strip_accents='unicode', stop_words='english').fit(X_train)"
   ]
  },
  {
   "cell_type": "code",
   "execution_count": 8,
   "id": "b6598ec1",
   "metadata": {},
   "outputs": [
    {
     "name": "stdout",
     "output_type": "stream",
     "text": [
      "Wall time: 24.8 s\n"
     ]
    }
   ],
   "source": [
    "%%time\n",
    "X_train_tr = vectorizer.transform(X_train)\n",
    "X_test_tr = vectorizer.transform(X_test)"
   ]
  },
  {
   "cell_type": "code",
   "execution_count": 9,
   "id": "e4459892",
   "metadata": {},
   "outputs": [
    {
     "name": "stdout",
     "output_type": "stream",
     "text": [
      "Wall time: 26.1 s\n"
     ]
    }
   ],
   "source": [
    "%%time\n",
    "vec_all = TfidfVectorizer(strip_accents='unicode', stop_words='english').fit(texts)"
   ]
  },
  {
   "cell_type": "code",
   "execution_count": 10,
   "id": "4beeb8c8",
   "metadata": {},
   "outputs": [],
   "source": [
    "from nltk.stem import PorterStemmer\n",
    "import re"
   ]
  },
  {
   "cell_type": "code",
   "execution_count": 11,
   "id": "98c231f8",
   "metadata": {},
   "outputs": [
    {
     "name": "stdout",
     "output_type": "stream",
     "text": [
      "Wall time: 0 ns\n"
     ]
    }
   ],
   "source": [
    "%%time\n",
    "from nltk import word_tokenize          \n",
    "from nltk.stem import WordNetLemmatizer \n",
    "\n",
    "port_stem = PorterStemmer()\n",
    "\n",
    "def WordTokenizer(content):\n",
    "    stemmed_content = re.sub('[^a-zA-Z]',' ',content).lower().split()\n",
    "    #stemmed_content = [port_stem.stem(word) for word in stemmed_content if not word in stopwords]\n",
    "    stemmed_content = [port_stem.stem(word) for word in stemmed_content]\n",
    "    return stemmed_content\n",
    "\n",
    "vect = TfidfVectorizer(tokenizer=WordTokenizer, strip_accents='unicode', stop_words='english')"
   ]
  },
  {
   "cell_type": "code",
   "execution_count": 12,
   "id": "d4349cc9",
   "metadata": {},
   "outputs": [
    {
     "name": "stderr",
     "output_type": "stream",
     "text": [
      "C:\\Users\\billg\\anaconda3\\envs\\jupytenotebook\\lib\\site-packages\\sklearn\\feature_extraction\\text.py:516: UserWarning: The parameter 'token_pattern' will not be used since 'tokenizer' is not None'\n",
      "  warnings.warn(\n",
      "C:\\Users\\billg\\anaconda3\\envs\\jupytenotebook\\lib\\site-packages\\sklearn\\feature_extraction\\text.py:396: UserWarning: Your stop_words may be inconsistent with your preprocessing. Tokenizing the stop words generated tokens ['abov', 'afterward', 'alon', 'alreadi', 'alway', 'ani', 'anoth', 'anyon', 'anyth', 'anywher', 'becam', 'becaus', 'becom', 'befor', 'besid', 'cri', 'describ', 'dure', 'els', 'elsewher', 'empti', 'everi', 'everyon', 'everyth', 'everywher', 'fifti', 'formerli', 'forti', 'ha', 'henc', 'hereaft', 'herebi', 'hi', 'howev', 'hundr', 'inde', 'latterli', 'mani', 'meanwhil', 'moreov', 'mostli', 'nobodi', 'noon', 'noth', 'nowher', 'onc', 'onli', 'otherwis', 'ourselv', 'perhap', 'pleas', 'seriou', 'sever', 'sinc', 'sincer', 'sixti', 'someon', 'someth', 'sometim', 'somewher', 'themselv', 'thenc', 'thereaft', 'therebi', 'therefor', 'thi', 'thu', 'togeth', 'twelv', 'twenti', 'veri', 'wa', 'whatev', 'whenc', 'whenev', 'wherea', 'whereaft', 'wherebi', 'wherev', 'whi', 'yourselv'] not in stop_words.\n",
      "  warnings.warn(\n"
     ]
    },
    {
     "name": "stdout",
     "output_type": "stream",
     "text": [
      "Wall time: 4min 5s\n"
     ]
    },
    {
     "data": {
      "text/plain": [
       "TfidfVectorizer(stop_words='english', strip_accents='unicode',\n",
       "                tokenizer=<function WordTokenizer at 0x0000028C82B9EF70>)"
      ]
     },
     "execution_count": 12,
     "metadata": {},
     "output_type": "execute_result"
    }
   ],
   "source": [
    "%%time\n",
    "vect.fit(X_train)"
   ]
  },
  {
   "cell_type": "code",
   "execution_count": 13,
   "id": "da9c4437",
   "metadata": {},
   "outputs": [
    {
     "name": "stdout",
     "output_type": "stream",
     "text": [
      "Wall time: 3min 48s\n"
     ]
    }
   ],
   "source": [
    "%%time\n",
    "X_train_trans = vect.transform(X_train)"
   ]
  },
  {
   "cell_type": "code",
   "execution_count": 14,
   "id": "44a0dd9a",
   "metadata": {},
   "outputs": [
    {
     "name": "stdout",
     "output_type": "stream",
     "text": [
      "Wall time: 1min 13s\n"
     ]
    }
   ],
   "source": [
    "%%time\n",
    "X_test_trans = vect.transform(X_test)"
   ]
  },
  {
   "cell_type": "code",
   "execution_count": 15,
   "id": "1240adff",
   "metadata": {},
   "outputs": [],
   "source": [
    "import joblib"
   ]
  },
  {
   "cell_type": "code",
   "execution_count": 16,
   "id": "07274151",
   "metadata": {},
   "outputs": [
    {
     "data": {
      "text/plain": [
       "['C:/Users/billg/JNfolder/y_test.pkl']"
      ]
     },
     "execution_count": 16,
     "metadata": {},
     "output_type": "execute_result"
    }
   ],
   "source": [
    "joblib.dump(vect, r'C:/Users/billg/JNfolder/vectorizer.pkl')\n",
    "joblib.dump(X_train_trans, r'C:/Users/billg/JNfolder/X_train_trans.pkl')\n",
    "joblib.dump(X_test_trans, r'C:/Users/billg/JNfolder/X_test_trans.pkl')\n",
    "joblib.dump(y_train, r'C:/Users/billg/JNfolder/y_train.pkl')\n",
    "joblib.dump(y_test, r'C:/Users/billg/JNfolder/y_test.pkl')"
   ]
  },
  {
   "cell_type": "code",
   "execution_count": 17,
   "id": "8b7fb4bc",
   "metadata": {},
   "outputs": [],
   "source": [
    "X_train_trans = joblib.load(r'C:/Users/billg/JNfolder/X_train_trans.pkl')\n",
    "X_test_trans = joblib.load(r'C:/Users/billg/JNfolder/X_test_trans.pkl')\n",
    "y_train = joblib.load(r'C:/Users/billg/JNfolder/y_train.pkl')\n",
    "y_test = joblib.load(r'C:/Users/billg/JNfolder/y_test.pkl')"
   ]
  },
  {
   "cell_type": "code",
   "execution_count": 18,
   "id": "a5e52d75",
   "metadata": {},
   "outputs": [],
   "source": [
    "from sklearn.metrics import precision_score as precision\n",
    "from sklearn.metrics import recall_score as recall\n",
    "from sklearn.metrics import f1_score as f1"
   ]
  },
  {
   "cell_type": "code",
   "execution_count": 19,
   "id": "be9fc0d4",
   "metadata": {},
   "outputs": [
    {
     "name": "stdout",
     "output_type": "stream",
     "text": [
      "0.75\n",
      "1\n",
      "1.25\n",
      "Wall time: 9.32 s\n"
     ]
    }
   ],
   "source": [
    "%%time\n",
    "C = [.75, 1, 1.25]\n",
    "times_ = []\n",
    "train_acc = []\n",
    "test_acc = []\n",
    "pre = []\n",
    "rec = []\n",
    "f1_sc = []\n",
    "for c in C:\n",
    "    print(c)\n",
    "    lgR = LogisticRegression(C=c)\n",
    "    tic = time()\n",
    "    lgR.fit(X_train_trans, y_train)\n",
    "    toc = time()\n",
    "    times_.append(float(toc-tic))\n",
    "    train_acc.append(lgR.score(X_train_trans, y_train))\n",
    "    test_acc.append(lgR.score(X_test_trans, y_test))\n",
    "    pre.append(precision(y_test, lgR.predict(X_test_trans)))\n",
    "    rec.append(recall(y_test, lgR.predict(X_test_trans)))\n",
    "    f1_sc.append(f1(y_test, lgR.predict(X_test_trans)))"
   ]
  },
  {
   "cell_type": "markdown",
   "id": "f5d9d876",
   "metadata": {},
   "source": [
    "λέπουμε ότι η εκπαίδευση του κατηγοριοποιητή είναι αρκετά γρήγορη."
   ]
  },
  {
   "cell_type": "code",
   "execution_count": 20,
   "id": "775f27a0",
   "metadata": {},
   "outputs": [
    {
     "data": {
      "image/png": "[encoded data removed]",
      "text/plain": [
       "<Figure size 432x288 with 1 Axes>"
      ]
     },
     "metadata": {
      "needs_background": "light"
     },
     "output_type": "display_data"
    }
   ],
   "source": [
    "plt.plot(C, pre)\n",
    "plt.plot(C, rec)\n",
    "plt.plot(C, f1_sc)\n",
    "plt.legend(['Precision', 'Recall', 'F1-Score'])\n",
    "plt.xlabel('C parameter')\n",
    "plt.ylabel('Metrics\\' Value')\n",
    "plt.show()"
   ]
  },
  {
   "cell_type": "markdown",
   "id": "50dd0707",
   "metadata": {},
   "source": [
    "Βλέπουμε το F1-Score είναι σχετικά υψηλό και οι τιμές των precision και recall είναι αρκετά κοντά (γεγονός που αποτελεί επιθυμητό μέτρο)."
   ]
  },
  {
   "cell_type": "code",
   "execution_count": 29,
   "id": "8bdceae7",
   "metadata": {},
   "outputs": [
    {
     "name": "stdout",
     "output_type": "stream",
     "text": [
      "Wall time: 9min 9s\n"
     ]
    }
   ],
   "source": [
    "%%time\n",
    "C = np.linspace(.1, 10, 100)\n",
    "scores_ = []\n",
    "times_ = []\n",
    "for c in C:\n",
    "    lgR = LogisticRegression(C=c , max_iter = 1000)\n",
    "    tic = time()\n",
    "    lgR.fit(X_train_trans, y_train)\n",
    "    toc = time()\n",
    "    times_.append(float(toc-tic))\n",
    "    scores_.append(lgR.score(X_test_trans, y_test))"
   ]
  },
  {
   "cell_type": "markdown",
   "id": "d59ccd98",
   "metadata": {},
   "source": [
    "Βλέπουμε ότι χρησιμοποιώντας την LogisticRegression χρειάστηκαν περίπου 9 λεπτά για να εκπαιδεύσουμε και να δοκιμάσουμε 100 μοντέλα."
   ]
  },
  {
   "cell_type": "code",
   "execution_count": 30,
   "id": "4043521d",
   "metadata": {},
   "outputs": [
    {
     "data": {
      "image/png": "[encoded data removed]",
      "text/plain": [
       "<Figure size 432x288 with 1 Axes>"
      ]
     },
     "metadata": {
      "needs_background": "light"
     },
     "output_type": "display_data"
    }
   ],
   "source": [
    "plt.plot(C, scores_)\n",
    "plt.xlabel('C parameter')\n",
    "plt.ylabel('Models\\' Accuracy')\n",
    "plt.title('LogisticRegression')\n",
    "plt.show()"
   ]
  },
  {
   "cell_type": "code",
   "execution_count": 31,
   "id": "3c44234b",
   "metadata": {},
   "outputs": [
    {
     "data": {
      "image/png": "[encoded data removed]",
      "text/plain": [
       "<Figure size 432x288 with 1 Axes>"
      ]
     },
     "metadata": {
      "needs_background": "light"
     },
     "output_type": "display_data"
    }
   ],
   "source": [
    "plt.plot(C, times_)\n",
    "plt.xlabel('C parameter')\n",
    "plt.ylabel('Fitting time (sec)')\n",
    "plt.title('LogisticRegression')\n",
    "plt.show()  "
   ]
  },
  {
   "cell_type": "code",
   "execution_count": 32,
   "id": "b0eb9502",
   "metadata": {},
   "outputs": [
    {
     "name": "stdout",
     "output_type": "stream",
     "text": [
      "Mean Fiatting Time: 5.486042847633362 \n",
      "Fitting Time StD:   1.6719930240462406\n"
     ]
    }
   ],
   "source": [
    "print('Mean Fiatting Time:', np.mean(np.asarray(times_)), '\\nFitting Time StD:  ', np.std(np.asarray(times_)))"
   ]
  },
  {
   "cell_type": "code",
   "execution_count": 33,
   "id": "b1d81f07",
   "metadata": {},
   "outputs": [
    {
     "name": "stdout",
     "output_type": "stream",
     "text": [
      "0.8722700895813237\n",
      "[1 1 1 ... 1 0 1]\n"
     ]
    }
   ],
   "source": [
    "model = LogisticRegression(C=1)\n",
    "model.fit(X_train_trans, y_train)\n",
    "predicted_value = model.predict(X_test_trans)\n",
    "accuracy_value = roc_auc_score(y_test, predicted_value)\n",
    "print(accuracy_value)\n",
    "print(predicted_value)"
   ]
  },
  {
   "cell_type": "code",
   "execution_count": 34,
   "id": "6cec7979",
   "metadata": {},
   "outputs": [
    {
     "data": {
      "text/plain": [
       "<AxesSubplot:>"
      ]
     },
     "execution_count": 34,
     "metadata": {},
     "output_type": "execute_result"
    },
    {
     "data": {
      "image/png": "[encoded data removed]",
      "text/plain": [
       "<Figure size 720x720 with 2 Axes>"
      ]
     },
     "metadata": {
      "needs_background": "light"
     },
     "output_type": "display_data"
    }
   ],
   "source": [
    "cm = confusion_matrix(list(y_test), predicted_value)\n",
    "plt.figure(figsize = (10, 10))\n",
    "sns.heatmap(cm, annot = True,fmt='g',cmap='viridis')"
   ]
  },
  {
   "cell_type": "markdown",
   "id": "53456ba4",
   "metadata": {},
   "source": [
    "2905 Fake News have been Classified as Fake, while 2756 Real News have been classified as Real! Well Done! But we see we still have texts that are misleading and are classified wrong."
   ]
  },
  {
   "cell_type": "markdown",
   "id": "c2b982da",
   "metadata": {},
   "source": [
    "\n",
    "The example below demonstrates grid searching the key hyperparameters for LogisticRegression"
   ]
  },
  {
   "cell_type": "code",
   "execution_count": 27,
   "id": "3dff64a8",
   "metadata": {},
   "outputs": [
    {
     "name": "stdout",
     "output_type": "stream",
     "text": [
      "Best: 0.869852 using {'C': 1.0, 'penalty': 'l2', 'solver': 'liblinear'}\n",
      "0.845740 (0.007505) with: {'C': 100, 'penalty': 'l2', 'solver': 'newton-cg'}\n",
      "0.845227 (0.007426) with: {'C': 100, 'penalty': 'l2', 'solver': 'lbfgs'}\n",
      "0.845655 (0.007546) with: {'C': 100, 'penalty': 'l2', 'solver': 'liblinear'}\n",
      "0.863276 (0.006646) with: {'C': 10, 'penalty': 'l2', 'solver': 'newton-cg'}\n",
      "0.863362 (0.006596) with: {'C': 10, 'penalty': 'l2', 'solver': 'lbfgs'}\n",
      "0.863276 (0.006613) with: {'C': 10, 'penalty': 'l2', 'solver': 'liblinear'}\n",
      "0.869698 (0.007273) with: {'C': 1.0, 'penalty': 'l2', 'solver': 'newton-cg'}\n",
      "0.869646 (0.007302) with: {'C': 1.0, 'penalty': 'l2', 'solver': 'lbfgs'}\n",
      "0.869852 (0.007216) with: {'C': 1.0, 'penalty': 'l2', 'solver': 'liblinear'}\n",
      "0.841407 (0.007941) with: {'C': 0.1, 'penalty': 'l2', 'solver': 'newton-cg'}\n",
      "0.841425 (0.007928) with: {'C': 0.1, 'penalty': 'l2', 'solver': 'lbfgs'}\n",
      "0.842041 (0.007994) with: {'C': 0.1, 'penalty': 'l2', 'solver': 'liblinear'}\n",
      "0.790564 (0.008889) with: {'C': 0.01, 'penalty': 'l2', 'solver': 'newton-cg'}\n",
      "0.790564 (0.008889) with: {'C': 0.01, 'penalty': 'l2', 'solver': 'lbfgs'}\n",
      "0.796541 (0.009680) with: {'C': 0.01, 'penalty': 'l2', 'solver': 'liblinear'}\n"
     ]
    }
   ],
   "source": [
    "model = LogisticRegression()\n",
    "solvers = ['newton-cg', 'lbfgs', 'liblinear']\n",
    "penalty = ['l2']\n",
    "c_values = [100, 10, 1.0, 0.1, 0.01]\n",
    "# define grid search\n",
    "grid = dict(solver=solvers,penalty=penalty,C=c_values)\n",
    "cv = RepeatedStratifiedKFold(n_splits=10, n_repeats=3, random_state=1)\n",
    "grid_search = GridSearchCV(estimator=model, param_grid=grid, n_jobs=-1, cv=cv, scoring='accuracy',error_score=0)\n",
    "grid_result = grid_search.fit(X_train_trans, y_train)\n",
    "# summarize results\n",
    "print(\"Best: %f using %s\" % (grid_result.best_score_, grid_result.best_params_))\n",
    "means = grid_result.cv_results_['mean_test_score']\n",
    "stds = grid_result.cv_results_['std_test_score']\n",
    "params = grid_result.cv_results_['params']\n",
    "for mean, stdev, param in zip(means, stds, params):\n",
    "    print(\"%f (%f) with: %r\" % (mean, stdev, param))"
   ]
  },
  {
   "cell_type": "markdown",
   "id": "3b39a6d7",
   "metadata": {},
   "source": [
    "Brownlee, J. (2016). Machine Learning Mastery. Ανάκτηση από Logistic Regression\n",
    "for Machine Learning: https://machinelearningmastery.com/logisticregression-for-machine-learning/\n",
    "Chaudhary, M. (2020). TF-IDF Vectorizer scikit-learn. Ανάκτηση από Medium:\n",
    "https://medium.com/@cmukesh8688/tf-idf-vectorizer-scikit-learndbc0244a911a\n",
    "Fagni, T., Falchi, F., Gambini, M., Martella, A., & Tesconi, M. (2021). TweepFake:\n",
    "About detecting deepfake tweets. PLoS One.\n",
    "doi:10.1371/journal.pone.0251415"
   ]
  },
  {
   "cell_type": "markdown",
   "id": "75d6327b",
   "metadata": {},
   "source": [
    "# Association Rules"
   ]
  },
  {
   "cell_type": "code",
   "execution_count": 6,
   "id": "1697a1e8",
   "metadata": {},
   "outputs": [],
   "source": [
    "from mlxtend.preprocessing import TransactionEncoder\n",
    "from mlxtend.frequent_patterns import apriori, fpmax, fpgrowth\n",
    "from sklearn.feature_extraction.text import TfidfVectorizer, CountVectorizer\n",
    "import re\n",
    "import numpy as np\n",
    "from nltk.corpus import stopwords\n",
    "from nltk.stem.porter import PorterStemmer"
   ]
  },
  {
   "cell_type": "code",
   "execution_count": 7,
   "id": "e41fa9ad",
   "metadata": {},
   "outputs": [],
   "source": [
    "def stemming(content):\n",
    "    port_stem = PorterStemmer()\n",
    "    stop_words = stopwords.words('english')\n",
    "\n",
    "    stemmed_content = re.sub('[^a-zA-Z]',' ',content)\n",
    "    stemmed_content = stemmed_content.lower()\n",
    "    stemmed_content = stemmed_content.split()\n",
    "    stemmed_content = [port_stem.stem(word) for word in stemmed_content if not word in stop_words]\n",
    "    stemmed_content = ' '.join(stemmed_content)\n",
    "    return stemmed_content"
   ]
  },
  {
   "cell_type": "code",
   "execution_count": 8,
   "id": "6d7096c5",
   "metadata": {},
   "outputs": [
    {
     "name": "stdout",
     "output_type": "stream",
     "text": [
      "Wall time: 1.58 s\n"
     ]
    }
   ],
   "source": [
    "%%time\n",
    "train = pd.read_csv(r'C:\\Users\\user\\Desktop\\Μεταπτυχιακό\\Εργασίες\\Data Mining\\Χαλκίδη\\data\\train.csv')\n",
    "test = pd.read_csv(r'C:\\Users\\user\\Desktop\\Μεταπτυχιακό\\Εργασίες\\Data Mining\\Χαλκίδη\\data\\test.csv')\n",
    "submit = pd.read_csv(r'C:\\Users\\user\\Desktop\\Μεταπτυχιακό\\Εργασίες\\Data Mining\\Χαλκίδη\\data\\submit.csv')\n",
    "\n",
    "test = pd.merge(test,submit,on='id')\n",
    "total = pd.concat([train,test])\n",
    "\n",
    "total = total.fillna('')\n",
    "total = total.loc[total['text'] != '']"
   ]
  },
  {
   "cell_type": "code",
   "execution_count": 9,
   "id": "4fb2f365",
   "metadata": {},
   "outputs": [
    {
     "name": "stdout",
     "output_type": "stream",
     "text": [
      "Wall time: 5min 25s\n"
     ]
    }
   ],
   "source": [
    "%%time\n",
    "total['text'] = total['text'].apply(stemming)"
   ]
  },
  {
   "cell_type": "code",
   "execution_count": 20,
   "id": "394177c1",
   "metadata": {},
   "outputs": [
    {
     "data": {
      "text/html": [
       "<div>\n",
       "<style scoped>\n",
       "    .dataframe tbody tr th:only-of-type {\n",
       "        vertical-align: middle;\n",
       "    }\n",
       "\n",
       "    .dataframe tbody tr th {\n",
       "        vertical-align: top;\n",
       "    }\n",
       "\n",
       "    .dataframe thead th {\n",
       "        text-align: right;\n",
       "    }\n",
       "</style>\n",
       "<table border=\"1\" class=\"dataframe\">\n",
       "  <thead>\n",
       "    <tr style=\"text-align: right;\">\n",
       "      <th></th>\n",
       "      <th>id</th>\n",
       "      <th>title</th>\n",
       "      <th>author</th>\n",
       "      <th>text</th>\n",
       "      <th>label</th>\n",
       "    </tr>\n",
       "  </thead>\n",
       "  <tbody>\n",
       "    <tr>\n",
       "      <th>0</th>\n",
       "      <td>0</td>\n",
       "      <td>House Dem Aide: We Didn’t Even See Comey’s Let...</td>\n",
       "      <td>Darrell Lucus</td>\n",
       "      <td>hous dem aid even see comey letter jason chaff...</td>\n",
       "      <td>1</td>\n",
       "    </tr>\n",
       "    <tr>\n",
       "      <th>1</th>\n",
       "      <td>1</td>\n",
       "      <td>FLYNN: Hillary Clinton, Big Woman on Campus - ...</td>\n",
       "      <td>Daniel J. Flynn</td>\n",
       "      <td>ever get feel life circl roundabout rather hea...</td>\n",
       "      <td>0</td>\n",
       "    </tr>\n",
       "    <tr>\n",
       "      <th>2</th>\n",
       "      <td>2</td>\n",
       "      <td>Why the Truth Might Get You Fired</td>\n",
       "      <td>Consortiumnews.com</td>\n",
       "      <td>truth might get fire octob tension intellig an...</td>\n",
       "      <td>1</td>\n",
       "    </tr>\n",
       "    <tr>\n",
       "      <th>3</th>\n",
       "      <td>3</td>\n",
       "      <td>15 Civilians Killed In Single US Airstrike Hav...</td>\n",
       "      <td>Jessica Purkiss</td>\n",
       "      <td>video civilian kill singl us airstrik identifi...</td>\n",
       "      <td>1</td>\n",
       "    </tr>\n",
       "    <tr>\n",
       "      <th>4</th>\n",
       "      <td>4</td>\n",
       "      <td>Iranian woman jailed for fictional unpublished...</td>\n",
       "      <td>Howard Portnoy</td>\n",
       "      <td>print iranian woman sentenc six year prison ir...</td>\n",
       "      <td>1</td>\n",
       "    </tr>\n",
       "    <tr>\n",
       "      <th>...</th>\n",
       "      <td>...</td>\n",
       "      <td>...</td>\n",
       "      <td>...</td>\n",
       "      <td>...</td>\n",
       "      <td>...</td>\n",
       "    </tr>\n",
       "    <tr>\n",
       "      <th>5195</th>\n",
       "      <td>25995</td>\n",
       "      <td>The Bangladeshi Traffic Jam That Never Ends - ...</td>\n",
       "      <td>Jody Rosen</td>\n",
       "      <td>dysfunct plagu world megac none may pernici ba...</td>\n",
       "      <td>0</td>\n",
       "    </tr>\n",
       "    <tr>\n",
       "      <th>5196</th>\n",
       "      <td>25996</td>\n",
       "      <td>John Kasich Signs One Abortion Bill in Ohio bu...</td>\n",
       "      <td>Sheryl Gay Stolberg</td>\n",
       "      <td>washington gov john kasich ohio tuesday sign l...</td>\n",
       "      <td>1</td>\n",
       "    </tr>\n",
       "    <tr>\n",
       "      <th>5197</th>\n",
       "      <td>25997</td>\n",
       "      <td>California Today: What, Exactly, Is in Your Su...</td>\n",
       "      <td>Mike McPhate</td>\n",
       "      <td>good morn want get california today email joan...</td>\n",
       "      <td>0</td>\n",
       "    </tr>\n",
       "    <tr>\n",
       "      <th>5198</th>\n",
       "      <td>25998</td>\n",
       "      <td>300 US Marines To Be Deployed To Russian Borde...</td>\n",
       "      <td></td>\n",
       "      <td>previou next us marin deploy russian border no...</td>\n",
       "      <td>1</td>\n",
       "    </tr>\n",
       "    <tr>\n",
       "      <th>5199</th>\n",
       "      <td>25999</td>\n",
       "      <td>Awkward Sex, Onscreen and Off - The New York T...</td>\n",
       "      <td>Teddy Wayne</td>\n",
       "      <td>perhap seen new tv seri whose pilot episod beg...</td>\n",
       "      <td>0</td>\n",
       "    </tr>\n",
       "  </tbody>\n",
       "</table>\n",
       "<p>25954 rows × 5 columns</p>\n",
       "</div>"
      ],
      "text/plain": [
       "         id                                              title  \\\n",
       "0         0  House Dem Aide: We Didn’t Even See Comey’s Let...   \n",
       "1         1  FLYNN: Hillary Clinton, Big Woman on Campus - ...   \n",
       "2         2                  Why the Truth Might Get You Fired   \n",
       "3         3  15 Civilians Killed In Single US Airstrike Hav...   \n",
       "4         4  Iranian woman jailed for fictional unpublished...   \n",
       "...     ...                                                ...   \n",
       "5195  25995  The Bangladeshi Traffic Jam That Never Ends - ...   \n",
       "5196  25996  John Kasich Signs One Abortion Bill in Ohio bu...   \n",
       "5197  25997  California Today: What, Exactly, Is in Your Su...   \n",
       "5198  25998  300 US Marines To Be Deployed To Russian Borde...   \n",
       "5199  25999  Awkward Sex, Onscreen and Off - The New York T...   \n",
       "\n",
       "                   author                                               text  \\\n",
       "0           Darrell Lucus  hous dem aid even see comey letter jason chaff...   \n",
       "1         Daniel J. Flynn  ever get feel life circl roundabout rather hea...   \n",
       "2      Consortiumnews.com  truth might get fire octob tension intellig an...   \n",
       "3         Jessica Purkiss  video civilian kill singl us airstrik identifi...   \n",
       "4          Howard Portnoy  print iranian woman sentenc six year prison ir...   \n",
       "...                   ...                                                ...   \n",
       "5195           Jody Rosen  dysfunct plagu world megac none may pernici ba...   \n",
       "5196  Sheryl Gay Stolberg  washington gov john kasich ohio tuesday sign l...   \n",
       "5197         Mike McPhate  good morn want get california today email joan...   \n",
       "5198                       previou next us marin deploy russian border no...   \n",
       "5199          Teddy Wayne  perhap seen new tv seri whose pilot episod beg...   \n",
       "\n",
       "      label  \n",
       "0         1  \n",
       "1         0  \n",
       "2         1  \n",
       "3         1  \n",
       "4         1  \n",
       "...     ...  \n",
       "5195      0  \n",
       "5196      1  \n",
       "5197      0  \n",
       "5198      1  \n",
       "5199      0  \n",
       "\n",
       "[25954 rows x 5 columns]"
      ]
     },
     "execution_count": 20,
     "metadata": {},
     "output_type": "execute_result"
    }
   ],
   "source": [
    "total"
   ]
  },
  {
   "cell_type": "code",
   "execution_count": 19,
   "id": "813d262d",
   "metadata": {},
   "outputs": [],
   "source": [
    "texts = np.asarray(total['text'])"
   ]
  },
  {
   "cell_type": "code",
   "execution_count": 21,
   "id": "00482d54",
   "metadata": {},
   "outputs": [],
   "source": [
    "labels = np.asarray(total['label'])"
   ]
  },
  {
   "cell_type": "code",
   "execution_count": 27,
   "id": "a86b26b9",
   "metadata": {},
   "outputs": [
    {
     "name": "stdout",
     "output_type": "stream",
     "text": [
      "Wall time: 7.96 s\n"
     ]
    }
   ],
   "source": [
    "%%time\n",
    "vect = CountVectorizer().fit(texts)"
   ]
  },
  {
   "cell_type": "code",
   "execution_count": 33,
   "id": "61ccc4b7",
   "metadata": {},
   "outputs": [
    {
     "name": "stdout",
     "output_type": "stream",
     "text": [
      "Wall time: 7.47 s\n"
     ]
    }
   ],
   "source": [
    "%%time\n",
    "X = vect.transform(texts)"
   ]
  },
  {
   "cell_type": "code",
   "execution_count": 105,
   "id": "6adb223a",
   "metadata": {},
   "outputs": [],
   "source": [
    "col = np.asarray(vect.get_feature_names_out())"
   ]
  },
  {
   "cell_type": "code",
   "execution_count": 136,
   "id": "23e3ee66",
   "metadata": {},
   "outputs": [
    {
     "name": "stdout",
     "output_type": "stream",
     "text": [
      "Wall time: 2min 57s\n"
     ]
    }
   ],
   "source": [
    "%%time\n",
    "data = []\n",
    "for doc in range(X.shape[0]):\n",
    "    row = []\n",
    "    indices = X[doc,:].nonzero()\n",
    "    for ind in indices[1]:\n",
    "        for times in range(X[doc,ind]):\n",
    "            row.append(col[ind])\n",
    "    data.append(row)"
   ]
  },
  {
   "cell_type": "code",
   "execution_count": 142,
   "id": "43353156",
   "metadata": {},
   "outputs": [
    {
     "name": "stdout",
     "output_type": "stream",
     "text": [
      "Wall time: 10.6 s\n"
     ]
    }
   ],
   "source": [
    "%%time\n",
    "te = TransactionEncoder()\n",
    "te_ary = te.fit(data).transform(data)\n",
    "df = pd.DataFrame(te_ary, columns=te.columns_)\n",
    "\n",
    "frequent_itemsets = fpgrowth(df, use_colnames=True)"
   ]
  },
  {
   "cell_type": "code",
   "execution_count": 143,
   "id": "2c8632ec",
   "metadata": {},
   "outputs": [
    {
     "data": {
      "text/html": [
       "<div>\n",
       "<style scoped>\n",
       "    .dataframe tbody tr th:only-of-type {\n",
       "        vertical-align: middle;\n",
       "    }\n",
       "\n",
       "    .dataframe tbody tr th {\n",
       "        vertical-align: top;\n",
       "    }\n",
       "\n",
       "    .dataframe thead th {\n",
       "        text-align: right;\n",
       "    }\n",
       "</style>\n",
       "<table border=\"1\" class=\"dataframe\">\n",
       "  <thead>\n",
       "    <tr style=\"text-align: right;\">\n",
       "      <th></th>\n",
       "      <th>support</th>\n",
       "      <th>itemsets</th>\n",
       "    </tr>\n",
       "  </thead>\n",
       "  <tbody>\n",
       "    <tr>\n",
       "      <th>0</th>\n",
       "      <td>0.614664</td>\n",
       "      <td>(one)</td>\n",
       "    </tr>\n",
       "    <tr>\n",
       "      <th>1</th>\n",
       "      <td>0.557756</td>\n",
       "      <td>(time)</td>\n",
       "    </tr>\n",
       "    <tr>\n",
       "      <th>2</th>\n",
       "      <td>0.540687</td>\n",
       "      <td>(also)</td>\n",
       "    </tr>\n",
       "    <tr>\n",
       "      <th>3</th>\n",
       "      <td>0.536719</td>\n",
       "      <td>(year)</td>\n",
       "    </tr>\n",
       "    <tr>\n",
       "      <th>4</th>\n",
       "      <td>0.535717</td>\n",
       "      <td>(like)</td>\n",
       "    </tr>\n",
       "    <tr>\n",
       "      <th>5</th>\n",
       "      <td>0.622255</td>\n",
       "      <td>(said)</td>\n",
       "    </tr>\n",
       "    <tr>\n",
       "      <th>6</th>\n",
       "      <td>0.537220</td>\n",
       "      <td>(peopl)</td>\n",
       "    </tr>\n",
       "    <tr>\n",
       "      <th>7</th>\n",
       "      <td>0.508168</td>\n",
       "      <td>(new)</td>\n",
       "    </tr>\n",
       "    <tr>\n",
       "      <th>8</th>\n",
       "      <td>0.544579</td>\n",
       "      <td>(would)</td>\n",
       "    </tr>\n",
       "    <tr>\n",
       "      <th>9</th>\n",
       "      <td>0.509324</td>\n",
       "      <td>(state)</td>\n",
       "    </tr>\n",
       "  </tbody>\n",
       "</table>\n",
       "</div>"
      ],
      "text/plain": [
       "    support itemsets\n",
       "0  0.614664    (one)\n",
       "1  0.557756   (time)\n",
       "2  0.540687   (also)\n",
       "3  0.536719   (year)\n",
       "4  0.535717   (like)\n",
       "5  0.622255   (said)\n",
       "6  0.537220  (peopl)\n",
       "7  0.508168    (new)\n",
       "8  0.544579  (would)\n",
       "9  0.509324  (state)"
      ]
     },
     "execution_count": 143,
     "metadata": {},
     "output_type": "execute_result"
    }
   ],
   "source": [
    "frequent_itemsets"
   ]
  },
  {
   "cell_type": "code",
   "execution_count": 151,
   "id": "5f972ada",
   "metadata": {},
   "outputs": [
    {
     "data": {
      "text/plain": [
       "(0, 9)"
      ]
     },
     "execution_count": 151,
     "metadata": {},
     "output_type": "execute_result"
    }
   ],
   "source": [
    "from mlxtend.frequent_patterns import association_rules\n",
    "\n",
    "ar = association_rules(frequent_itemsets, metric='lift')\n",
    "ar.shape"
   ]
  },
  {
   "cell_type": "code",
   "execution_count": 300,
   "id": "e3082536",
   "metadata": {},
   "outputs": [
    {
     "name": "stdout",
     "output_type": "stream",
     "text": [
      "Wall time: 31.3 ms\n"
     ]
    }
   ],
   "source": [
    "%%time\n",
    "reliable = []\n",
    "unreliable = []\n",
    "for i in range(labels.shape[0]):\n",
    "    if labels[i] == 1:\n",
    "        unreliable.append(data[i])\n",
    "    elif labels[i] == 0:\n",
    "        reliable.append(data[i])"
   ]
  },
  {
   "cell_type": "code",
   "execution_count": 303,
   "id": "c9165dc5",
   "metadata": {},
   "outputs": [
    {
     "name": "stdout",
     "output_type": "stream",
     "text": [
      "Wall time: 20.9 s\n"
     ]
    }
   ],
   "source": [
    "%%time\n",
    "te = TransactionEncoder()\n",
    "te_ary = te.fit(reliable).transform(reliable)\n",
    "df = pd.DataFrame(te_ary, columns=te.columns_)\n",
    "\n",
    "frequence_reliable = fpgrowth(df, min_support=.3, use_colnames=True)"
   ]
  },
  {
   "cell_type": "code",
   "execution_count": 301,
   "id": "c8e43707",
   "metadata": {},
   "outputs": [
    {
     "name": "stdout",
     "output_type": "stream",
     "text": [
      "Wall time: 5.75 s\n"
     ]
    }
   ],
   "source": [
    "%%time\n",
    "te = TransactionEncoder()\n",
    "te_ary = te.fit(unreliable).transform(unreliable)\n",
    "df = pd.DataFrame(te_ary, columns=te.columns_)\n",
    "\n",
    "frequence_unreliable = fpgrowth(df, min_support=.3, use_colnames=True)"
   ]
  },
  {
   "cell_type": "code",
   "execution_count": 185,
   "id": "c6d8dc91",
   "metadata": {},
   "outputs": [],
   "source": [
    "import matplotlib.pyplot as plt"
   ]
  },
  {
   "cell_type": "code",
   "execution_count": 304,
   "id": "6c01412f",
   "metadata": {},
   "outputs": [
    {
     "name": "stdout",
     "output_type": "stream",
     "text": [
      "Support of Words in Unreliable News\n"
     ]
    },
    {
     "data": {
      "text/html": [
       "<div>\n",
       "<style scoped>\n",
       "    .dataframe tbody tr th:only-of-type {\n",
       "        vertical-align: middle;\n",
       "    }\n",
       "\n",
       "    .dataframe tbody tr th {\n",
       "        vertical-align: top;\n",
       "    }\n",
       "\n",
       "    .dataframe thead th {\n",
       "        text-align: right;\n",
       "    }\n",
       "</style>\n",
       "<table border=\"1\" class=\"dataframe\">\n",
       "  <thead>\n",
       "    <tr style=\"text-align: right;\">\n",
       "      <th></th>\n",
       "      <th>support</th>\n",
       "      <th>itemsets</th>\n",
       "    </tr>\n",
       "  </thead>\n",
       "  <tbody>\n",
       "    <tr>\n",
       "      <th>0</th>\n",
       "      <td>0.828697</td>\n",
       "      <td>(said)</td>\n",
       "    </tr>\n",
       "    <tr>\n",
       "      <th>1</th>\n",
       "      <td>0.745875</td>\n",
       "      <td>(one)</td>\n",
       "    </tr>\n",
       "    <tr>\n",
       "      <th>46</th>\n",
       "      <td>0.687647</td>\n",
       "      <td>(also)</td>\n",
       "    </tr>\n",
       "    <tr>\n",
       "      <th>60</th>\n",
       "      <td>0.683404</td>\n",
       "      <td>(would)</td>\n",
       "    </tr>\n",
       "    <tr>\n",
       "      <th>2</th>\n",
       "      <td>0.672167</td>\n",
       "      <td>(year)</td>\n",
       "    </tr>\n",
       "    <tr>\n",
       "      <th>3</th>\n",
       "      <td>0.671696</td>\n",
       "      <td>(time)</td>\n",
       "    </tr>\n",
       "    <tr>\n",
       "      <th>4</th>\n",
       "      <td>0.649143</td>\n",
       "      <td>(like)</td>\n",
       "    </tr>\n",
       "    <tr>\n",
       "      <th>5</th>\n",
       "      <td>0.647886</td>\n",
       "      <td>(peopl)</td>\n",
       "    </tr>\n",
       "    <tr>\n",
       "      <th>6</th>\n",
       "      <td>0.644272</td>\n",
       "      <td>(new)</td>\n",
       "    </tr>\n",
       "    <tr>\n",
       "      <th>100</th>\n",
       "      <td>0.638300</td>\n",
       "      <td>(one, said)</td>\n",
       "    </tr>\n",
       "  </tbody>\n",
       "</table>\n",
       "</div>"
      ],
      "text/plain": [
       "      support     itemsets\n",
       "0    0.828697       (said)\n",
       "1    0.745875        (one)\n",
       "46   0.687647       (also)\n",
       "60   0.683404      (would)\n",
       "2    0.672167       (year)\n",
       "3    0.671696       (time)\n",
       "4    0.649143       (like)\n",
       "5    0.647886      (peopl)\n",
       "6    0.644272        (new)\n",
       "100  0.638300  (one, said)"
      ]
     },
     "execution_count": 304,
     "metadata": {},
     "output_type": "execute_result"
    }
   ],
   "source": [
    "print('Support of Words in Unreliable News')\n",
    "frequence_reliable.sort_values('support', ascending=False).head(10)"
   ]
  },
  {
   "cell_type": "code",
   "execution_count": 302,
   "id": "a2e8ca71",
   "metadata": {},
   "outputs": [
    {
     "name": "stdout",
     "output_type": "stream",
     "text": [
      "Support of Words in Unreliable News\n"
     ]
    },
    {
     "data": {
      "text/html": [
       "<div>\n",
       "<style scoped>\n",
       "    .dataframe tbody tr th:only-of-type {\n",
       "        vertical-align: middle;\n",
       "    }\n",
       "\n",
       "    .dataframe tbody tr th {\n",
       "        vertical-align: top;\n",
       "    }\n",
       "\n",
       "    .dataframe thead th {\n",
       "        text-align: right;\n",
       "    }\n",
       "</style>\n",
       "<table border=\"1\" class=\"dataframe\">\n",
       "  <thead>\n",
       "    <tr style=\"text-align: right;\">\n",
       "      <th></th>\n",
       "      <th>support</th>\n",
       "      <th>itemsets</th>\n",
       "    </tr>\n",
       "  </thead>\n",
       "  <tbody>\n",
       "    <tr>\n",
       "      <th>0</th>\n",
       "      <td>0.488434</td>\n",
       "      <td>(one)</td>\n",
       "    </tr>\n",
       "    <tr>\n",
       "      <th>1</th>\n",
       "      <td>0.448140</td>\n",
       "      <td>(time)</td>\n",
       "    </tr>\n",
       "    <tr>\n",
       "      <th>8</th>\n",
       "      <td>0.430753</td>\n",
       "      <td>(peopl)</td>\n",
       "    </tr>\n",
       "    <tr>\n",
       "      <th>2</th>\n",
       "      <td>0.426595</td>\n",
       "      <td>(like)</td>\n",
       "    </tr>\n",
       "    <tr>\n",
       "      <th>19</th>\n",
       "      <td>0.423647</td>\n",
       "      <td>(said)</td>\n",
       "    </tr>\n",
       "    <tr>\n",
       "      <th>9</th>\n",
       "      <td>0.411022</td>\n",
       "      <td>(would)</td>\n",
       "    </tr>\n",
       "    <tr>\n",
       "      <th>10</th>\n",
       "      <td>0.409737</td>\n",
       "      <td>(state)</td>\n",
       "    </tr>\n",
       "    <tr>\n",
       "      <th>3</th>\n",
       "      <td>0.406411</td>\n",
       "      <td>(year)</td>\n",
       "    </tr>\n",
       "    <tr>\n",
       "      <th>4</th>\n",
       "      <td>0.399305</td>\n",
       "      <td>(also)</td>\n",
       "    </tr>\n",
       "    <tr>\n",
       "      <th>24</th>\n",
       "      <td>0.377230</td>\n",
       "      <td>(new)</td>\n",
       "    </tr>\n",
       "  </tbody>\n",
       "</table>\n",
       "</div>"
      ],
      "text/plain": [
       "     support itemsets\n",
       "0   0.488434    (one)\n",
       "1   0.448140   (time)\n",
       "8   0.430753  (peopl)\n",
       "2   0.426595   (like)\n",
       "19  0.423647   (said)\n",
       "9   0.411022  (would)\n",
       "10  0.409737  (state)\n",
       "3   0.406411   (year)\n",
       "4   0.399305   (also)\n",
       "24  0.377230    (new)"
      ]
     },
     "execution_count": 302,
     "metadata": {},
     "output_type": "execute_result"
    }
   ],
   "source": [
    "print('Support of Words in Unreliable News')\n",
    "frequence_unreliable.sort_values('support', ascending=False).head(10)"
   ]
  },
  {
   "cell_type": "code",
   "execution_count": 200,
   "id": "7ff717bb",
   "metadata": {},
   "outputs": [
    {
     "data": {
      "text/plain": [
       "(27, 2)"
      ]
     },
     "execution_count": 200,
     "metadata": {},
     "output_type": "execute_result"
    }
   ],
   "source": [
    "frequence_unreliable.shape"
   ]
  },
  {
   "cell_type": "code",
   "execution_count": 201,
   "id": "2410f7dd",
   "metadata": {},
   "outputs": [
    {
     "data": {
      "text/plain": [
       "(1949, 2)"
      ]
     },
     "execution_count": 201,
     "metadata": {},
     "output_type": "execute_result"
    }
   ],
   "source": [
    "frequence_reliable.shape"
   ]
  },
  {
   "cell_type": "code",
   "execution_count": 225,
   "id": "30307681",
   "metadata": {},
   "outputs": [
    {
     "data": {
      "image/png": "[encoded data removed]",
      "text/plain": [
       "<Figure size 432x288 with 1 Axes>"
      ]
     },
     "metadata": {
      "needs_background": "light"
     },
     "output_type": "display_data"
    }
   ],
   "source": [
    "frequence_unreliable['support'].hist(label='Unreliable', color='orange')\n",
    "plt.legend()\n",
    "plt.show()"
   ]
  },
  {
   "cell_type": "code",
   "execution_count": 226,
   "id": "afb0c2f4",
   "metadata": {},
   "outputs": [
    {
     "data": {
      "image/png": "[encoded data removed]",
      "text/plain": [
       "<Figure size 432x288 with 1 Axes>"
      ]
     },
     "metadata": {
      "needs_background": "light"
     },
     "output_type": "display_data"
    }
   ],
   "source": [
    "frequence_reliable['support'].hist(label='Reliable', color='blue')\n",
    "plt.legend()\n",
    "plt.show()"
   ]
  },
  {
   "cell_type": "code",
   "execution_count": 234,
   "id": "ab80f4e0",
   "metadata": {},
   "outputs": [],
   "source": [
    "from mlxtend.frequent_patterns import association_rules"
   ]
  },
  {
   "cell_type": "code",
   "execution_count": 289,
   "id": "c59b28d4",
   "metadata": {},
   "outputs": [
    {
     "data": {
      "text/html": [
       "<div>\n",
       "<style scoped>\n",
       "    .dataframe tbody tr th:only-of-type {\n",
       "        vertical-align: middle;\n",
       "    }\n",
       "\n",
       "    .dataframe tbody tr th {\n",
       "        vertical-align: top;\n",
       "    }\n",
       "\n",
       "    .dataframe thead th {\n",
       "        text-align: right;\n",
       "    }\n",
       "</style>\n",
       "<table border=\"1\" class=\"dataframe\">\n",
       "  <thead>\n",
       "    <tr style=\"text-align: right;\">\n",
       "      <th></th>\n",
       "      <th>antecedents</th>\n",
       "      <th>consequents</th>\n",
       "      <th>antecedent support</th>\n",
       "      <th>consequent support</th>\n",
       "      <th>support</th>\n",
       "      <th>confidence</th>\n",
       "      <th>lift</th>\n",
       "      <th>leverage</th>\n",
       "      <th>conviction</th>\n",
       "    </tr>\n",
       "  </thead>\n",
       "  <tbody>\n",
       "    <tr>\n",
       "      <th>0</th>\n",
       "      <td>(time)</td>\n",
       "      <td>(one)</td>\n",
       "      <td>0.448140</td>\n",
       "      <td>0.488434</td>\n",
       "      <td>0.309268</td>\n",
       "      <td>0.690115</td>\n",
       "      <td>1.412914</td>\n",
       "      <td>0.090381</td>\n",
       "      <td>1.650825</td>\n",
       "    </tr>\n",
       "    <tr>\n",
       "      <th>1</th>\n",
       "      <td>(one)</td>\n",
       "      <td>(time)</td>\n",
       "      <td>0.488434</td>\n",
       "      <td>0.448140</td>\n",
       "      <td>0.309268</td>\n",
       "      <td>0.633184</td>\n",
       "      <td>1.412914</td>\n",
       "      <td>0.090381</td>\n",
       "      <td>1.504458</td>\n",
       "    </tr>\n",
       "  </tbody>\n",
       "</table>\n",
       "</div>"
      ],
      "text/plain": [
       "  antecedents consequents  antecedent support  consequent support   support  \\\n",
       "0      (time)       (one)            0.448140            0.488434  0.309268   \n",
       "1       (one)      (time)            0.488434            0.448140  0.309268   \n",
       "\n",
       "   confidence      lift  leverage  conviction  \n",
       "0    0.690115  1.412914  0.090381    1.650825  \n",
       "1    0.633184  1.412914  0.090381    1.504458  "
      ]
     },
     "execution_count": 289,
     "metadata": {},
     "output_type": "execute_result"
    }
   ],
   "source": [
    "association_rules(frequence_unreliable, min_threshold=.0)"
   ]
  },
  {
   "cell_type": "code",
   "execution_count": 305,
   "id": "9f0addbc",
   "metadata": {},
   "outputs": [
    {
     "data": {
      "text/html": [
       "<div>\n",
       "<style scoped>\n",
       "    .dataframe tbody tr th:only-of-type {\n",
       "        vertical-align: middle;\n",
       "    }\n",
       "\n",
       "    .dataframe tbody tr th {\n",
       "        vertical-align: top;\n",
       "    }\n",
       "\n",
       "    .dataframe thead th {\n",
       "        text-align: right;\n",
       "    }\n",
       "</style>\n",
       "<table border=\"1\" class=\"dataframe\">\n",
       "  <thead>\n",
       "    <tr style=\"text-align: right;\">\n",
       "      <th></th>\n",
       "      <th>antecedents</th>\n",
       "      <th>consequents</th>\n",
       "      <th>antecedent support</th>\n",
       "      <th>consequent support</th>\n",
       "      <th>support</th>\n",
       "      <th>confidence</th>\n",
       "      <th>lift</th>\n",
       "      <th>leverage</th>\n",
       "      <th>conviction</th>\n",
       "    </tr>\n",
       "  </thead>\n",
       "  <tbody>\n",
       "    <tr>\n",
       "      <th>6</th>\n",
       "      <td>(donald)</td>\n",
       "      <td>(trump)</td>\n",
       "      <td>0.325947</td>\n",
       "      <td>0.446409</td>\n",
       "      <td>0.319582</td>\n",
       "      <td>0.980473</td>\n",
       "      <td>2.196355</td>\n",
       "      <td>0.174076</td>\n",
       "      <td>28.349331</td>\n",
       "    </tr>\n",
       "    <tr>\n",
       "      <th>7</th>\n",
       "      <td>(trump)</td>\n",
       "      <td>(donald)</td>\n",
       "      <td>0.446409</td>\n",
       "      <td>0.325947</td>\n",
       "      <td>0.319582</td>\n",
       "      <td>0.715895</td>\n",
       "      <td>2.196355</td>\n",
       "      <td>0.174076</td>\n",
       "      <td>2.372550</td>\n",
       "    </tr>\n",
       "    <tr>\n",
       "      <th>21</th>\n",
       "      <td>(unit)</td>\n",
       "      <td>(would, state)</td>\n",
       "      <td>0.410262</td>\n",
       "      <td>0.464875</td>\n",
       "      <td>0.300016</td>\n",
       "      <td>0.731278</td>\n",
       "      <td>1.573063</td>\n",
       "      <td>0.109295</td>\n",
       "      <td>1.991367</td>\n",
       "    </tr>\n",
       "    <tr>\n",
       "      <th>18</th>\n",
       "      <td>(would, state)</td>\n",
       "      <td>(unit)</td>\n",
       "      <td>0.464875</td>\n",
       "      <td>0.410262</td>\n",
       "      <td>0.300016</td>\n",
       "      <td>0.645368</td>\n",
       "      <td>1.573063</td>\n",
       "      <td>0.109295</td>\n",
       "      <td>1.662959</td>\n",
       "    </tr>\n",
       "    <tr>\n",
       "      <th>3</th>\n",
       "      <td>(trump, said)</td>\n",
       "      <td>(presid)</td>\n",
       "      <td>0.379066</td>\n",
       "      <td>0.547933</td>\n",
       "      <td>0.325240</td>\n",
       "      <td>0.858002</td>\n",
       "      <td>1.565887</td>\n",
       "      <td>0.117536</td>\n",
       "      <td>3.183605</td>\n",
       "    </tr>\n",
       "    <tr>\n",
       "      <th>4</th>\n",
       "      <td>(presid)</td>\n",
       "      <td>(trump, said)</td>\n",
       "      <td>0.547933</td>\n",
       "      <td>0.379066</td>\n",
       "      <td>0.325240</td>\n",
       "      <td>0.593575</td>\n",
       "      <td>1.565887</td>\n",
       "      <td>0.117536</td>\n",
       "      <td>1.527794</td>\n",
       "    </tr>\n",
       "    <tr>\n",
       "      <th>9</th>\n",
       "      <td>(new)</td>\n",
       "      <td>(york)</td>\n",
       "      <td>0.644272</td>\n",
       "      <td>0.304495</td>\n",
       "      <td>0.304180</td>\n",
       "      <td>0.472131</td>\n",
       "      <td>1.550538</td>\n",
       "      <td>0.108003</td>\n",
       "      <td>1.317571</td>\n",
       "    </tr>\n",
       "    <tr>\n",
       "      <th>8</th>\n",
       "      <td>(york)</td>\n",
       "      <td>(new)</td>\n",
       "      <td>0.304495</td>\n",
       "      <td>0.644272</td>\n",
       "      <td>0.304180</td>\n",
       "      <td>0.998968</td>\n",
       "      <td>1.550538</td>\n",
       "      <td>0.108003</td>\n",
       "      <td>344.611917</td>\n",
       "    </tr>\n",
       "    <tr>\n",
       "      <th>1</th>\n",
       "      <td>(trump)</td>\n",
       "      <td>(presid)</td>\n",
       "      <td>0.446409</td>\n",
       "      <td>0.547933</td>\n",
       "      <td>0.378595</td>\n",
       "      <td>0.848090</td>\n",
       "      <td>1.547798</td>\n",
       "      <td>0.133993</td>\n",
       "      <td>2.975887</td>\n",
       "    </tr>\n",
       "    <tr>\n",
       "      <th>0</th>\n",
       "      <td>(presid)</td>\n",
       "      <td>(trump)</td>\n",
       "      <td>0.547933</td>\n",
       "      <td>0.446409</td>\n",
       "      <td>0.378595</td>\n",
       "      <td>0.690951</td>\n",
       "      <td>1.547798</td>\n",
       "      <td>0.133993</td>\n",
       "      <td>1.791272</td>\n",
       "    </tr>\n",
       "    <tr>\n",
       "      <th>13</th>\n",
       "      <td>(unit)</td>\n",
       "      <td>(state, said)</td>\n",
       "      <td>0.410262</td>\n",
       "      <td>0.531432</td>\n",
       "      <td>0.336477</td>\n",
       "      <td>0.820149</td>\n",
       "      <td>1.543283</td>\n",
       "      <td>0.118450</td>\n",
       "      <td>2.605320</td>\n",
       "    </tr>\n",
       "    <tr>\n",
       "      <th>10</th>\n",
       "      <td>(state, said)</td>\n",
       "      <td>(unit)</td>\n",
       "      <td>0.531432</td>\n",
       "      <td>0.410262</td>\n",
       "      <td>0.336477</td>\n",
       "      <td>0.633151</td>\n",
       "      <td>1.543283</td>\n",
       "      <td>0.118450</td>\n",
       "      <td>1.607576</td>\n",
       "    </tr>\n",
       "    <tr>\n",
       "      <th>14</th>\n",
       "      <td>(state, one)</td>\n",
       "      <td>(unit)</td>\n",
       "      <td>0.487977</td>\n",
       "      <td>0.410262</td>\n",
       "      <td>0.308424</td>\n",
       "      <td>0.632045</td>\n",
       "      <td>1.540587</td>\n",
       "      <td>0.108225</td>\n",
       "      <td>1.602744</td>\n",
       "    </tr>\n",
       "    <tr>\n",
       "      <th>17</th>\n",
       "      <td>(unit)</td>\n",
       "      <td>(state, one)</td>\n",
       "      <td>0.410262</td>\n",
       "      <td>0.487977</td>\n",
       "      <td>0.308424</td>\n",
       "      <td>0.751772</td>\n",
       "      <td>1.540587</td>\n",
       "      <td>0.108225</td>\n",
       "      <td>2.062708</td>\n",
       "    </tr>\n",
       "    <tr>\n",
       "      <th>2</th>\n",
       "      <td>(presid, said)</td>\n",
       "      <td>(trump)</td>\n",
       "      <td>0.478234</td>\n",
       "      <td>0.446409</td>\n",
       "      <td>0.325240</td>\n",
       "      <td>0.680085</td>\n",
       "      <td>1.523458</td>\n",
       "      <td>0.111752</td>\n",
       "      <td>1.730434</td>\n",
       "    </tr>\n",
       "    <tr>\n",
       "      <th>5</th>\n",
       "      <td>(trump)</td>\n",
       "      <td>(presid, said)</td>\n",
       "      <td>0.446409</td>\n",
       "      <td>0.478234</td>\n",
       "      <td>0.325240</td>\n",
       "      <td>0.728569</td>\n",
       "      <td>1.523458</td>\n",
       "      <td>0.111752</td>\n",
       "      <td>1.922280</td>\n",
       "    </tr>\n",
       "    <tr>\n",
       "      <th>19</th>\n",
       "      <td>(would, unit)</td>\n",
       "      <td>(state)</td>\n",
       "      <td>0.322175</td>\n",
       "      <td>0.612840</td>\n",
       "      <td>0.300016</td>\n",
       "      <td>0.931220</td>\n",
       "      <td>1.519515</td>\n",
       "      <td>0.102574</td>\n",
       "      <td>5.628924</td>\n",
       "    </tr>\n",
       "    <tr>\n",
       "      <th>20</th>\n",
       "      <td>(state)</td>\n",
       "      <td>(would, unit)</td>\n",
       "      <td>0.612840</td>\n",
       "      <td>0.322175</td>\n",
       "      <td>0.300016</td>\n",
       "      <td>0.489550</td>\n",
       "      <td>1.519515</td>\n",
       "      <td>0.102574</td>\n",
       "      <td>1.327897</td>\n",
       "    </tr>\n",
       "    <tr>\n",
       "      <th>15</th>\n",
       "      <td>(unit, one)</td>\n",
       "      <td>(state)</td>\n",
       "      <td>0.334669</td>\n",
       "      <td>0.612840</td>\n",
       "      <td>0.308424</td>\n",
       "      <td>0.921578</td>\n",
       "      <td>1.503782</td>\n",
       "      <td>0.103325</td>\n",
       "      <td>4.936871</td>\n",
       "    </tr>\n",
       "    <tr>\n",
       "      <th>16</th>\n",
       "      <td>(state)</td>\n",
       "      <td>(unit, one)</td>\n",
       "      <td>0.612840</td>\n",
       "      <td>0.334669</td>\n",
       "      <td>0.308424</td>\n",
       "      <td>0.503270</td>\n",
       "      <td>1.503782</td>\n",
       "      <td>0.103325</td>\n",
       "      <td>1.339421</td>\n",
       "    </tr>\n",
       "  </tbody>\n",
       "</table>\n",
       "</div>"
      ],
      "text/plain": [
       "       antecedents     consequents  antecedent support  consequent support  \\\n",
       "6         (donald)         (trump)            0.325947            0.446409   \n",
       "7          (trump)        (donald)            0.446409            0.325947   \n",
       "21          (unit)  (would, state)            0.410262            0.464875   \n",
       "18  (would, state)          (unit)            0.464875            0.410262   \n",
       "3    (trump, said)        (presid)            0.379066            0.547933   \n",
       "4         (presid)   (trump, said)            0.547933            0.379066   \n",
       "9            (new)          (york)            0.644272            0.304495   \n",
       "8           (york)           (new)            0.304495            0.644272   \n",
       "1          (trump)        (presid)            0.446409            0.547933   \n",
       "0         (presid)         (trump)            0.547933            0.446409   \n",
       "13          (unit)   (state, said)            0.410262            0.531432   \n",
       "10   (state, said)          (unit)            0.531432            0.410262   \n",
       "14    (state, one)          (unit)            0.487977            0.410262   \n",
       "17          (unit)    (state, one)            0.410262            0.487977   \n",
       "2   (presid, said)         (trump)            0.478234            0.446409   \n",
       "5          (trump)  (presid, said)            0.446409            0.478234   \n",
       "19   (would, unit)         (state)            0.322175            0.612840   \n",
       "20         (state)   (would, unit)            0.612840            0.322175   \n",
       "15     (unit, one)         (state)            0.334669            0.612840   \n",
       "16         (state)     (unit, one)            0.612840            0.334669   \n",
       "\n",
       "     support  confidence      lift  leverage  conviction  \n",
       "6   0.319582    0.980473  2.196355  0.174076   28.349331  \n",
       "7   0.319582    0.715895  2.196355  0.174076    2.372550  \n",
       "21  0.300016    0.731278  1.573063  0.109295    1.991367  \n",
       "18  0.300016    0.645368  1.573063  0.109295    1.662959  \n",
       "3   0.325240    0.858002  1.565887  0.117536    3.183605  \n",
       "4   0.325240    0.593575  1.565887  0.117536    1.527794  \n",
       "9   0.304180    0.472131  1.550538  0.108003    1.317571  \n",
       "8   0.304180    0.998968  1.550538  0.108003  344.611917  \n",
       "1   0.378595    0.848090  1.547798  0.133993    2.975887  \n",
       "0   0.378595    0.690951  1.547798  0.133993    1.791272  \n",
       "13  0.336477    0.820149  1.543283  0.118450    2.605320  \n",
       "10  0.336477    0.633151  1.543283  0.118450    1.607576  \n",
       "14  0.308424    0.632045  1.540587  0.108225    1.602744  \n",
       "17  0.308424    0.751772  1.540587  0.108225    2.062708  \n",
       "2   0.325240    0.680085  1.523458  0.111752    1.730434  \n",
       "5   0.325240    0.728569  1.523458  0.111752    1.922280  \n",
       "19  0.300016    0.931220  1.519515  0.102574    5.628924  \n",
       "20  0.300016    0.489550  1.519515  0.102574    1.327897  \n",
       "15  0.308424    0.921578  1.503782  0.103325    4.936871  \n",
       "16  0.308424    0.503270  1.503782  0.103325    1.339421  "
      ]
     },
     "execution_count": 305,
     "metadata": {},
     "output_type": "execute_result"
    }
   ],
   "source": [
    "association_rules(frequence_reliable, metric='lift', min_threshold=1.5).sort_values('lift', ascending=False).head(20)"
   ]
  },
  {
   "cell_type": "markdown",
   "id": "661a964b",
   "metadata": {},
   "source": [
    "A priori approximation"
   ]
  },
  {
   "cell_type": "code",
   "execution_count": 262,
   "id": "2daea910",
   "metadata": {},
   "outputs": [],
   "source": [
    "from mlxtend.frequent_patterns import apriori\n",
    "\n",
    "te = TransactionEncoder()\n",
    "te_ary = te.fit(reliable).transform(reliable)\n",
    "reliableDF = pd.DataFrame(te_ary, columns=te.columns_)\n",
    "\n",
    "te = TransactionEncoder()\n",
    "te_ary = te.fit(unreliable).transform(unreliable)\n",
    "unreliableDF = pd.DataFrame(te_ary, columns=te.columns_)\n",
    "\n",
    "reliableApriori = apriori(reliableDF, min_support=0.6, use_colnames=True)\n",
    "unreliableApriori = apriori(unreliableDF, min_support=0.3, use_colnames=True)"
   ]
  },
  {
   "cell_type": "code",
   "execution_count": 306,
   "id": "843a2cb7",
   "metadata": {},
   "outputs": [],
   "source": [
    "reliableApriori['length'] = reliableApriori['itemsets'].apply(lambda x: len(x))\n",
    "unreliableApriori['length'] = unreliableApriori['itemsets'].apply(lambda x: len(x))"
   ]
  },
  {
   "cell_type": "code",
   "execution_count": 268,
   "id": "88748918",
   "metadata": {},
   "outputs": [
    {
     "data": {
      "text/html": [
       "<div>\n",
       "<style scoped>\n",
       "    .dataframe tbody tr th:only-of-type {\n",
       "        vertical-align: middle;\n",
       "    }\n",
       "\n",
       "    .dataframe tbody tr th {\n",
       "        vertical-align: top;\n",
       "    }\n",
       "\n",
       "    .dataframe thead th {\n",
       "        text-align: right;\n",
       "    }\n",
       "</style>\n",
       "<table border=\"1\" class=\"dataframe\">\n",
       "  <thead>\n",
       "    <tr style=\"text-align: right;\">\n",
       "      <th></th>\n",
       "      <th>support</th>\n",
       "      <th>itemsets</th>\n",
       "      <th>length</th>\n",
       "    </tr>\n",
       "  </thead>\n",
       "  <tbody>\n",
       "    <tr>\n",
       "      <th>10</th>\n",
       "      <td>0.638300</td>\n",
       "      <td>(one, said)</td>\n",
       "      <td>2</td>\n",
       "    </tr>\n",
       "    <tr>\n",
       "      <th>11</th>\n",
       "      <td>0.601053</td>\n",
       "      <td>(would, said)</td>\n",
       "      <td>2</td>\n",
       "    </tr>\n",
       "    <tr>\n",
       "      <th>0</th>\n",
       "      <td>0.687647</td>\n",
       "      <td>(also)</td>\n",
       "      <td>1</td>\n",
       "    </tr>\n",
       "    <tr>\n",
       "      <th>1</th>\n",
       "      <td>0.649143</td>\n",
       "      <td>(like)</td>\n",
       "      <td>1</td>\n",
       "    </tr>\n",
       "    <tr>\n",
       "      <th>2</th>\n",
       "      <td>0.644272</td>\n",
       "      <td>(new)</td>\n",
       "      <td>1</td>\n",
       "    </tr>\n",
       "  </tbody>\n",
       "</table>\n",
       "</div>"
      ],
      "text/plain": [
       "     support       itemsets  length\n",
       "10  0.638300    (one, said)       2\n",
       "11  0.601053  (would, said)       2\n",
       "0   0.687647         (also)       1\n",
       "1   0.649143         (like)       1\n",
       "2   0.644272          (new)       1"
      ]
     },
     "execution_count": 268,
     "metadata": {},
     "output_type": "execute_result"
    }
   ],
   "source": [
    "reliableApriori.sort_values('length', ascending=False).head()"
   ]
  },
  {
   "cell_type": "code",
   "execution_count": 307,
   "id": "17be698b",
   "metadata": {},
   "outputs": [
    {
     "data": {
      "text/html": [
       "<div>\n",
       "<style scoped>\n",
       "    .dataframe tbody tr th:only-of-type {\n",
       "        vertical-align: middle;\n",
       "    }\n",
       "\n",
       "    .dataframe tbody tr th {\n",
       "        vertical-align: top;\n",
       "    }\n",
       "\n",
       "    .dataframe thead th {\n",
       "        text-align: right;\n",
       "    }\n",
       "</style>\n",
       "<table border=\"1\" class=\"dataframe\">\n",
       "  <thead>\n",
       "    <tr style=\"text-align: right;\">\n",
       "      <th></th>\n",
       "      <th>support</th>\n",
       "      <th>itemsets</th>\n",
       "      <th>length</th>\n",
       "    </tr>\n",
       "  </thead>\n",
       "  <tbody>\n",
       "    <tr>\n",
       "      <th>12</th>\n",
       "      <td>0.488434</td>\n",
       "      <td>(one)</td>\n",
       "      <td>1</td>\n",
       "    </tr>\n",
       "    <tr>\n",
       "      <th>20</th>\n",
       "      <td>0.448140</td>\n",
       "      <td>(time)</td>\n",
       "      <td>1</td>\n",
       "    </tr>\n",
       "    <tr>\n",
       "      <th>13</th>\n",
       "      <td>0.430753</td>\n",
       "      <td>(peopl)</td>\n",
       "      <td>1</td>\n",
       "    </tr>\n",
       "    <tr>\n",
       "      <th>8</th>\n",
       "      <td>0.426595</td>\n",
       "      <td>(like)</td>\n",
       "      <td>1</td>\n",
       "    </tr>\n",
       "    <tr>\n",
       "      <th>16</th>\n",
       "      <td>0.423647</td>\n",
       "      <td>(said)</td>\n",
       "      <td>1</td>\n",
       "    </tr>\n",
       "  </tbody>\n",
       "</table>\n",
       "</div>"
      ],
      "text/plain": [
       "     support itemsets  length\n",
       "12  0.488434    (one)       1\n",
       "20  0.448140   (time)       1\n",
       "13  0.430753  (peopl)       1\n",
       "8   0.426595   (like)       1\n",
       "16  0.423647   (said)       1"
      ]
     },
     "execution_count": 307,
     "metadata": {},
     "output_type": "execute_result"
    }
   ],
   "source": [
    "unreliableApriori.sort_values('support', ascending=False).head()"
   ]
  }
 ],
 "metadata": {
  "kernelspec": {
   "display_name": "Python 3 (ipykernel)",
   "language": "python",
   "name": "python3"
  },
  "language_info": {
   "codemirror_mode": {
    "name": "ipython",
    "version": 3
   },
   "file_extension": ".py",
   "mimetype": "text/x-python",
   "name": "python",
   "nbconvert_exporter": "python",
   "pygments_lexer": "ipython3",
   "version": "3.8.10"
  }
 },
 "nbformat": 4,
 "nbformat_minor": 5
}
