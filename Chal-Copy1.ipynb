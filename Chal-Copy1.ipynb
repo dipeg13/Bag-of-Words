{
 "cells": [
  {
   "cell_type": "code",
   "execution_count": 1,
   "id": "2fe93e6f",
   "metadata": {},
   "outputs": [],
   "source": [
    "from sklearn.feature_extraction.text import TfidfVectorizer, CountVectorizer\n",
    "\n",
    "from sklearn.metrics import confusion_matrix\n",
    "from sklearn.metrics import classification_report\n",
    "\n",
    "from sklearn.model_selection import cross_val_score\n",
    "from sklearn.model_selection import cross_val_predict\n",
    "from sklearn.model_selection import train_test_split\n",
    "\n",
    "from sklearn.svm import SVC\n",
    "\n",
    "import pandas as pd\n",
    "import numpy as np\n",
    "import matplotlib.pyplot as plt"
   ]
  },
  {
   "cell_type": "code",
   "execution_count": 8,
   "id": "64f464a9",
   "metadata": {},
   "outputs": [],
   "source": [
    "train = pd.read_csv(r'C:\\Users\\user\\Desktop\\Μεταπτυχιακό\\Εργασίες\\Data Mining\\Χαλκίδη\\data\\train.csv')\n",
    "test = pd.read_csv(r'C:\\Users\\user\\Desktop\\Μεταπτυχιακό\\Εργασίες\\Data Mining\\Χαλκίδη\\data\\test.csv')\n",
    "submit = pd.read_csv(r'C:\\Users\\user\\Desktop\\Μεταπτυχιακό\\Εργασίες\\Data Mining\\Χαλκίδη\\data\\submit.csv')\n",
    "test = pd.merge(test,submit,on='id')\n",
    "total = pd.concat([train,test])\n",
    "total = total.dropna(subset=['text', 'label'])"
   ]
  },
  {
   "cell_type": "code",
   "execution_count": 9,
   "id": "75dd8a8c",
   "metadata": {},
   "outputs": [
    {
     "data": {
      "text/html": [
       "<div>\n",
       "<style scoped>\n",
       "    .dataframe tbody tr th:only-of-type {\n",
       "        vertical-align: middle;\n",
       "    }\n",
       "\n",
       "    .dataframe tbody tr th {\n",
       "        vertical-align: top;\n",
       "    }\n",
       "\n",
       "    .dataframe thead th {\n",
       "        text-align: right;\n",
       "    }\n",
       "</style>\n",
       "<table border=\"1\" class=\"dataframe\">\n",
       "  <thead>\n",
       "    <tr style=\"text-align: right;\">\n",
       "      <th></th>\n",
       "      <th>id</th>\n",
       "      <th>title</th>\n",
       "      <th>author</th>\n",
       "      <th>text</th>\n",
       "      <th>label</th>\n",
       "    </tr>\n",
       "  </thead>\n",
       "  <tbody>\n",
       "    <tr>\n",
       "      <th>0</th>\n",
       "      <td>0</td>\n",
       "      <td>House Dem Aide: We Didn’t Even See Comey’s Let...</td>\n",
       "      <td>Darrell Lucus</td>\n",
       "      <td>House Dem Aide: We Didn’t Even See Comey’s Let...</td>\n",
       "      <td>1</td>\n",
       "    </tr>\n",
       "    <tr>\n",
       "      <th>1</th>\n",
       "      <td>1</td>\n",
       "      <td>FLYNN: Hillary Clinton, Big Woman on Campus - ...</td>\n",
       "      <td>Daniel J. Flynn</td>\n",
       "      <td>Ever get the feeling your life circles the rou...</td>\n",
       "      <td>0</td>\n",
       "    </tr>\n",
       "    <tr>\n",
       "      <th>2</th>\n",
       "      <td>2</td>\n",
       "      <td>Why the Truth Might Get You Fired</td>\n",
       "      <td>Consortiumnews.com</td>\n",
       "      <td>Why the Truth Might Get You Fired October 29, ...</td>\n",
       "      <td>1</td>\n",
       "    </tr>\n",
       "    <tr>\n",
       "      <th>3</th>\n",
       "      <td>3</td>\n",
       "      <td>15 Civilians Killed In Single US Airstrike Hav...</td>\n",
       "      <td>Jessica Purkiss</td>\n",
       "      <td>Videos 15 Civilians Killed In Single US Airstr...</td>\n",
       "      <td>1</td>\n",
       "    </tr>\n",
       "    <tr>\n",
       "      <th>4</th>\n",
       "      <td>4</td>\n",
       "      <td>Iranian woman jailed for fictional unpublished...</td>\n",
       "      <td>Howard Portnoy</td>\n",
       "      <td>Print \\nAn Iranian woman has been sentenced to...</td>\n",
       "      <td>1</td>\n",
       "    </tr>\n",
       "  </tbody>\n",
       "</table>\n",
       "</div>"
      ],
      "text/plain": [
       "   id                                              title              author  \\\n",
       "0   0  House Dem Aide: We Didn’t Even See Comey’s Let...       Darrell Lucus   \n",
       "1   1  FLYNN: Hillary Clinton, Big Woman on Campus - ...     Daniel J. Flynn   \n",
       "2   2                  Why the Truth Might Get You Fired  Consortiumnews.com   \n",
       "3   3  15 Civilians Killed In Single US Airstrike Hav...     Jessica Purkiss   \n",
       "4   4  Iranian woman jailed for fictional unpublished...      Howard Portnoy   \n",
       "\n",
       "                                                text  label  \n",
       "0  House Dem Aide: We Didn’t Even See Comey’s Let...      1  \n",
       "1  Ever get the feeling your life circles the rou...      0  \n",
       "2  Why the Truth Might Get You Fired October 29, ...      1  \n",
       "3  Videos 15 Civilians Killed In Single US Airstr...      1  \n",
       "4  Print \\nAn Iranian woman has been sentenced to...      1  "
      ]
     },
     "execution_count": 9,
     "metadata": {},
     "output_type": "execute_result"
    }
   ],
   "source": [
    "total.head()"
   ]
  },
  {
   "cell_type": "code",
   "execution_count": 10,
   "id": "3a84b862",
   "metadata": {},
   "outputs": [
    {
     "name": "stdout",
     "output_type": "stream",
     "text": [
      "<class 'pandas.core.frame.DataFrame'>\n",
      "Int64Index: 25954 entries, 0 to 5199\n",
      "Data columns (total 5 columns):\n",
      " #   Column  Non-Null Count  Dtype \n",
      "---  ------  --------------  ----- \n",
      " 0   id      25954 non-null  int64 \n",
      " 1   title   25274 non-null  object\n",
      " 2   author  23540 non-null  object\n",
      " 3   text    25954 non-null  object\n",
      " 4   label   25954 non-null  int64 \n",
      "dtypes: int64(2), object(3)\n",
      "memory usage: 1.2+ MB\n"
     ]
    }
   ],
   "source": [
    "total.info()"
   ]
  },
  {
   "cell_type": "code",
   "execution_count": 11,
   "id": "1f21111d",
   "metadata": {},
   "outputs": [],
   "source": [
    "texts = np.asarray(total['text'])\n",
    "labels = np.asarray(total['label'])"
   ]
  },
  {
   "cell_type": "code",
   "execution_count": 12,
   "id": "e5252d75",
   "metadata": {},
   "outputs": [],
   "source": [
    "X_train, X_test, y_train, y_test = train_test_split(texts, labels, test_size=0.25, random_state=43)"
   ]
  },
  {
   "cell_type": "code",
   "execution_count": 14,
   "id": "1b098c76",
   "metadata": {},
   "outputs": [
    {
     "name": "stdout",
     "output_type": "stream",
     "text": [
      "Wall time: 18.9 s\n"
     ]
    }
   ],
   "source": [
    "%%time\n",
    "vectorizer = TfidfVectorizer(strip_accents='unicode', stop_words='english').fit(X_train)"
   ]
  },
  {
   "cell_type": "code",
   "execution_count": 15,
   "id": "62c2674a",
   "metadata": {},
   "outputs": [
    {
     "name": "stdout",
     "output_type": "stream",
     "text": [
      "Wall time: 25.1 s\n"
     ]
    }
   ],
   "source": [
    "%%time\n",
    "X_train_tr = vectorizer.transform(X_train)\n",
    "X_test_tr = vectorizer.transform(X_test)"
   ]
  },
  {
   "cell_type": "code",
   "execution_count": 16,
   "id": "6096543d",
   "metadata": {},
   "outputs": [
    {
     "name": "stdout",
     "output_type": "stream",
     "text": [
      "Wall time: 26.4 s\n"
     ]
    }
   ],
   "source": [
    "%%time\n",
    "vec_all = TfidfVectorizer(strip_accents='unicode', stop_words='english').fit(texts)"
   ]
  },
  {
   "cell_type": "code",
   "execution_count": 17,
   "id": "d0266265",
   "metadata": {},
   "outputs": [],
   "source": [
    "from nltk.stem import PorterStemmer\n",
    "import re"
   ]
  },
  {
   "cell_type": "code",
   "execution_count": 18,
   "id": "c32f6586",
   "metadata": {},
   "outputs": [
    {
     "name": "stdout",
     "output_type": "stream",
     "text": [
      "Wall time: 0 ns\n"
     ]
    }
   ],
   "source": [
    "%%time\n",
    "from nltk import word_tokenize          \n",
    "from nltk.stem import WordNetLemmatizer \n",
    "\n",
    "port_stem = PorterStemmer()\n",
    "\n",
    "def WordTokenizer(content):\n",
    "    stemmed_content = re.sub('[^a-zA-Z]',' ',content).lower().split()\n",
    "    #stemmed_content = [port_stem.stem(word) for word in stemmed_content if not word in stopwords]\n",
    "    stemmed_content = [port_stem.stem(word) for word in stemmed_content]\n",
    "    return stemmed_content\n",
    "\n",
    "vect = TfidfVectorizer(tokenizer=WordTokenizer, strip_accents='unicode', stop_words='english')"
   ]
  },
  {
   "cell_type": "code",
   "execution_count": 19,
   "id": "9333b9d8",
   "metadata": {},
   "outputs": [
    {
     "name": "stderr",
     "output_type": "stream",
     "text": [
      "C:\\Users\\user\\anaconda3\\lib\\site-packages\\sklearn\\feature_extraction\\text.py:516: UserWarning: The parameter 'token_pattern' will not be used since 'tokenizer' is not None'\n",
      "  warnings.warn(\n",
      "C:\\Users\\user\\anaconda3\\lib\\site-packages\\sklearn\\feature_extraction\\text.py:396: UserWarning: Your stop_words may be inconsistent with your preprocessing. Tokenizing the stop words generated tokens ['abov', 'afterward', 'alon', 'alreadi', 'alway', 'ani', 'anoth', 'anyon', 'anyth', 'anywher', 'becam', 'becaus', 'becom', 'befor', 'besid', 'cri', 'describ', 'dure', 'els', 'elsewher', 'empti', 'everi', 'everyon', 'everyth', 'everywher', 'fifti', 'formerli', 'forti', 'ha', 'henc', 'hereaft', 'herebi', 'hi', 'howev', 'hundr', 'inde', 'latterli', 'mani', 'meanwhil', 'moreov', 'mostli', 'nobodi', 'noon', 'noth', 'nowher', 'onc', 'onli', 'otherwis', 'ourselv', 'perhap', 'pleas', 'seriou', 'sever', 'sinc', 'sincer', 'sixti', 'someon', 'someth', 'sometim', 'somewher', 'themselv', 'thenc', 'thereaft', 'therebi', 'therefor', 'thi', 'thu', 'togeth', 'twelv', 'twenti', 'veri', 'wa', 'whatev', 'whenc', 'whenev', 'wherea', 'whereaft', 'wherebi', 'wherev', 'whi', 'yourselv'] not in stop_words.\n",
      "  warnings.warn(\n"
     ]
    },
    {
     "name": "stdout",
     "output_type": "stream",
     "text": [
      "Wall time: 5min 35s\n"
     ]
    },
    {
     "data": {
      "text/plain": [
       "TfidfVectorizer(stop_words='english', strip_accents='unicode',\n",
       "                tokenizer=<function WordTokenizer at 0x00000247980669D0>)"
      ]
     },
     "execution_count": 19,
     "metadata": {},
     "output_type": "execute_result"
    }
   ],
   "source": [
    "%%time\n",
    "vect.fit(X_train)"
   ]
  },
  {
   "cell_type": "code",
   "execution_count": 20,
   "id": "4e074847",
   "metadata": {},
   "outputs": [
    {
     "name": "stdout",
     "output_type": "stream",
     "text": [
      "Wall time: 5min 38s\n"
     ]
    }
   ],
   "source": [
    "%%time\n",
    "X_train_trans = vect.transform(X_train)"
   ]
  },
  {
   "cell_type": "code",
   "execution_count": 21,
   "id": "3a0c9322",
   "metadata": {},
   "outputs": [
    {
     "name": "stdout",
     "output_type": "stream",
     "text": [
      "Wall time: 1min 49s\n"
     ]
    }
   ],
   "source": [
    "%%time\n",
    "X_test_trans = vect.transform(X_test)"
   ]
  },
  {
   "cell_type": "markdown",
   "id": "f947e2a1",
   "metadata": {},
   "source": [
    "Αποθηκεύουμε τον vectorizer που θα χρησιμοποιήσουμε ως pkl αρχείο για να μην τον ξαναδημιουργούμε κάθε φορά που θέλουμε να τον χρησιμοποιήσουμε."
   ]
  },
  {
   "cell_type": "code",
   "execution_count": 2,
   "id": "a74a05f5",
   "metadata": {},
   "outputs": [],
   "source": [
    "import joblib"
   ]
  },
  {
   "cell_type": "code",
   "execution_count": 23,
   "id": "ddaa3a7f",
   "metadata": {},
   "outputs": [
    {
     "data": {
      "text/plain": [
       "['C:\\\\Users\\\\user\\\\Desktop\\\\Μεταπτυχιακό\\\\Εργασίες\\\\Data Mining\\\\Χαλκίδη\\\\notebook\\\\vectorizer.pkl']"
      ]
     },
     "execution_count": 23,
     "metadata": {},
     "output_type": "execute_result"
    }
   ],
   "source": [
    "joblib.dump(vect, r'C:\\Users\\user\\Desktop\\Μεταπτυχιακό\\Εργασίες\\Data Mining\\Χαλκίδη\\notebook\\vectorizer.pkl')"
   ]
  },
  {
   "cell_type": "markdown",
   "id": "902adbbc",
   "metadata": {},
   "source": [
    "Για να τον ξαναχρησιμοποιήσουμε γράφουμε vectorizer = joblib.load(path_to_pkl)"
   ]
  },
  {
   "cell_type": "markdown",
   "id": "2a58fd74",
   "metadata": {},
   "source": [
    "Ομοίως μπορούμε να αποθηκεύσουμε και τα X_train_trans και X_test_trans για τους ίδιους λόγους."
   ]
  },
  {
   "cell_type": "code",
   "execution_count": 24,
   "id": "60e8eac7",
   "metadata": {},
   "outputs": [
    {
     "data": {
      "text/plain": [
       "['C:\\\\Users\\\\user\\\\Desktop\\\\Μεταπτυχιακό\\\\Εργασίες\\\\Data Mining\\\\Χαλκίδη\\\\notebook\\\\X_test_trans.pkl']"
      ]
     },
     "execution_count": 24,
     "metadata": {},
     "output_type": "execute_result"
    }
   ],
   "source": [
    "joblib.dump(X_train_trans, r'C:\\Users\\user\\Desktop\\Μεταπτυχιακό\\Εργασίες\\Data Mining\\Χαλκίδη\\notebook\\X_train_trans.pkl')\n",
    "joblib.dump(X_test_trans, r'C:\\Users\\user\\Desktop\\Μεταπτυχιακό\\Εργασίες\\Data Mining\\Χαλκίδη\\notebook\\X_test_trans.pkl')"
   ]
  },
  {
   "cell_type": "code",
   "execution_count": 25,
   "id": "3313a078",
   "metadata": {},
   "outputs": [
    {
     "data": {
      "text/plain": [
       "['C:\\\\Users\\\\user\\\\Desktop\\\\Μεταπτυχιακό\\\\Εργασίες\\\\Data Mining\\\\Χαλκίδη\\\\notebook\\\\y_test.pkl']"
      ]
     },
     "execution_count": 25,
     "metadata": {},
     "output_type": "execute_result"
    }
   ],
   "source": [
    "joblib.dump(y_train, r'C:\\Users\\user\\Desktop\\Μεταπτυχιακό\\Εργασίες\\Data Mining\\Χαλκίδη\\notebook\\y_train.pkl')\n",
    "joblib.dump(y_test, r'C:\\Users\\user\\Desktop\\Μεταπτυχιακό\\Εργασίες\\Data Mining\\Χαλκίδη\\notebook\\y_test.pkl')"
   ]
  },
  {
   "cell_type": "code",
   "execution_count": 3,
   "id": "ba65ebad",
   "metadata": {},
   "outputs": [],
   "source": [
    "X_train_trans = joblib.load(r'C:\\Users\\user\\Desktop\\Μεταπτυχιακό\\Εργασίες\\Data Mining\\Χαλκίδη\\notebook\\X_train_trans.pkl')\n",
    "X_test_trans = joblib.load(r'C:\\Users\\user\\Desktop\\Μεταπτυχιακό\\Εργασίες\\Data Mining\\Χαλκίδη\\notebook\\X_test_trans.pkl')"
   ]
  },
  {
   "cell_type": "code",
   "execution_count": 4,
   "id": "2a28a5f7",
   "metadata": {},
   "outputs": [],
   "source": [
    "y_train = joblib.load(r'C:\\Users\\user\\Desktop\\Μεταπτυχιακό\\Εργασίες\\Data Mining\\Χαλκίδη\\notebook\\y_train.pkl')\n",
    "y_test = joblib.load(r'C:\\Users\\user\\Desktop\\Μεταπτυχιακό\\Εργασίες\\Data Mining\\Χαλκίδη\\notebook\\y_test.pkl')"
   ]
  },
  {
   "cell_type": "code",
   "execution_count": 5,
   "id": "1fde3910",
   "metadata": {},
   "outputs": [],
   "source": [
    "from sklearn.metrics import precision_score as precision\n",
    "from sklearn.metrics import recall_score as recall\n",
    "from sklearn.metrics import f1_score as f1"
   ]
  },
  {
   "cell_type": "code",
   "execution_count": 99,
   "id": "59f474ac",
   "metadata": {},
   "outputs": [
    {
     "name": "stdout",
     "output_type": "stream",
     "text": [
      "0.75\n",
      "1\n",
      "1.25\n",
      "Wall time: 2h 14min 34s\n"
     ]
    }
   ],
   "source": [
    "%%time\n",
    "C = [.75, 1, 1.25]\n",
    "times_ = []\n",
    "train_acc = []\n",
    "test_acc = []\n",
    "pre = []\n",
    "rec = []\n",
    "f1_sc = []\n",
    "for c in C:\n",
    "    print(c)\n",
    "    svm_cl = SVC(kernel='rbf', C=c)\n",
    "    tic = time()\n",
    "    svm_cl.fit(X_train_trans, y_train)\n",
    "    toc = time()\n",
    "    times_.append(float(toc-tic))\n",
    "    train_acc.append(svm_cl.score(X_train_trans, y_train))\n",
    "    test_acc.append(svm_cl.score(X_test_trans, y_test))\n",
    "    pre.append(precision(y_test, svm_cl.predict(X_test_trans)))\n",
    "    rec.append(recall(y_test, svm_cl.predict(X_test_trans)))\n",
    "    f1_sc.append(f1(y_test, svm_cl.predict(X_test_trans)))"
   ]
  },
  {
   "cell_type": "markdown",
   "id": "29b3d13d",
   "metadata": {},
   "source": [
    "Βλέπουμε ότι η εκπαίδευση του κατηγοριοποιητή χρησιμοποιώντας ως πυρήνα τον RBF και σταθερά γ την default τιμή η οποία ισούται με 1 / (n_features * X.var()) (απ' το documentation της βιβλιοθήκης scikit-learn), είναι εξαιρετικά αργή. Παρακάτω θα δοκιμάσουμε με διαφορετικές τιμές υπερπαραμέτρων για τον RBF."
   ]
  },
  {
   "cell_type": "code",
   "execution_count": 102,
   "id": "6ac05e36",
   "metadata": {},
   "outputs": [
    {
     "data": {
      "image/png": "[encoded data removed]",
      "text/plain": [
       "<Figure size 432x288 with 1 Axes>"
      ]
     },
     "metadata": {
      "needs_background": "light"
     },
     "output_type": "display_data"
    }
   ],
   "source": [
    "plt.plot(C, pre)\n",
    "plt.plot(C, rec)\n",
    "plt.plot(C, f1_sc)\n",
    "plt.legend(['Precision', 'Recall', 'F1-Score'])\n",
    "plt.xlabel('C parameter')\n",
    "plt.ylabel('Metrics\\' Value')\n",
    "plt.show()"
   ]
  },
  {
   "cell_type": "markdown",
   "id": "9b27e91b",
   "metadata": {},
   "source": [
    "Βλέπουμε το F1-Score είναι σχετικά υψηλό και οι τιμές των precision και recall είναι αρκετά κοντά (γεγονός που αποτελεί επιθυμητό μέτρο)."
   ]
  },
  {
   "cell_type": "markdown",
   "id": "fc5febc0",
   "metadata": {},
   "source": [
    "Σύμφωνα με το documentation της sklearn.svm.SVC, ο παραπάνω τρόπος υλοποίησης κατηγοριοποίησης με SVM είναι κάκιστος ('The fit time scales at least quadratically with the number of samples and may be impractical beyond tens of thousands of samples.'). Ως εκ τούτου, στηριζόμενοι πάλι στο documentation θα χρησιμοποιήσουμε τις κλάσεις sklearn.svm.LinearSVC και sklearn.linear_model.SGDClassifier για να υλοποιήσουμε γραμμική SVM και Stochastic Gradient Descent αντίστοιχα."
   ]
  },
  {
   "cell_type": "code",
   "execution_count": 37,
   "id": "60060411",
   "metadata": {},
   "outputs": [],
   "source": [
    "from sklearn.svm import LinearSVC"
   ]
  },
  {
   "cell_type": "code",
   "execution_count": 34,
   "id": "1c1fed99",
   "metadata": {},
   "outputs": [
    {
     "data": {
      "text/plain": [
       "LinearSVC(C=2)"
      ]
     },
     "execution_count": 34,
     "metadata": {},
     "output_type": "execute_result"
    }
   ],
   "source": [
    "lsvc = LinearSVC(C=2)\n",
    "lsvc.fit(X_train_trans, y_train)"
   ]
  },
  {
   "cell_type": "code",
   "execution_count": 35,
   "id": "2060475e",
   "metadata": {},
   "outputs": [
    {
     "data": {
      "text/plain": [
       "0.8631530282015719"
      ]
     },
     "execution_count": 35,
     "metadata": {},
     "output_type": "execute_result"
    }
   ],
   "source": [
    "lsvc.score(X_test_trans, y_test)"
   ]
  },
  {
   "cell_type": "code",
   "execution_count": 109,
   "id": "9e374347",
   "metadata": {},
   "outputs": [
    {
     "name": "stdout",
     "output_type": "stream",
     "text": [
      "Wall time: 5min 12s\n"
     ]
    }
   ],
   "source": [
    "%%time\n",
    "C = np.linspace(.1, 10, 100)\n",
    "scores_ = []\n",
    "times_ = []\n",
    "for c in C:\n",
    "    lsvc = LinearSVC(C=c)\n",
    "    tic = time()\n",
    "    lsvc.fit(X_train_trans, y_train)\n",
    "    toc = time()\n",
    "    times_.append(float(toc-tic))\n",
    "    scores_.append(lsvc.score(X_test_trans, y_test))"
   ]
  },
  {
   "cell_type": "markdown",
   "id": "f88da29c",
   "metadata": {},
   "source": [
    "Βλέπουμε ότι χρησιμοποιώντας την LinearSVC χρειάστηκαν περίπου 5 λεπτά για να εκπαιδεύσουμε και να δοκιμάσουμε 100 μοντέλα."
   ]
  },
  {
   "cell_type": "code",
   "execution_count": 110,
   "id": "983faf78",
   "metadata": {},
   "outputs": [
    {
     "data": {
      "image/png": "[encoded data removed]",
      "text/plain": [
       "<Figure size 432x288 with 1 Axes>"
      ]
     },
     "metadata": {
      "needs_background": "light"
     },
     "output_type": "display_data"
    }
   ],
   "source": [
    "plt.plot(C, scores_)\n",
    "plt.xlabel('C parameter')\n",
    "plt.ylabel('Models\\' Accuracy')\n",
    "plt.title('Linear SVM')\n",
    "plt.show()"
   ]
  },
  {
   "cell_type": "code",
   "execution_count": 111,
   "id": "5d8321e2",
   "metadata": {},
   "outputs": [
    {
     "data": {
      "image/png": "[encoded data removed]",
      "text/plain": [
       "<Figure size 432x288 with 1 Axes>"
      ]
     },
     "metadata": {
      "needs_background": "light"
     },
     "output_type": "display_data"
    }
   ],
   "source": [
    "plt.plot(C, times_)\n",
    "plt.xlabel('C parameter')\n",
    "plt.ylabel('Fitting time (sec)')\n",
    "plt.title('Linear SVM')\n",
    "plt.show()          "
   ]
  },
  {
   "cell_type": "code",
   "execution_count": 116,
   "id": "e47ea338",
   "metadata": {},
   "outputs": [
    {
     "name": "stdout",
     "output_type": "stream",
     "text": [
      "Mean Fiatting Time: 3.114066531658173 \n",
      "Fitting Time StD:   2.1703409899140294\n"
     ]
    }
   ],
   "source": [
    "print('Mean Fiatting Time:', np.mean(np.asarray(times_)), '\\nFitting Time StD:  ', np.std(np.asarray(times_)))"
   ]
  },
  {
   "cell_type": "markdown",
   "id": "028e99d4",
   "metadata": {},
   "source": [
    "Βλέπουμε ότι καθώς αυξάνει το C, ταυτόχρονα αυξάνει κι ο χρόνος εκπαίδευσης. Αυτό ενδεχομένως να οφείλεται και στην κατανάλωση της RAM."
   ]
  },
  {
   "cell_type": "markdown",
   "id": "d9c1eee6",
   "metadata": {},
   "source": [
    "Τώρα θα δούμε πως συμπεριφέρεται η Linear SVM για C στο (0.1, 1.1)."
   ]
  },
  {
   "cell_type": "code",
   "execution_count": 122,
   "id": "0d583886",
   "metadata": {},
   "outputs": [
    {
     "name": "stdout",
     "output_type": "stream",
     "text": [
      "Wall time: 31.3 s\n"
     ]
    }
   ],
   "source": [
    "%%time\n",
    "C = np.linspace(.1, 1.1, 50)\n",
    "scores_ = []\n",
    "times_ = []\n",
    "for c in C:\n",
    "    lsvc = LinearSVC(C=c)\n",
    "    tic = time()\n",
    "    lsvc.fit(X_train_trans, y_train)\n",
    "    toc = time()\n",
    "    times_.append(float(toc-tic))\n",
    "    scores_.append(lsvc.score(X_test_trans, y_test))"
   ]
  },
  {
   "cell_type": "code",
   "execution_count": 123,
   "id": "99dcda2b",
   "metadata": {},
   "outputs": [
    {
     "data": {
      "image/png": "[encoded data removed]",
      "text/plain": [
       "<Figure size 432x288 with 1 Axes>"
      ]
     },
     "metadata": {
      "needs_background": "light"
     },
     "output_type": "display_data"
    }
   ],
   "source": [
    "plt.plot(C, scores_)\n",
    "plt.xlabel('C parameter')\n",
    "plt.ylabel('Models\\' Accuracy')\n",
    "plt.title('Linear SVM')\n",
    "plt.show()"
   ]
  },
  {
   "cell_type": "markdown",
   "id": "f2adbf88",
   "metadata": {},
   "source": [
    "Βλέπουμε μεγιστοποίηση της ακρίβειας για C=0.3."
   ]
  },
  {
   "cell_type": "code",
   "execution_count": 125,
   "id": "ea0741dc",
   "metadata": {},
   "outputs": [],
   "source": [
    "from sklearn.model_selection import cross_val_score"
   ]
  },
  {
   "cell_type": "markdown",
   "id": "5f7c907c",
   "metadata": {},
   "source": [
    "Τώρα θα προσπαθήσουμε να εφαρμόσουμε kernel SVM σε ανεκτούς χρόνους. Για να το κάνουμε αυτό θα επιχειρήσουμε SVD για να επιτύχουμε dimensionality reduction."
   ]
  },
  {
   "cell_type": "code",
   "execution_count": 6,
   "id": "49eb37bb",
   "metadata": {},
   "outputs": [],
   "source": [
    "from sklearn.decomposition import TruncatedSVD as SVD"
   ]
  },
  {
   "cell_type": "code",
   "execution_count": 10,
   "id": "b6e75f33",
   "metadata": {},
   "outputs": [
    {
     "name": "stdout",
     "output_type": "stream",
     "text": [
      "Wall time: 11.1 s\n"
     ]
    },
    {
     "data": {
      "text/plain": [
       "TruncatedSVD(n_components=100)"
      ]
     },
     "execution_count": 10,
     "metadata": {},
     "output_type": "execute_result"
    }
   ],
   "source": [
    "%%time\n",
    "svd_tr = SVD(n_components=100)\n",
    "svd_tr.fit(X_train_trans)"
   ]
  },
  {
   "cell_type": "code",
   "execution_count": 12,
   "id": "e022ee49",
   "metadata": {},
   "outputs": [
    {
     "name": "stdout",
     "output_type": "stream",
     "text": [
      "Wall time: 694 ms\n"
     ]
    }
   ],
   "source": [
    "%%time\n",
    "X_train_svd = svd_tr.transform(X_train_trans)\n",
    "X_test_svd = svd_tr.transform(X_test_trans)"
   ]
  },
  {
   "cell_type": "code",
   "execution_count": 14,
   "id": "68ffd661",
   "metadata": {},
   "outputs": [
    {
     "name": "stdout",
     "output_type": "stream",
     "text": [
      "Wall time: 24.9 s\n"
     ]
    }
   ],
   "source": [
    "%%time\n",
    "svc = SVC(kernel='rbf').fit(X_train_svd, y_train)"
   ]
  },
  {
   "cell_type": "markdown",
   "id": "0cde2146",
   "metadata": {},
   "source": [
    "Βλέπουμε ότι το μοντέλο εκπαιδεύτηκε εξαιρετικά γρήγορα χρησιμοποιώντας τα 100 κυριώτερα components."
   ]
  },
  {
   "cell_type": "code",
   "execution_count": 15,
   "id": "e885b8c6",
   "metadata": {},
   "outputs": [
    {
     "name": "stdout",
     "output_type": "stream",
     "text": [
      "Wall time: 7.81 s\n"
     ]
    },
    {
     "data": {
      "text/plain": [
       "0.8690090923100632"
      ]
     },
     "execution_count": 15,
     "metadata": {},
     "output_type": "execute_result"
    }
   ],
   "source": [
    "%%time\n",
    "svc.score(X_test_svd, y_test)"
   ]
  },
  {
   "cell_type": "markdown",
   "id": "e249a404",
   "metadata": {},
   "source": [
    "Βλέπουμε επίσης ότι παίρνουμε και σχετικά καλή ακρίβεια για τις default τιμές των υπερπαραμέτρων στην υλοποίηση. Παρακάτω θα δοκιμάσουμε να κάνουμε tuning για τη υπερπαράμετρο γ όταν χρησιμοποιούμε τον RBF πυρήνα."
   ]
  },
  {
   "cell_type": "code",
   "execution_count": 18,
   "id": "b9afe23e",
   "metadata": {},
   "outputs": [
    {
     "name": "stdout",
     "output_type": "stream",
     "text": [
      "Wall time: 1h 2min 48s\n"
     ]
    }
   ],
   "source": [
    "%%time\n",
    "from time import time\n",
    "gamma = np.linspace(.1, 2.1, 100)\n",
    "times_ = []\n",
    "acc_scores_ = []\n",
    "for g in gamma:\n",
    "    tic = time()\n",
    "    svc = SVC(kernel='rbf', gamma=g).fit(X_train_svd, y_train)\n",
    "    toc = time()\n",
    "    times_.append(toc-tic)\n",
    "    acc_scores_.append(svc.score(X_test_svd, y_test))"
   ]
  },
  {
   "cell_type": "code",
   "execution_count": 19,
   "id": "368ac29e",
   "metadata": {},
   "outputs": [
    {
     "data": {
      "image/png": "[encoded data removed]",
      "text/plain": [
       "<Figure size 432x288 with 1 Axes>"
      ]
     },
     "metadata": {
      "needs_background": "light"
     },
     "output_type": "display_data"
    }
   ],
   "source": [
    "plt.plot(gamma, acc_scores_)\n",
    "plt.xlabel('Gamma')\n",
    "plt.ylabel('Accuracy')\n",
    "plt.show()"
   ]
  },
  {
   "cell_type": "code",
   "execution_count": 22,
   "id": "3964cd74",
   "metadata": {},
   "outputs": [
    {
     "data": {
      "image/png": "[encoded data removed]",
      "text/plain": [
       "<Figure size 432x288 with 1 Axes>"
      ]
     },
     "metadata": {
      "needs_background": "light"
     },
     "output_type": "display_data"
    }
   ],
   "source": [
    "plt.plot(gamma, times_)\n",
    "plt.xlabel('Gamma')\n",
    "plt.ylabel('Fitting Time (sec)')\n",
    "plt.show()"
   ]
  },
  {
   "cell_type": "markdown",
   "id": "08912251",
   "metadata": {},
   "source": [
    "Παρατηρούμε ότι η ακρίβεια φαλινεται να αυξάνεται λογαριθμικά σε σχέση με την τιμή της υπερπαραμέτρου γ."
   ]
  },
  {
   "cell_type": "code",
   "execution_count": 24,
   "id": "9da73cd8",
   "metadata": {},
   "outputs": [],
   "source": [
    "acc_scores_ = np.asarray(acc_scores_)"
   ]
  },
  {
   "cell_type": "code",
   "execution_count": 26,
   "id": "b63885f0",
   "metadata": {},
   "outputs": [
    {
     "data": {
      "text/plain": [
       "2.1"
      ]
     },
     "execution_count": 26,
     "metadata": {},
     "output_type": "execute_result"
    }
   ],
   "source": [
    "gamma[acc_scores_.argmax()]"
   ]
  },
  {
   "cell_type": "code",
   "execution_count": 27,
   "id": "378d5a9f",
   "metadata": {},
   "outputs": [
    {
     "data": {
      "text/plain": [
       "0.8654646324549237"
      ]
     },
     "execution_count": 27,
     "metadata": {},
     "output_type": "execute_result"
    }
   ],
   "source": [
    "acc_scores_[acc_scores_.argmax()]"
   ]
  },
  {
   "cell_type": "code",
   "execution_count": 29,
   "id": "c1830f11",
   "metadata": {},
   "outputs": [
    {
     "name": "stdout",
     "output_type": "stream",
     "text": [
      "Wall time: 8min 12s\n"
     ]
    }
   ],
   "source": [
    "%%time\n",
    "from time import time\n",
    "gamma = np.linspace(2, 10, 9)\n",
    "times_sparse = []\n",
    "acc_scores_sparse = []\n",
    "for g in gamma:\n",
    "    tic = time()\n",
    "    svc = SVC(kernel='rbf', gamma=g).fit(X_train_svd, y_train)\n",
    "    toc = time()\n",
    "    times_sparse.append(toc-tic)\n",
    "    acc_scores_sparse.append(svc.score(X_test_svd, y_test))"
   ]
  },
  {
   "cell_type": "code",
   "execution_count": 30,
   "id": "f5d56760",
   "metadata": {},
   "outputs": [
    {
     "data": {
      "image/png": "[encoded data removed]",
      "text/plain": [
       "<Figure size 432x288 with 1 Axes>"
      ]
     },
     "metadata": {
      "needs_background": "light"
     },
     "output_type": "display_data"
    }
   ],
   "source": [
    "plt.plot(gamma, acc_scores_sparse)\n",
    "plt.xlabel('Gamma')\n",
    "plt.ylabel('Accuracy')\n",
    "plt.show()"
   ]
  },
  {
   "cell_type": "code",
   "execution_count": 40,
   "id": "6deecc13",
   "metadata": {},
   "outputs": [
    {
     "data": {
      "text/plain": [
       "[0.8643858838033596,\n",
       " 0.8670057019571583,\n",
       " 0.8688549853598397,\n",
       " 0.8690090923100632,\n",
       " 0.8700878409616274,\n",
       " 0.8708583757127446,\n",
       " 0.8723994452149791,\n",
       " 0.873015873015873,\n",
       " 0.8725535521652027]"
      ]
     },
     "execution_count": 40,
     "metadata": {},
     "output_type": "execute_result"
    }
   ],
   "source": [
    "acc_scores_sparse"
   ]
  },
  {
   "cell_type": "code",
   "execution_count": 43,
   "id": "59a8d2ea",
   "metadata": {},
   "outputs": [
    {
     "data": {
      "text/plain": [
       "[27.272191524505615,\n",
       " 27.889263153076172,\n",
       " 28.737401247024536,\n",
       " 34.66989231109619,\n",
       " 36.12515687942505,\n",
       " 41.849050521850586,\n",
       " 52.31587266921997,\n",
       " 60.83110809326172,\n",
       " 72.41778683662415]"
      ]
     },
     "execution_count": 43,
     "metadata": {},
     "output_type": "execute_result"
    }
   ],
   "source": [
    "times_sparse"
   ]
  },
  {
   "cell_type": "code",
   "execution_count": 31,
   "id": "6e0285e4",
   "metadata": {},
   "outputs": [
    {
     "data": {
      "image/png": "[encoded data removed]",
      "text/plain": [
       "<Figure size 432x288 with 1 Axes>"
      ]
     },
     "metadata": {
      "needs_background": "light"
     },
     "output_type": "display_data"
    }
   ],
   "source": [
    "plt.plot(gamma, times_sparse)\n",
    "plt.xlabel('Gamma')\n",
    "plt.ylabel('Fitting Time (sec)')\n",
    "plt.show()"
   ]
  },
  {
   "cell_type": "markdown",
   "id": "cea0c834",
   "metadata": {},
   "source": [
    "Βλέπουμε ότι επιλέγοντας γ>2 συνεχίζεται η αύξηση στην ακρίβεια η οποία πιάνει μέγιστη τιμή για γ=9. Ταυτόχρονα βλέπουμε ότι έχουμε κι ανάλογη αύξηση στο χρόνο εκπαίδευσης."
   ]
  },
  {
   "cell_type": "code",
   "execution_count": 33,
   "id": "7537eed5",
   "metadata": {},
   "outputs": [],
   "source": [
    "acc_scores_100 = np.asarray(acc_scores_sparse)"
   ]
  },
  {
   "cell_type": "code",
   "execution_count": 34,
   "id": "b0534749",
   "metadata": {},
   "outputs": [
    {
     "data": {
      "text/plain": [
       "0.873015873015873"
      ]
     },
     "execution_count": 34,
     "metadata": {},
     "output_type": "execute_result"
    }
   ],
   "source": [
    "acc_scores_100[acc_scores_100.argmax()]"
   ]
  },
  {
   "cell_type": "markdown",
   "id": "9f563e66",
   "metadata": {},
   "source": [
    "Επιλέγοντας τώρα να εφαρμόσουμε την SVD κρατώντας τα 1000 σημαντικότερα χαρακτηριστικά, για τις διάφορες τιμές της υπερπαραμέτρου γ παίρνουμε:"
   ]
  },
  {
   "cell_type": "code",
   "execution_count": 48,
   "id": "f07ef07e",
   "metadata": {},
   "outputs": [
    {
     "data": {
      "text/plain": [
       "TruncatedSVD(n_components=1000)"
      ]
     },
     "execution_count": 48,
     "metadata": {},
     "output_type": "execute_result"
    }
   ],
   "source": [
    "svd_tr1000 = SVD(n_components=1000)\n",
    "svd_tr1000.fit(X_train_trans)"
   ]
  },
  {
   "cell_type": "code",
   "execution_count": 49,
   "id": "4418ae6d",
   "metadata": {},
   "outputs": [],
   "source": [
    "X_train_1000 = svd_tr1000.transform(X_train_trans)\n",
    "X_test_1000 = svd_tr1000.transform(X_test_trans)"
   ]
  },
  {
   "cell_type": "code",
   "execution_count": 51,
   "id": "d5e72974",
   "metadata": {},
   "outputs": [
    {
     "name": "stdout",
     "output_type": "stream",
     "text": [
      "Wall time: 44min 28s\n"
     ]
    }
   ],
   "source": [
    "%%time\n",
    "from time import time\n",
    "gamma = np.linspace(.1, 2.1, 10)\n",
    "times_1000 = []\n",
    "acc_scores_1000 = []\n",
    "for g in gamma:\n",
    "    tic = time()\n",
    "    svc = SVC(kernel='rbf', gamma=g).fit(X_train_1000, y_train)\n",
    "    toc = time()\n",
    "    times_1000.append(toc-tic)\n",
    "    acc_scores_1000.append(svc.score(X_test_1000, y_test))"
   ]
  },
  {
   "cell_type": "code",
   "execution_count": 52,
   "id": "7b41994b",
   "metadata": {},
   "outputs": [
    {
     "data": {
      "image/png": "[encoded data removed]",
      "text/plain": [
       "<Figure size 432x288 with 1 Axes>"
      ]
     },
     "metadata": {
      "needs_background": "light"
     },
     "output_type": "display_data"
    }
   ],
   "source": [
    "plt.plot(gamma, acc_scores_1000)\n",
    "plt.xlabel('Gamma')\n",
    "plt.ylabel('Accuracy')\n",
    "plt.show()"
   ]
  },
  {
   "cell_type": "code",
   "execution_count": 53,
   "id": "c0902fbb",
   "metadata": {},
   "outputs": [
    {
     "data": {
      "image/png": "[encoded data removed]",
      "text/plain": [
       "<Figure size 432x288 with 1 Axes>"
      ]
     },
     "metadata": {
      "needs_background": "light"
     },
     "output_type": "display_data"
    }
   ],
   "source": [
    "plt.plot(gamma, times_1000)\n",
    "plt.xlabel('Gamma')\n",
    "plt.ylabel('Fitting Time (sec)')\n",
    "plt.show()"
   ]
  },
  {
   "cell_type": "code",
   "execution_count": 54,
   "id": "ef834522",
   "metadata": {},
   "outputs": [
    {
     "name": "stdout",
     "output_type": "stream",
     "text": [
      "Wall time: 1h 45min 2s\n"
     ]
    }
   ],
   "source": [
    "%%time\n",
    "from time import time\n",
    "gamma = np.linspace(2, 10, 9)\n",
    "times_1000_sparse = []\n",
    "acc_scores_1000_sparse = []\n",
    "for g in gamma:\n",
    "    tic = time()\n",
    "    svc = SVC(kernel='rbf', gamma=g).fit(X_train_1000, y_train)\n",
    "    toc = time()\n",
    "    times_1000_sparse.append(toc-tic)\n",
    "    acc_scores_1000_sparse.append(svc.score(X_test_1000, y_test))"
   ]
  },
  {
   "cell_type": "code",
   "execution_count": 55,
   "id": "e59ba683",
   "metadata": {},
   "outputs": [
    {
     "data": {
      "image/png": "[encoded data removed]",
      "text/plain": [
       "<Figure size 432x288 with 1 Axes>"
      ]
     },
     "metadata": {
      "needs_background": "light"
     },
     "output_type": "display_data"
    }
   ],
   "source": [
    "plt.plot(gamma, acc_scores_1000_sparse)\n",
    "plt.xlabel('Gamma')\n",
    "plt.ylabel('Accuracy')\n",
    "plt.show()"
   ]
  },
  {
   "cell_type": "code",
   "execution_count": 56,
   "id": "6995709d",
   "metadata": {},
   "outputs": [
    {
     "data": {
      "text/plain": [
       "[0.8867313915857605,\n",
       " 0.8871937124364309,\n",
       " 0.8850362151333026,\n",
       " 0.8811835413777162,\n",
       " 0.8781014023732471,\n",
       " 0.8737864077669902,\n",
       " 0.8714748035136385,\n",
       " 0.8680844506087224,\n",
       " 0.8656187394051472]"
      ]
     },
     "execution_count": 56,
     "metadata": {},
     "output_type": "execute_result"
    }
   ],
   "source": [
    "acc_scores_1000_sparse"
   ]
  },
  {
   "cell_type": "code",
   "execution_count": 58,
   "id": "9271289b",
   "metadata": {},
   "outputs": [
    {
     "data": {
      "image/png": "[encoded data removed]",
      "text/plain": [
       "<Figure size 432x288 with 1 Axes>"
      ]
     },
     "metadata": {
      "needs_background": "light"
     },
     "output_type": "display_data"
    }
   ],
   "source": [
    "plt.plot(gamma, times_1000_sparse)\n",
    "plt.xlabel('Gamma')\n",
    "plt.ylabel('Fitting Time (sec)')\n",
    "plt.show()"
   ]
  },
  {
   "cell_type": "markdown",
   "id": "2e900a5f",
   "metadata": {},
   "source": [
    "# NAIVE BAYES"
   ]
  },
  {
   "cell_type": "code",
   "execution_count": 1,
   "id": "8a240268",
   "metadata": {},
   "outputs": [
    {
     "name": "stderr",
     "output_type": "stream",
     "text": [
      "[nltk_data] Downloading package stopwords to /home/tybrob/nltk_data...\n",
      "[nltk_data]   Package stopwords is already up-to-date!\n"
     ]
    },
    {
     "data": {
      "text/plain": [
       "True"
      ]
     },
     "execution_count": 1,
     "metadata": {},
     "output_type": "execute_result"
    }
   ],
   "source": [
    "import nltk\n",
    "nltk.download('stopwords')"
   ]
  },
  {
   "cell_type": "code",
   "execution_count": 10,
   "id": "0584d214",
   "metadata": {},
   "outputs": [],
   "source": [
    "import re\n",
    "import numpy as np\n",
    "import pandas as pd\n",
    "from nltk.corpus import stopwords\n",
    "from nltk.stem.porter import PorterStemmer"
   ]
  },
  {
   "cell_type": "code",
   "execution_count": 3,
   "id": "51e96d01",
   "metadata": {},
   "outputs": [],
   "source": [
    "def stemming(content):\n",
    "    port_stem = PorterStemmer()\n",
    "    stop_words = stopwords.words('english')\n",
    "\n",
    "    stemmed_content = re.sub('[^a-zA-Z]',' ',content)\n",
    "    stemmed_content = stemmed_content.lower()\n",
    "    stemmed_content = stemmed_content.split()\n",
    "    stemmed_content = [port_stem.stem(word) for word in stemmed_content if not word in stop_words]\n",
    "    stemmed_content = ' '.join(stemmed_content)\n",
    "    return stemmed_content"
   ]
  },
  {
   "cell_type": "code",
   "execution_count": 4,
   "id": "b268f767",
   "metadata": {},
   "outputs": [],
   "source": [
    "train = pd.read_csv('data/train.csv')\n",
    "test = pd.read_csv('data/test.csv')\n",
    "submit = pd.read_csv('data/submit.csv')\n",
    "\n",
    "test = pd.merge(test,submit,on='id')\n",
    "total = pd.concat([train,test])\n",
    "\n",
    "total = total.fillna('')\n",
    "total = total.loc[total['text'] != '']"
   ]
  },
  {
   "cell_type": "code",
   "execution_count": 5,
   "id": "ff65eb5f",
   "metadata": {},
   "outputs": [],
   "source": [
    "total['text'] = total['text'].apply(stemming)"
   ]
  },
  {
   "cell_type": "code",
   "execution_count": 7,
   "id": "fec684b8",
   "metadata": {},
   "outputs": [],
   "source": [
    "from sklearn.feature_extraction.text import TfidfVectorizer\n",
    "from sklearn.model_selection import train_test_split\n",
    "\n",
    "vectorizer = TfidfVectorizer()\n",
    "\n",
    "X = total['text'].values\n",
    "Y = total['label'].values\n",
    "X = vectorizer.fit_transform(X)\n",
    "X_train, X_test, Y_train, Y_test = train_test_split(X, Y, test_size=0.30, stratify=Y, random_state=42)"
   ]
  },
  {
   "cell_type": "code",
   "execution_count": 8,
   "id": "b7de2dfc",
   "metadata": {},
   "outputs": [],
   "source": [
    "from sklearn.model_selection import StratifiedKFold\n",
    "\n",
    "skf = StratifiedKFold(n_splits = 5, shuffle = True, random_state=42)"
   ]
  },
  {
   "cell_type": "code",
   "execution_count": 11,
   "id": "84879e57",
   "metadata": {},
   "outputs": [
    {
     "name": "stdout",
     "output_type": "stream",
     "text": [
      "Fitting 5 folds for each of 40 candidates, totalling 200 fits\n",
      "{'alpha': 0.1, 'fit_prior': True}\n",
      "CPU times: user 325 ms, sys: 116 ms, total: 442 ms\n",
      "Wall time: 7.32 s\n"
     ]
    }
   ],
   "source": [
    "%%time\n",
    "from sklearn.naive_bayes import MultinomialNB\n",
    "from sklearn.model_selection import GridSearchCV\n",
    "\n",
    "param_grid = {\n",
    "  'alpha': np.linspace(0.1, 2, 20),\n",
    "  'fit_prior': [True, False],\n",
    "}\n",
    "\n",
    "model_nb = GridSearchCV(estimator=MultinomialNB(), param_grid = param_grid, cv = skf, n_jobs=-1, verbose=1)\n",
    "model_nb.fit(X_train, Y_train)\n",
    "\n",
    "print(model_nb.best_params_)"
   ]
  },
  {
   "cell_type": "code",
   "execution_count": 12,
   "id": "034b54a3",
   "metadata": {},
   "outputs": [
    {
     "name": "stdout",
     "output_type": "stream",
     "text": [
      "Accuracy score on training set: 0.9104420102383443\n",
      "CPU times: user 64.7 ms, sys: 4.11 ms, total: 68.8 ms\n",
      "Wall time: 123 ms\n"
     ]
    }
   ],
   "source": [
    "%%time\n",
    "from sklearn.metrics import accuracy_score,classification_report\n",
    "\n",
    "nb = MultinomialNB(alpha=0.1,fit_prior=True)\n",
    "\n",
    "nb.fit(X_train,Y_train)\n",
    "\n",
    "X_train_prediction = nb.predict(X_train)\n",
    "\n",
    "print('Accuracy score on training set:',accuracy_score(X_train_prediction, Y_train))"
   ]
  },
  {
   "cell_type": "code",
   "execution_count": 13,
   "id": "0f16a65b",
   "metadata": {},
   "outputs": [
    {
     "name": "stdout",
     "output_type": "stream",
     "text": [
      "              precision    recall  f1-score   support\n",
      "\n",
      "           0       0.90      0.80      0.85      4324\n",
      "           1       0.78      0.89      0.83      3463\n",
      "\n",
      "    accuracy                           0.84      7787\n",
      "   macro avg       0.84      0.85      0.84      7787\n",
      "weighted avg       0.85      0.84      0.84      7787\n",
      "\n",
      "CPU times: user 28.1 ms, sys: 21 µs, total: 28.1 ms\n",
      "Wall time: 33.6 ms\n"
     ]
    }
   ],
   "source": [
    "%%time\n",
    "from sklearn.metrics import classification_report\n",
    "\n",
    "X_test_prediction = nb.predict(X_test)\n",
    "\n",
    "print(classification_report(X_test_prediction, Y_test))"
   ]
  },
  {
   "cell_type": "code",
   "execution_count": null,
   "id": "b3e110ce",
   "metadata": {},
   "outputs": [],
   "source": []
  }
 ],
 "metadata": {
  "kernelspec": {
   "display_name": "Python 3 (ipykernel)",
   "language": "python",
   "name": "python3"
  },
  "language_info": {
   "codemirror_mode": {
    "name": "ipython",
    "version": 3
   },
   "file_extension": ".py",
   "mimetype": "text/x-python",
   "name": "python",
   "nbconvert_exporter": "python",
   "pygments_lexer": "ipython3",
   "version": "3.8.10"
  }
 },
 "nbformat": 4,
 "nbformat_minor": 5
}
