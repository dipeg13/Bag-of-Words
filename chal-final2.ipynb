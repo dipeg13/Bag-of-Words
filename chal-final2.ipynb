{
 "cells": [
  {
   "cell_type": "markdown",
   "id": "7cdeea18",
   "metadata": {},
   "source": [
    "Στόχος μας είναι , να επιλέξουμε τον κατάλληλο αλγόριθμο , ο οποίος εκπαιδευόμενος \n",
    "από αυτά τα δεδομένα θα μπορεί να προβλέπει εάν κάποιο άρθρο είναι real news ή fake news.\n",
    "Τα ιδιαίτερα χαρακτηριστικά του προβλήματος μας , είναι ότι έχουμε να δουλέψουμε\n",
    "με δεδομένα κειμένου και ότι ανήκει στην κατηγορία των προβλημάτων δυαδικής\n",
    "ταξινόμησης, καθώς μόνο δυο δυνατά σενάρια υπάρχουν για κάθε είδηση ή να είναι\n",
    "αληθινή ή όχι.Ένα αρκετά καλό μοντέλο για το πρόβλημα μας είναι αυτό της λογιστικής \n",
    "παλινδρόμησης.\n",
    "Τα δεδομένα κειμένου είναι ένας δύσκολος τύπος δεδομένων προς επεξεργασία. Αυτό\n",
    "συμβαίνει γιατί η φυσική γλώσσα είναι φτιαγμένη για να είναι κατανοητή από τους\n",
    "ανθρώπους αλλά όχι από τον υπολογιστή. Παράλληλα τα στατιστικά μοντέλα\n",
    "πρόβλεψης δέχονται σαν ορίσματα αριθμητικά δεδομένα. Έτσι, είναι απαραίτητο να\n",
    "αναπαραστήσουμε τα δεδομένα μας με αριθμητικό τρόπο. Η διαδικασία επεξεργασίας\n",
    "των δεδομένων κειμένου είναι μέρος της Επεξεργασίας Φυσικής Γλώσσας ενώ η\n",
    "διαδικασία αναπαράστασης του κειμένου σε αριθμούς που χρησιμοποιούμε ονομάζεται\n",
    "Term frequency-Inverse document frequency Vectorizer (Tf-Idf Vectorizer).\n",
    "Η βασική ιδέα σε ένα πρόβλημα επιβλεπόμενης μάθησης είναι η εκπαίδευση του\n",
    "αλγορίθμου από μέρος των δεδομένων έτσι ώστε να μπορεί στη συνέχεια να προβλέπει\n",
    "το αποτέλεσμα όταν η εισαγωγή είναι νέα δεδομένα. Έτσι τα δεδομένα χωρίζονται σε\n",
    "δυο μέρη τα train data και τα test data συνήθως σε μια αναλογία κοντά στο 75-25 διότι\n",
    "όσο μεγαλύτερος είναι ο αριθμός των δεδομένων που χρησιμοποιούμε για να\n",
    "εκπαιδεύσουμε τον αλγόριθμο μας τόσο πιο ακριβής θα είναι η προβλεπτική του\n",
    "ικανότητα. Τα test data είναι αυτά που χρησιμοποιούμε αφού εκπαιδεύσουμε το\n",
    "μοντέλο για να ελέγξουμε πόσο ακριβείς είναι οι προβλέψεις του.\n",
    "Συγκεκριμένα , στο πρόβλημα μας αφού χωρίσαμε το σύνολο των άρθρων μας σε train\n",
    "και test data τροφοδοτήσαμε το μοντέλο της λογιστικής παλινδρόμησης με τα train\n",
    "data.Τέλος έχουμε ως αποτέλεσμα εμφάνισης του κώδικα το ποσοστό ακρίβειας του\n",
    "μοντέλου μας. Όπως εξηγήθηκε και νωρίτερα το μοντέλο μας εκπαιδεύτηκε από το\n",
    "75% των δεδομένων που το τροφοδοτήσαμε και έλεγξε τις επιδόσεις του στο υπόλοιπο\n",
    "25%. Παρατηρούμε ότι οι προβλέψεις μας είναι σωστές κατά 87,22 %.\n",
    "Συμπερασματικά, λοιπόν, μπορούμε να πούμε ότι το μοντέλο που υλοποιήσαμε είναι\n",
    "εύκολα υλοποιήσιμο από άποψη κώδικα και αρκετά αποδοτικό άρα μπορεί να\n",
    "αποτελέσει τη βάση για περαιτέρω έρευνα στον τομέα της ανίχνευσης των Fake News.\n",
    "Συγκεκριμένα, λαμβάνοντας υπόψη και τις πιο πρόσφατες τεχνολογικές εξελίξεις στον\n",
    "τομέα της αυτόματης παραγωγής κειμένου μπορεί να δοκιμαστεί επίσης σε κείμενα\n",
    "που έχουν παραχθεί από μηχανές και να διαπιστωθεί αν είναι εξίσου αποδοτικό.\n",
    "Παράλληλα, θα μπορούσε να γίνει η αφορμή για την αντιμετώπιση παρόμοιων\n",
    "φαινομένων διάδοσης Fake News και στη χώρα μας εμπνέοντας ερευνητές να\n",
    "δημιουργήσουν ένα σύνολο δεδομένων αποτελούμενο από ελληνικά κείμενα και\n",
    "τροποποιώντας κατάλληλα τις βιβλιοθήκες της Python έτσι ώστε να μπορεί να\n",
    "εφαρμοστεί και για κείμενα γραμμένα με ελληνικούς χαρακτήρες. Κάτι τέτοιο θα\n",
    "μπορούσε να αποτελέσει ένα σημαντικό εργαλείο για κάθε επιχείρηση, οργανισμό , τα\n",
    "ΜΚΔ ακόμα και για τις κυβερνήσεις στην προσπάθεια τους να υλοποιήσουν μια\n",
    "πολιτική προστασίας του κοινωνικού συνόλου από τα Fake News."
   ]
  },
  {
   "cell_type": "code",
   "execution_count": 1,
   "id": "53c09142",
   "metadata": {},
   "outputs": [],
   "source": [
    "from sklearn.feature_extraction.text import TfidfVectorizer, CountVectorizer\n",
    "\n",
    "from sklearn.metrics import confusion_matrix\n",
    "from sklearn.metrics import classification_report\n",
    "\n",
    "from sklearn.model_selection import cross_val_score\n",
    "from sklearn.model_selection import cross_val_predict\n",
    "from sklearn.model_selection import train_test_split\n",
    "\n",
    "from sklearn.svm import SVC\n",
    "\n",
    "import pandas as pd\n",
    "import numpy as np\n",
    "import matplotlib.pyplot as plt\n",
    "\n",
    "from sklearn.linear_model import LogisticRegression\n",
    "from sklearn.metrics import roc_auc_score\n",
    "from sklearn.metrics import confusion_matrix\n",
    "import seaborn as sns\n",
    "from time import time\n",
    "from sklearn.model_selection import GridSearchCV\n",
    "from sklearn.model_selection import RepeatedStratifiedKFold"
   ]
  },
  {
   "cell_type": "code",
   "execution_count": 2,
   "id": "0e7f4091",
   "metadata": {},
   "outputs": [],
   "source": [
    "train = pd.read_csv(r'C:/Users/billg/JNfolder/train.csv')\n",
    "test = pd.read_csv(r'C:/Users/billg/JNfolder/test.csv')\n",
    "submit = pd.read_csv(r'C:/Users/billg/JNfolder/submit.csv')\n",
    "test = pd.merge(test,submit,on='id')\n",
    "total = pd.concat([train,test])\n",
    "total = total.dropna(subset=['text', 'label'])"
   ]
  },
  {
   "cell_type": "code",
   "execution_count": 3,
   "id": "1d290d16",
   "metadata": {},
   "outputs": [
    {
     "data": {
      "text/html": [
       "<div>\n",
       "<style scoped>\n",
       "    .dataframe tbody tr th:only-of-type {\n",
       "        vertical-align: middle;\n",
       "    }\n",
       "\n",
       "    .dataframe tbody tr th {\n",
       "        vertical-align: top;\n",
       "    }\n",
       "\n",
       "    .dataframe thead th {\n",
       "        text-align: right;\n",
       "    }\n",
       "</style>\n",
       "<table border=\"1\" class=\"dataframe\">\n",
       "  <thead>\n",
       "    <tr style=\"text-align: right;\">\n",
       "      <th></th>\n",
       "      <th>id</th>\n",
       "      <th>title</th>\n",
       "      <th>author</th>\n",
       "      <th>text</th>\n",
       "      <th>label</th>\n",
       "    </tr>\n",
       "  </thead>\n",
       "  <tbody>\n",
       "    <tr>\n",
       "      <th>0</th>\n",
       "      <td>0</td>\n",
       "      <td>House Dem Aide: We Didn’t Even See Comey’s Let...</td>\n",
       "      <td>Darrell Lucus</td>\n",
       "      <td>House Dem Aide: We Didn’t Even See Comey’s Let...</td>\n",
       "      <td>1</td>\n",
       "    </tr>\n",
       "    <tr>\n",
       "      <th>1</th>\n",
       "      <td>1</td>\n",
       "      <td>FLYNN: Hillary Clinton, Big Woman on Campus - ...</td>\n",
       "      <td>Daniel J. Flynn</td>\n",
       "      <td>Ever get the feeling your life circles the rou...</td>\n",
       "      <td>0</td>\n",
       "    </tr>\n",
       "    <tr>\n",
       "      <th>2</th>\n",
       "      <td>2</td>\n",
       "      <td>Why the Truth Might Get You Fired</td>\n",
       "      <td>Consortiumnews.com</td>\n",
       "      <td>Why the Truth Might Get You Fired October 29, ...</td>\n",
       "      <td>1</td>\n",
       "    </tr>\n",
       "    <tr>\n",
       "      <th>3</th>\n",
       "      <td>3</td>\n",
       "      <td>15 Civilians Killed In Single US Airstrike Hav...</td>\n",
       "      <td>Jessica Purkiss</td>\n",
       "      <td>Videos 15 Civilians Killed In Single US Airstr...</td>\n",
       "      <td>1</td>\n",
       "    </tr>\n",
       "    <tr>\n",
       "      <th>4</th>\n",
       "      <td>4</td>\n",
       "      <td>Iranian woman jailed for fictional unpublished...</td>\n",
       "      <td>Howard Portnoy</td>\n",
       "      <td>Print \\nAn Iranian woman has been sentenced to...</td>\n",
       "      <td>1</td>\n",
       "    </tr>\n",
       "  </tbody>\n",
       "</table>\n",
       "</div>"
      ],
      "text/plain": [
       "   id                                              title              author  \\\n",
       "0   0  House Dem Aide: We Didn’t Even See Comey’s Let...       Darrell Lucus   \n",
       "1   1  FLYNN: Hillary Clinton, Big Woman on Campus - ...     Daniel J. Flynn   \n",
       "2   2                  Why the Truth Might Get You Fired  Consortiumnews.com   \n",
       "3   3  15 Civilians Killed In Single US Airstrike Hav...     Jessica Purkiss   \n",
       "4   4  Iranian woman jailed for fictional unpublished...      Howard Portnoy   \n",
       "\n",
       "                                                text  label  \n",
       "0  House Dem Aide: We Didn’t Even See Comey’s Let...      1  \n",
       "1  Ever get the feeling your life circles the rou...      0  \n",
       "2  Why the Truth Might Get You Fired October 29, ...      1  \n",
       "3  Videos 15 Civilians Killed In Single US Airstr...      1  \n",
       "4  Print \\nAn Iranian woman has been sentenced to...      1  "
      ]
     },
     "execution_count": 3,
     "metadata": {},
     "output_type": "execute_result"
    }
   ],
   "source": [
    "total.head()"
   ]
  },
  {
   "cell_type": "code",
   "execution_count": 4,
   "id": "af64dd26",
   "metadata": {},
   "outputs": [
    {
     "name": "stdout",
     "output_type": "stream",
     "text": [
      "<class 'pandas.core.frame.DataFrame'>\n",
      "Int64Index: 25954 entries, 0 to 5199\n",
      "Data columns (total 5 columns):\n",
      " #   Column  Non-Null Count  Dtype \n",
      "---  ------  --------------  ----- \n",
      " 0   id      25954 non-null  int64 \n",
      " 1   title   25274 non-null  object\n",
      " 2   author  23540 non-null  object\n",
      " 3   text    25954 non-null  object\n",
      " 4   label   25954 non-null  int64 \n",
      "dtypes: int64(2), object(3)\n",
      "memory usage: 1.2+ MB\n"
     ]
    }
   ],
   "source": [
    "total.info()\n"
   ]
  },
  {
   "cell_type": "code",
   "execution_count": 5,
   "id": "597d7fc1",
   "metadata": {},
   "outputs": [],
   "source": [
    "texts = np.asarray(total['text'])\n",
    "labels = np.asarray(total['label'])"
   ]
  },
  {
   "cell_type": "code",
   "execution_count": 6,
   "id": "e0e78bf7",
   "metadata": {},
   "outputs": [],
   "source": [
    "X_train, X_test, y_train, y_test = train_test_split(texts, labels, test_size=0.25, random_state=43)"
   ]
  },
  {
   "cell_type": "code",
   "execution_count": 7,
   "id": "f1166788",
   "metadata": {},
   "outputs": [
    {
     "name": "stdout",
     "output_type": "stream",
     "text": [
      "Wall time: 19.1 s\n"
     ]
    }
   ],
   "source": [
    "%%time\n",
    "vectorizer = TfidfVectorizer(strip_accents='unicode', stop_words='english').fit(X_train)"
   ]
  },
  {
   "cell_type": "code",
   "execution_count": 8,
   "id": "b6598ec1",
   "metadata": {},
   "outputs": [
    {
     "name": "stdout",
     "output_type": "stream",
     "text": [
      "Wall time: 24.8 s\n"
     ]
    }
   ],
   "source": [
    "%%time\n",
    "X_train_tr = vectorizer.transform(X_train)\n",
    "X_test_tr = vectorizer.transform(X_test)"
   ]
  },
  {
   "cell_type": "code",
   "execution_count": 9,
   "id": "e4459892",
   "metadata": {},
   "outputs": [
    {
     "name": "stdout",
     "output_type": "stream",
     "text": [
      "Wall time: 26.1 s\n"
     ]
    }
   ],
   "source": [
    "%%time\n",
    "vec_all = TfidfVectorizer(strip_accents='unicode', stop_words='english').fit(texts)"
   ]
  },
  {
   "cell_type": "code",
   "execution_count": 10,
   "id": "4beeb8c8",
   "metadata": {},
   "outputs": [],
   "source": [
    "from nltk.stem import PorterStemmer\n",
    "import re"
   ]
  },
  {
   "cell_type": "code",
   "execution_count": 11,
   "id": "98c231f8",
   "metadata": {},
   "outputs": [
    {
     "name": "stdout",
     "output_type": "stream",
     "text": [
      "Wall time: 0 ns\n"
     ]
    }
   ],
   "source": [
    "%%time\n",
    "from nltk import word_tokenize          \n",
    "from nltk.stem import WordNetLemmatizer \n",
    "\n",
    "port_stem = PorterStemmer()\n",
    "\n",
    "def WordTokenizer(content):\n",
    "    stemmed_content = re.sub('[^a-zA-Z]',' ',content).lower().split()\n",
    "    #stemmed_content = [port_stem.stem(word) for word in stemmed_content if not word in stopwords]\n",
    "    stemmed_content = [port_stem.stem(word) for word in stemmed_content]\n",
    "    return stemmed_content\n",
    "\n",
    "vect = TfidfVectorizer(tokenizer=WordTokenizer, strip_accents='unicode', stop_words='english')"
   ]
  },
  {
   "cell_type": "code",
   "execution_count": 12,
   "id": "d4349cc9",
   "metadata": {},
   "outputs": [
    {
     "name": "stderr",
     "output_type": "stream",
     "text": [
      "C:\\Users\\billg\\anaconda3\\envs\\jupytenotebook\\lib\\site-packages\\sklearn\\feature_extraction\\text.py:516: UserWarning: The parameter 'token_pattern' will not be used since 'tokenizer' is not None'\n",
      "  warnings.warn(\n",
      "C:\\Users\\billg\\anaconda3\\envs\\jupytenotebook\\lib\\site-packages\\sklearn\\feature_extraction\\text.py:396: UserWarning: Your stop_words may be inconsistent with your preprocessing. Tokenizing the stop words generated tokens ['abov', 'afterward', 'alon', 'alreadi', 'alway', 'ani', 'anoth', 'anyon', 'anyth', 'anywher', 'becam', 'becaus', 'becom', 'befor', 'besid', 'cri', 'describ', 'dure', 'els', 'elsewher', 'empti', 'everi', 'everyon', 'everyth', 'everywher', 'fifti', 'formerli', 'forti', 'ha', 'henc', 'hereaft', 'herebi', 'hi', 'howev', 'hundr', 'inde', 'latterli', 'mani', 'meanwhil', 'moreov', 'mostli', 'nobodi', 'noon', 'noth', 'nowher', 'onc', 'onli', 'otherwis', 'ourselv', 'perhap', 'pleas', 'seriou', 'sever', 'sinc', 'sincer', 'sixti', 'someon', 'someth', 'sometim', 'somewher', 'themselv', 'thenc', 'thereaft', 'therebi', 'therefor', 'thi', 'thu', 'togeth', 'twelv', 'twenti', 'veri', 'wa', 'whatev', 'whenc', 'whenev', 'wherea', 'whereaft', 'wherebi', 'wherev', 'whi', 'yourselv'] not in stop_words.\n",
      "  warnings.warn(\n"
     ]
    },
    {
     "name": "stdout",
     "output_type": "stream",
     "text": [
      "Wall time: 4min 5s\n"
     ]
    },
    {
     "data": {
      "text/plain": [
       "TfidfVectorizer(stop_words='english', strip_accents='unicode',\n",
       "                tokenizer=<function WordTokenizer at 0x0000028C82B9EF70>)"
      ]
     },
     "execution_count": 12,
     "metadata": {},
     "output_type": "execute_result"
    }
   ],
   "source": [
    "%%time\n",
    "vect.fit(X_train)"
   ]
  },
  {
   "cell_type": "code",
   "execution_count": 13,
   "id": "da9c4437",
   "metadata": {},
   "outputs": [
    {
     "name": "stdout",
     "output_type": "stream",
     "text": [
      "Wall time: 3min 48s\n"
     ]
    }
   ],
   "source": [
    "%%time\n",
    "X_train_trans = vect.transform(X_train)"
   ]
  },
  {
   "cell_type": "code",
   "execution_count": 14,
   "id": "44a0dd9a",
   "metadata": {},
   "outputs": [
    {
     "name": "stdout",
     "output_type": "stream",
     "text": [
      "Wall time: 1min 13s\n"
     ]
    }
   ],
   "source": [
    "%%time\n",
    "X_test_trans = vect.transform(X_test)"
   ]
  },
  {
   "cell_type": "code",
   "execution_count": 15,
   "id": "1240adff",
   "metadata": {},
   "outputs": [],
   "source": [
    "import joblib"
   ]
  },
  {
   "cell_type": "code",
   "execution_count": 16,
   "id": "07274151",
   "metadata": {},
   "outputs": [
    {
     "data": {
      "text/plain": [
       "['C:/Users/billg/JNfolder/y_test.pkl']"
      ]
     },
     "execution_count": 16,
     "metadata": {},
     "output_type": "execute_result"
    }
   ],
   "source": [
    "joblib.dump(vect, r'C:/Users/billg/JNfolder/vectorizer.pkl')\n",
    "joblib.dump(X_train_trans, r'C:/Users/billg/JNfolder/X_train_trans.pkl')\n",
    "joblib.dump(X_test_trans, r'C:/Users/billg/JNfolder/X_test_trans.pkl')\n",
    "joblib.dump(y_train, r'C:/Users/billg/JNfolder/y_train.pkl')\n",
    "joblib.dump(y_test, r'C:/Users/billg/JNfolder/y_test.pkl')"
   ]
  },
  {
   "cell_type": "code",
   "execution_count": 17,
   "id": "8b7fb4bc",
   "metadata": {},
   "outputs": [],
   "source": [
    "X_train_trans = joblib.load(r'C:/Users/billg/JNfolder/X_train_trans.pkl')\n",
    "X_test_trans = joblib.load(r'C:/Users/billg/JNfolder/X_test_trans.pkl')\n",
    "y_train = joblib.load(r'C:/Users/billg/JNfolder/y_train.pkl')\n",
    "y_test = joblib.load(r'C:/Users/billg/JNfolder/y_test.pkl')"
   ]
  },
  {
   "cell_type": "code",
   "execution_count": 18,
   "id": "a5e52d75",
   "metadata": {},
   "outputs": [],
   "source": [
    "from sklearn.metrics import precision_score as precision\n",
    "from sklearn.metrics import recall_score as recall\n",
    "from sklearn.metrics import f1_score as f1"
   ]
  },
  {
   "cell_type": "code",
   "execution_count": 19,
   "id": "be9fc0d4",
   "metadata": {},
   "outputs": [
    {
     "name": "stdout",
     "output_type": "stream",
     "text": [
      "0.75\n",
      "1\n",
      "1.25\n",
      "Wall time: 9.32 s\n"
     ]
    }
   ],
   "source": [
    "%%time\n",
    "C = [.75, 1, 1.25]\n",
    "times_ = []\n",
    "train_acc = []\n",
    "test_acc = []\n",
    "pre = []\n",
    "rec = []\n",
    "f1_sc = []\n",
    "for c in C:\n",
    "    print(c)\n",
    "    lgR = LogisticRegression(C=c)\n",
    "    tic = time()\n",
    "    lgR.fit(X_train_trans, y_train)\n",
    "    toc = time()\n",
    "    times_.append(float(toc-tic))\n",
    "    train_acc.append(lgR.score(X_train_trans, y_train))\n",
    "    test_acc.append(lgR.score(X_test_trans, y_test))\n",
    "    pre.append(precision(y_test, lgR.predict(X_test_trans)))\n",
    "    rec.append(recall(y_test, lgR.predict(X_test_trans)))\n",
    "    f1_sc.append(f1(y_test, lgR.predict(X_test_trans)))"
   ]
  },
  {
   "cell_type": "markdown",
   "id": "f5d9d876",
   "metadata": {},
   "source": [
    "λέπουμε ότι η εκπαίδευση του κατηγοριοποιητή είναι αρκετά γρήγορη."
   ]
  },
  {
   "cell_type": "code",
   "execution_count": 20,
   "id": "775f27a0",
   "metadata": {},
   "outputs": [
    {
     "data": {
      "image/png": "[encoded data removed]",
      "text/plain": [
       "<Figure size 432x288 with 1 Axes>"
      ]
     },
     "metadata": {
      "needs_background": "light"
     },
     "output_type": "display_data"
    }
   ],
   "source": [
    "plt.plot(C, pre)\n",
    "plt.plot(C, rec)\n",
    "plt.plot(C, f1_sc)\n",
    "plt.legend(['Precision', 'Recall', 'F1-Score'])\n",
    "plt.xlabel('C parameter')\n",
    "plt.ylabel('Metrics\\' Value')\n",
    "plt.show()"
   ]
  },
  {
   "cell_type": "markdown",
   "id": "50dd0707",
   "metadata": {},
   "source": [
    "Βλέπουμε το F1-Score είναι σχετικά υψηλό και οι τιμές των precision και recall είναι αρκετά κοντά (γεγονός που αποτελεί επιθυμητό μέτρο)."
   ]
  },
  {
   "cell_type": "code",
   "execution_count": 29,
   "id": "8bdceae7",
   "metadata": {},
   "outputs": [
    {
     "name": "stdout",
     "output_type": "stream",
     "text": [
      "Wall time: 9min 9s\n"
     ]
    }
   ],
   "source": [
    "%%time\n",
    "C = np.linspace(.1, 10, 100)\n",
    "scores_ = []\n",
    "times_ = []\n",
    "for c in C:\n",
    "    lgR = LogisticRegression(C=c , max_iter = 1000)\n",
    "    tic = time()\n",
    "    lgR.fit(X_train_trans, y_train)\n",
    "    toc = time()\n",
    "    times_.append(float(toc-tic))\n",
    "    scores_.append(lgR.score(X_test_trans, y_test))"
   ]
  },
  {
   "cell_type": "markdown",
   "id": "d59ccd98",
   "metadata": {},
   "source": [
    "Βλέπουμε ότι χρησιμοποιώντας την LogisticRegression χρειάστηκαν περίπου 9 λεπτά για να εκπαιδεύσουμε και να δοκιμάσουμε 100 μοντέλα."
   ]
  },
  {
   "cell_type": "code",
   "execution_count": 30,
   "id": "4043521d",
   "metadata": {},
   "outputs": [
    {
     "data": {
      "image/png": "[encoded data removed]",
      "text/plain": [
       "<Figure size 432x288 with 1 Axes>"
      ]
     },
     "metadata": {
      "needs_background": "light"
     },
     "output_type": "display_data"
    }
   ],
   "source": [
    "plt.plot(C, scores_)\n",
    "plt.xlabel('C parameter')\n",
    "plt.ylabel('Models\\' Accuracy')\n",
    "plt.title('LogisticRegression')\n",
    "plt.show()"
   ]
  },
  {
   "cell_type": "code",
   "execution_count": 31,
   "id": "3c44234b",
   "metadata": {},
   "outputs": [
    {
     "data": {
      "image/png": "[encoded data removed]",
      "text/plain": [
       "<Figure size 432x288 with 1 Axes>"
      ]
     },
     "metadata": {
      "needs_background": "light"
     },
     "output_type": "display_data"
    }
   ],
   "source": [
    "plt.plot(C, times_)\n",
    "plt.xlabel('C parameter')\n",
    "plt.ylabel('Fitting time (sec)')\n",
    "plt.title('LogisticRegression')\n",
    "plt.show()  "
   ]
  },
  {
   "cell_type": "code",
   "execution_count": 32,
   "id": "b0eb9502",
   "metadata": {},
   "outputs": [
    {
     "name": "stdout",
     "output_type": "stream",
     "text": [
      "Mean Fiatting Time: 5.486042847633362 \n",
      "Fitting Time StD:   1.6719930240462406\n"
     ]
    }
   ],
   "source": [
    "print('Mean Fiatting Time:', np.mean(np.asarray(times_)), '\\nFitting Time StD:  ', np.std(np.asarray(times_)))"
   ]
  },
  {
   "cell_type": "code",
   "execution_count": 33,
   "id": "b1d81f07",
   "metadata": {},
   "outputs": [
    {
     "name": "stdout",
     "output_type": "stream",
     "text": [
      "0.8722700895813237\n",
      "[1 1 1 ... 1 0 1]\n"
     ]
    }
   ],
   "source": [
    "model = LogisticRegression(C=1)\n",
    "model.fit(X_train_trans, y_train)\n",
    "predicted_value = model.predict(X_test_trans)\n",
    "accuracy_value = roc_auc_score(y_test, predicted_value)\n",
    "print(accuracy_value)\n",
    "print(predicted_value)"
   ]
  },
  {
   "cell_type": "code",
   "execution_count": 34,
   "id": "6cec7979",
   "metadata": {},
   "outputs": [
    {
     "data": {
      "text/plain": [
       "<AxesSubplot:>"
      ]
     },
     "execution_count": 34,
     "metadata": {},
     "output_type": "execute_result"
    },
    {
     "data": {
      "image/png": "[encoded data removed]",
      "text/plain": [
       "<Figure size 720x720 with 2 Axes>"
      ]
     },
     "metadata": {
      "needs_background": "light"
     },
     "output_type": "display_data"
    }
   ],
   "source": [
    "cm = confusion_matrix(list(y_test), predicted_value)\n",
    "plt.figure(figsize = (10, 10))\n",
    "sns.heatmap(cm, annot = True,fmt='g',cmap='viridis')"
   ]
  },
  {
   "cell_type": "markdown",
   "id": "53456ba4",
   "metadata": {},
   "source": [
    "2905 Fake News have been Classified as Fake, while 2756 Real News have been classified as Real! Well Done! But we see we still have texts that are misleading and are classified wrong."
   ]
  },
  {
   "cell_type": "markdown",
   "id": "c2b982da",
   "metadata": {},
   "source": [
    "\n",
    "The example below demonstrates grid searching the key hyperparameters for LogisticRegression"
   ]
  },
  {
   "cell_type": "code",
   "execution_count": 27,
   "id": "3dff64a8",
   "metadata": {},
   "outputs": [
    {
     "name": "stdout",
     "output_type": "stream",
     "text": [
      "Best: 0.869852 using {'C': 1.0, 'penalty': 'l2', 'solver': 'liblinear'}\n",
      "0.845740 (0.007505) with: {'C': 100, 'penalty': 'l2', 'solver': 'newton-cg'}\n",
      "0.845227 (0.007426) with: {'C': 100, 'penalty': 'l2', 'solver': 'lbfgs'}\n",
      "0.845655 (0.007546) with: {'C': 100, 'penalty': 'l2', 'solver': 'liblinear'}\n",
      "0.863276 (0.006646) with: {'C': 10, 'penalty': 'l2', 'solver': 'newton-cg'}\n",
      "0.863362 (0.006596) with: {'C': 10, 'penalty': 'l2', 'solver': 'lbfgs'}\n",
      "0.863276 (0.006613) with: {'C': 10, 'penalty': 'l2', 'solver': 'liblinear'}\n",
      "0.869698 (0.007273) with: {'C': 1.0, 'penalty': 'l2', 'solver': 'newton-cg'}\n",
      "0.869646 (0.007302) with: {'C': 1.0, 'penalty': 'l2', 'solver': 'lbfgs'}\n",
      "0.869852 (0.007216) with: {'C': 1.0, 'penalty': 'l2', 'solver': 'liblinear'}\n",
      "0.841407 (0.007941) with: {'C': 0.1, 'penalty': 'l2', 'solver': 'newton-cg'}\n",
      "0.841425 (0.007928) with: {'C': 0.1, 'penalty': 'l2', 'solver': 'lbfgs'}\n",
      "0.842041 (0.007994) with: {'C': 0.1, 'penalty': 'l2', 'solver': 'liblinear'}\n",
      "0.790564 (0.008889) with: {'C': 0.01, 'penalty': 'l2', 'solver': 'newton-cg'}\n",
      "0.790564 (0.008889) with: {'C': 0.01, 'penalty': 'l2', 'solver': 'lbfgs'}\n",
      "0.796541 (0.009680) with: {'C': 0.01, 'penalty': 'l2', 'solver': 'liblinear'}\n"
     ]
    }
   ],
   "source": [
    "model = LogisticRegression()\n",
    "solvers = ['newton-cg', 'lbfgs', 'liblinear']\n",
    "penalty = ['l2']\n",
    "c_values = [100, 10, 1.0, 0.1, 0.01]\n",
    "# define grid search\n",
    "grid = dict(solver=solvers,penalty=penalty,C=c_values)\n",
    "cv = RepeatedStratifiedKFold(n_splits=10, n_repeats=3, random_state=1)\n",
    "grid_search = GridSearchCV(estimator=model, param_grid=grid, n_jobs=-1, cv=cv, scoring='accuracy',error_score=0)\n",
    "grid_result = grid_search.fit(X_train_trans, y_train)\n",
    "# summarize results\n",
    "print(\"Best: %f using %s\" % (grid_result.best_score_, grid_result.best_params_))\n",
    "means = grid_result.cv_results_['mean_test_score']\n",
    "stds = grid_result.cv_results_['std_test_score']\n",
    "params = grid_result.cv_results_['params']\n",
    "for mean, stdev, param in zip(means, stds, params):\n",
    "    print(\"%f (%f) with: %r\" % (mean, stdev, param))"
   ]
  },
  {
   "cell_type": "markdown",
   "id": "3b39a6d7",
   "metadata": {},
   "source": [
    "Brownlee, J. (2016). Machine Learning Mastery. Ανάκτηση από Logistic Regression\n",
    "for Machine Learning: https://machinelearningmastery.com/logisticregression-for-machine-learning/\n",
    "Chaudhary, M. (2020). TF-IDF Vectorizer scikit-learn. Ανάκτηση από Medium:\n",
    "https://medium.com/@cmukesh8688/tf-idf-vectorizer-scikit-learndbc0244a911a\n",
    "Fagni, T., Falchi, F., Gambini, M., Martella, A., & Tesconi, M. (2021). TweepFake:\n",
    "About detecting deepfake tweets. PLoS One.\n",
    "doi:10.1371/journal.pone.0251415"
   ]
  },
  {
   "cell_type": "code",
   "execution_count": null,
   "id": "76c98a71",
   "metadata": {},
   "outputs": [],
   "source": []
  }
 ],
 "metadata": {
  "kernelspec": {
   "display_name": "Python 3 (ipykernel)",
   "language": "python",
   "name": "python3"
  },
  "language_info": {
   "codemirror_mode": {
    "name": "ipython",
    "version": 3
   },
   "file_extension": ".py",
   "mimetype": "text/x-python",
   "name": "python",
   "nbconvert_exporter": "python",
   "pygments_lexer": "ipython3",
   "version": "3.9.7"
  }
 },
 "nbformat": 4,
 "nbformat_minor": 5
}
